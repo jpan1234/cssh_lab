{
 "cells": [
  {
   "cell_type": "code",
   "execution_count": 10,
   "id": "5c4b1c4b",
   "metadata": {},
   "outputs": [
    {
     "name": "stderr",
     "output_type": "stream",
     "text": [
      "/Users/jeffreypan/opt/anaconda3/lib/python3.8/site-packages/ipykernel/ipkernel.py:287: DeprecationWarning: `should_run_async` will not call `transform_cell` automatically in the future. Please pass the result to `transformed_cell` argument and any exception that happen during thetransform in `preprocessing_exc_tuple` in IPython 7.17 and above.\n",
      "  and should_run_async(code)\n"
     ]
    }
   ],
   "source": [
    "import pandas as pd\n",
    "import numpy as np\n",
    "import nltk\n",
    "import pickle\n",
    "from collections import Counter\n",
    "from textblob import TextBlob\n",
    "from nltk.tokenize import word_tokenize\n",
    "from nltk.probability import FreqDist\n",
    "from sklearn.feature_extraction.text import CountVectorizer\n",
    "from sklearn.feature_extraction.text import TfidfVectorizer\n",
    "from sklearn.decomposition import LatentDirichletAllocation, NMF\n",
    "from wordcloud import WordCloud, ImageColorGenerator\n",
    "import matplotlib.pyplot as plt\n",
    "import seaborn as sns"
   ]
  },
  {
   "cell_type": "code",
   "execution_count": 11,
   "id": "dfbef91d",
   "metadata": {},
   "outputs": [
    {
     "name": "stderr",
     "output_type": "stream",
     "text": [
      "/Users/jeffreypan/opt/anaconda3/lib/python3.8/site-packages/ipykernel/ipkernel.py:287: DeprecationWarning: `should_run_async` will not call `transform_cell` automatically in the future. Please pass the result to `transformed_cell` argument and any exception that happen during thetransform in `preprocessing_exc_tuple` in IPython 7.17 and above.\n",
      "  and should_run_async(code)\n"
     ]
    }
   ],
   "source": [
    "import pandas as pd\n",
    "import numpy as np\n",
    "import ast"
   ]
  },
  {
   "cell_type": "code",
   "execution_count": 12,
   "id": "9ede1132",
   "metadata": {},
   "outputs": [
    {
     "name": "stderr",
     "output_type": "stream",
     "text": [
      "/Users/jeffreypan/opt/anaconda3/lib/python3.8/site-packages/ipykernel/ipkernel.py:287: DeprecationWarning: `should_run_async` will not call `transform_cell` automatically in the future. Please pass the result to `transformed_cell` argument and any exception that happen during thetransform in `preprocessing_exc_tuple` in IPython 7.17 and above.\n",
      "  and should_run_async(code)\n"
     ]
    },
    {
     "data": {
      "text/plain": [
       "\"{'retweet_count': 76, 'reply_count': 5, 'like_count': 311, 'quote_count': 6}\""
      ]
     },
     "execution_count": 12,
     "metadata": {},
     "output_type": "execute_result"
    }
   ],
   "source": [
    "# initialize dataframe\n",
    "df = pd.read_csv('alldata 0802.csv')\n",
    "\n",
    "df['public_metrics'][0]"
   ]
  },
  {
   "cell_type": "code",
   "execution_count": 13,
   "id": "72088058",
   "metadata": {},
   "outputs": [
    {
     "name": "stderr",
     "output_type": "stream",
     "text": [
      "/Users/jeffreypan/opt/anaconda3/lib/python3.8/site-packages/ipykernel/ipkernel.py:287: DeprecationWarning: `should_run_async` will not call `transform_cell` automatically in the future. Please pass the result to `transformed_cell` argument and any exception that happen during thetransform in `preprocessing_exc_tuple` in IPython 7.17 and above.\n",
      "  and should_run_async(code)\n"
     ]
    }
   ],
   "source": [
    "def res(string_dict):\n",
    "    return ast.literal_eval(string_dict)\n",
    "\n",
    "# set the dictinary as a dictionary\n",
    "df['public_metrics'] = df['public_metrics'].apply(res)"
   ]
  },
  {
   "cell_type": "code",
   "execution_count": 14,
   "id": "aa54a0b2",
   "metadata": {
    "scrolled": true
   },
   "outputs": [
    {
     "name": "stderr",
     "output_type": "stream",
     "text": [
      "/Users/jeffreypan/opt/anaconda3/lib/python3.8/site-packages/ipykernel/ipkernel.py:287: DeprecationWarning: `should_run_async` will not call `transform_cell` automatically in the future. Please pass the result to `transformed_cell` argument and any exception that happen during thetransform in `preprocessing_exc_tuple` in IPython 7.17 and above.\n",
      "  and should_run_async(code)\n"
     ]
    },
    {
     "data": {
      "text/plain": [
       "Index(['Unnamed: 0', 'created_at', 'text', 'entities', 'public_metrics',\n",
       "       'union name', 'Relevance:blank = relevant, 1=irrelevant, 2=discuss'],\n",
       "      dtype='object')"
      ]
     },
     "execution_count": 14,
     "metadata": {},
     "output_type": "execute_result"
    }
   ],
   "source": [
    "df.columns"
   ]
  },
  {
   "cell_type": "code",
   "execution_count": 15,
   "id": "bbab3c31",
   "metadata": {},
   "outputs": [
    {
     "name": "stderr",
     "output_type": "stream",
     "text": [
      "/Users/jeffreypan/opt/anaconda3/lib/python3.8/site-packages/ipykernel/ipkernel.py:287: DeprecationWarning: `should_run_async` will not call `transform_cell` automatically in the future. Please pass the result to `transformed_cell` argument and any exception that happen during thetransform in `preprocessing_exc_tuple` in IPython 7.17 and above.\n",
      "  and should_run_async(code)\n"
     ]
    }
   ],
   "source": [
    "# obtain the columns\n",
    "df = df[['created_at','text', 'entities','public_metrics','union name']]"
   ]
  },
  {
   "cell_type": "code",
   "execution_count": 16,
   "id": "930ec51e",
   "metadata": {},
   "outputs": [
    {
     "name": "stderr",
     "output_type": "stream",
     "text": [
      "/Users/jeffreypan/opt/anaconda3/lib/python3.8/site-packages/ipykernel/ipkernel.py:287: DeprecationWarning: `should_run_async` will not call `transform_cell` automatically in the future. Please pass the result to `transformed_cell` argument and any exception that happen during thetransform in `preprocessing_exc_tuple` in IPython 7.17 and above.\n",
      "  and should_run_async(code)\n"
     ]
    },
    {
     "data": {
      "text/html": [
       "<div>\n",
       "<style scoped>\n",
       "    .dataframe tbody tr th:only-of-type {\n",
       "        vertical-align: middle;\n",
       "    }\n",
       "\n",
       "    .dataframe tbody tr th {\n",
       "        vertical-align: top;\n",
       "    }\n",
       "\n",
       "    .dataframe thead th {\n",
       "        text-align: right;\n",
       "    }\n",
       "</style>\n",
       "<table border=\"1\" class=\"dataframe\">\n",
       "  <thead>\n",
       "    <tr style=\"text-align: right;\">\n",
       "      <th></th>\n",
       "      <th>created_at</th>\n",
       "      <th>text</th>\n",
       "      <th>entities</th>\n",
       "      <th>public_metrics</th>\n",
       "      <th>union name</th>\n",
       "    </tr>\n",
       "  </thead>\n",
       "  <tbody>\n",
       "    <tr>\n",
       "      <th>0</th>\n",
       "      <td>2022-06-08T01:39:00.000Z</td>\n",
       "      <td>Every student in America—Black, brown or white...</td>\n",
       "      <td>{'annotations': [{'start': 17, 'end': 23, 'pro...</td>\n",
       "      <td>{'retweet_count': 76, 'reply_count': 5, 'like_...</td>\n",
       "      <td>NEAToday</td>\n",
       "    </tr>\n",
       "    <tr>\n",
       "      <th>1</th>\n",
       "      <td>2022-05-20T00:10:00.000Z</td>\n",
       "      <td>So far, education advocates have not had a cle...</td>\n",
       "      <td>{'urls': [{'start': 109, 'end': 132, 'url': 'h...</td>\n",
       "      <td>{'retweet_count': 3, 'reply_count': 1, 'like_c...</td>\n",
       "      <td>NEAToday</td>\n",
       "    </tr>\n",
       "    <tr>\n",
       "      <th>2</th>\n",
       "      <td>2022-05-19T17:07:04.000Z</td>\n",
       "      <td>When educators and management come together us...</td>\n",
       "      <td>{'urls': [{'start': 164, 'end': 187, 'url': 'h...</td>\n",
       "      <td>{'retweet_count': 6, 'reply_count': 1, 'like_c...</td>\n",
       "      <td>NEAToday</td>\n",
       "    </tr>\n",
       "    <tr>\n",
       "      <th>3</th>\n",
       "      <td>2022-05-09T17:47:01.000Z</td>\n",
       "      <td>The mental health of our students must be a to...</td>\n",
       "      <td>{'annotations': [{'start': 202, 'end': 227, 'p...</td>\n",
       "      <td>{'retweet_count': 15, 'reply_count': 4, 'like_...</td>\n",
       "      <td>NEAToday</td>\n",
       "    </tr>\n",
       "    <tr>\n",
       "      <th>4</th>\n",
       "      <td>2022-04-22T19:46:02.000Z</td>\n",
       "      <td>One way to honor #EarthDay: Introduce your stu...</td>\n",
       "      <td>{'hashtags': [{'start': 17, 'end': 26, 'tag': ...</td>\n",
       "      <td>{'retweet_count': 15, 'reply_count': 2, 'like_...</td>\n",
       "      <td>NEAToday</td>\n",
       "    </tr>\n",
       "    <tr>\n",
       "      <th>...</th>\n",
       "      <td>...</td>\n",
       "      <td>...</td>\n",
       "      <td>...</td>\n",
       "      <td>...</td>\n",
       "      <td>...</td>\n",
       "    </tr>\n",
       "    <tr>\n",
       "      <th>11960</th>\n",
       "      <td>2012-03-12T19:45:04.000Z</td>\n",
       "      <td>Unite Here Local 427 in Missoula wants a promi...</td>\n",
       "      <td>{'hashtags': [{'start': 93, 'end': 96, 'tag': ...</td>\n",
       "      <td>{'retweet_count': 1, 'reply_count': 0, 'like_c...</td>\n",
       "      <td>unithere</td>\n",
       "    </tr>\n",
       "    <tr>\n",
       "      <th>11961</th>\n",
       "      <td>2012-03-06T21:50:04.000Z</td>\n",
       "      <td>100 years before OSHA - these kids were workin...</td>\n",
       "      <td>{'urls': [{'start': 85, 'end': 105, 'url': 'ht...</td>\n",
       "      <td>{'retweet_count': 1, 'reply_count': 0, 'like_c...</td>\n",
       "      <td>unithere</td>\n",
       "    </tr>\n",
       "    <tr>\n",
       "      <th>11962</th>\n",
       "      <td>2012-02-27T21:35:06.000Z</td>\n",
       "      <td>WOO!  New Contract Ratified at Consol Energy C...</td>\n",
       "      <td>{'hashtags': [{'start': 53, 'end': 56, 'tag': ...</td>\n",
       "      <td>{'retweet_count': 0, 'reply_count': 0, 'like_c...</td>\n",
       "      <td>unithere</td>\n",
       "    </tr>\n",
       "    <tr>\n",
       "      <th>11963</th>\n",
       "      <td>2012-02-11T00:29:24.000Z</td>\n",
       "      <td>Regional director Shawn Bagley isn't just a co...</td>\n",
       "      <td>{'urls': [{'start': 115, 'end': 135, 'url': 'h...</td>\n",
       "      <td>{'retweet_count': 1, 'reply_count': 0, 'like_c...</td>\n",
       "      <td>unithere</td>\n",
       "    </tr>\n",
       "    <tr>\n",
       "      <th>11964</th>\n",
       "      <td>2011-09-14T18:13:32.000Z</td>\n",
       "      <td>As @sandraMHyatt points out, health and safety...</td>\n",
       "      <td>{'hashtags': [{'start': 127, 'end': 138, 'tag'...</td>\n",
       "      <td>{'retweet_count': 0, 'reply_count': 0, 'like_c...</td>\n",
       "      <td>unithere</td>\n",
       "    </tr>\n",
       "  </tbody>\n",
       "</table>\n",
       "<p>11965 rows × 5 columns</p>\n",
       "</div>"
      ],
      "text/plain": [
       "                     created_at  \\\n",
       "0      2022-06-08T01:39:00.000Z   \n",
       "1      2022-05-20T00:10:00.000Z   \n",
       "2      2022-05-19T17:07:04.000Z   \n",
       "3      2022-05-09T17:47:01.000Z   \n",
       "4      2022-04-22T19:46:02.000Z   \n",
       "...                         ...   \n",
       "11960  2012-03-12T19:45:04.000Z   \n",
       "11961  2012-03-06T21:50:04.000Z   \n",
       "11962  2012-02-27T21:35:06.000Z   \n",
       "11963  2012-02-11T00:29:24.000Z   \n",
       "11964  2011-09-14T18:13:32.000Z   \n",
       "\n",
       "                                                    text  \\\n",
       "0      Every student in America—Black, brown or white...   \n",
       "1      So far, education advocates have not had a cle...   \n",
       "2      When educators and management come together us...   \n",
       "3      The mental health of our students must be a to...   \n",
       "4      One way to honor #EarthDay: Introduce your stu...   \n",
       "...                                                  ...   \n",
       "11960  Unite Here Local 427 in Missoula wants a promi...   \n",
       "11961  100 years before OSHA - these kids were workin...   \n",
       "11962  WOO!  New Contract Ratified at Consol Energy C...   \n",
       "11963  Regional director Shawn Bagley isn't just a co...   \n",
       "11964  As @sandraMHyatt points out, health and safety...   \n",
       "\n",
       "                                                entities  \\\n",
       "0      {'annotations': [{'start': 17, 'end': 23, 'pro...   \n",
       "1      {'urls': [{'start': 109, 'end': 132, 'url': 'h...   \n",
       "2      {'urls': [{'start': 164, 'end': 187, 'url': 'h...   \n",
       "3      {'annotations': [{'start': 202, 'end': 227, 'p...   \n",
       "4      {'hashtags': [{'start': 17, 'end': 26, 'tag': ...   \n",
       "...                                                  ...   \n",
       "11960  {'hashtags': [{'start': 93, 'end': 96, 'tag': ...   \n",
       "11961  {'urls': [{'start': 85, 'end': 105, 'url': 'ht...   \n",
       "11962  {'hashtags': [{'start': 53, 'end': 56, 'tag': ...   \n",
       "11963  {'urls': [{'start': 115, 'end': 135, 'url': 'h...   \n",
       "11964  {'hashtags': [{'start': 127, 'end': 138, 'tag'...   \n",
       "\n",
       "                                          public_metrics union name  \n",
       "0      {'retweet_count': 76, 'reply_count': 5, 'like_...   NEAToday  \n",
       "1      {'retweet_count': 3, 'reply_count': 1, 'like_c...   NEAToday  \n",
       "2      {'retweet_count': 6, 'reply_count': 1, 'like_c...   NEAToday  \n",
       "3      {'retweet_count': 15, 'reply_count': 4, 'like_...   NEAToday  \n",
       "4      {'retweet_count': 15, 'reply_count': 2, 'like_...   NEAToday  \n",
       "...                                                  ...        ...  \n",
       "11960  {'retweet_count': 1, 'reply_count': 0, 'like_c...   unithere  \n",
       "11961  {'retweet_count': 1, 'reply_count': 0, 'like_c...   unithere  \n",
       "11962  {'retweet_count': 0, 'reply_count': 0, 'like_c...   unithere  \n",
       "11963  {'retweet_count': 1, 'reply_count': 0, 'like_c...   unithere  \n",
       "11964  {'retweet_count': 0, 'reply_count': 0, 'like_c...   unithere  \n",
       "\n",
       "[11965 rows x 5 columns]"
      ]
     },
     "execution_count": 16,
     "metadata": {},
     "output_type": "execute_result"
    }
   ],
   "source": [
    "df"
   ]
  },
  {
   "cell_type": "code",
   "execution_count": 17,
   "id": "b11bc63e",
   "metadata": {},
   "outputs": [
    {
     "name": "stderr",
     "output_type": "stream",
     "text": [
      "/Users/jeffreypan/opt/anaconda3/lib/python3.8/site-packages/ipykernel/ipkernel.py:287: DeprecationWarning: `should_run_async` will not call `transform_cell` automatically in the future. Please pass the result to `transformed_cell` argument and any exception that happen during thetransform in `preprocessing_exc_tuple` in IPython 7.17 and above.\n",
      "  and should_run_async(code)\n"
     ]
    }
   ],
   "source": [
    "#often, we want to remove stopwords\n",
    "stopwords = ['i', 'me', 'my', 'myself', 'we', 'our', 'ours', 'ourselves', 'you', 'your', 'yours', \n",
    "                     'yourself', 'yourselves', 'he', 'him', 'his', 'himself', 'she', 'her', 'hers', 'herself', \n",
    "                     'it', 'its', 'itself', 'they', 'them', 'their', 'theirs', 'themselves', 'what', 'which', \n",
    "                     'who', 'whom', 'this', 'that', 'these', 'those', 'am', 'is', 'are', 'was', 'were', 'be', \n",
    "                     'been', 'being', 'have', 'has', 'had', 'having', 'do', 'does', 'did', 'doing', 'a', 'an', \n",
    "                     'the', 'and', 'but', 'if', 'or', 'because', 'as', 'until', 'while', 'of', 'at', 'by', 'for', \n",
    "                     'with', 'about', 'against', 'between', 'into', 'through', 'during', 'before', 'after', \n",
    "                     'above', 'below', 'to', 'from', 'up', 'down', 'in', 'out', 'on', 'off', 'over', \n",
    "                     'under', 'again', 'further', 'then', 'once', 'here', 'there', 'when', 'where', 'why', \n",
    "                     'how', 'all', 'any', 'both', 'each', 'few', 'more', 'most', 'other', 'some', 'such', 'no', \n",
    "                     'nor', 'not', 'only', 'own', 'same', 'so', 'than', 'too', 'very', 'can', 'will',\n",
    "                     'just', 'dont', 'should', 'aint', 'arent', 'couldn', 'could', 'would', 'much', 'must',\n",
    "                     'didnt', 'doesnt', 'hadnt', 'hasnt', 'havent', 'isnt', 'mightnt', 'mustnt', 'neednt', 'shan',\n",
    "                     'shouldnt', 'wasnt', 'werent', 'wont', 'wouldnt','rt','mt','amp','mil','ve','don','s','st','pres','req','aft','ua', 'via']"
   ]
  },
  {
   "cell_type": "code",
   "execution_count": 18,
   "id": "cca7a924",
   "metadata": {},
   "outputs": [
    {
     "name": "stderr",
     "output_type": "stream",
     "text": [
      "/Users/jeffreypan/opt/anaconda3/lib/python3.8/site-packages/ipykernel/ipkernel.py:287: DeprecationWarning: `should_run_async` will not call `transform_cell` automatically in the future. Please pass the result to `transformed_cell` argument and any exception that happen during thetransform in `preprocessing_exc_tuple` in IPython 7.17 and above.\n",
      "  and should_run_async(code)\n",
      "<>:17: DeprecationWarning: invalid escape sequence \\[\n",
      "<>:17: DeprecationWarning: invalid escape sequence \\[\n",
      "<ipython-input-18-58ed2c1ea6e0>:17: DeprecationWarning: invalid escape sequence \\[\n",
      "  temp = re.sub('\\[.*?\\]',' ', temp)\n"
     ]
    }
   ],
   "source": [
    " #adopted from catriscode, https://catriscode.com/2021/05/01/tweets-cleaning-with-python/\n",
    "\n",
    "import numpy as np\n",
    "import re\n",
    "\n",
    "def clean_tweet(tweet):\n",
    "    raw_tweet = str(tweet)\n",
    "    if type(tweet) == float:\n",
    "        return \"\"\n",
    "    temp = re.sub(\"'\", \"\", str(tweet)) # to avoid removing contractions in english\n",
    "    temp = temp.lower()\n",
    "    temp = re.sub(\"@[A-Za-z0-9_]+\",\"\", temp)\n",
    "    temp = re.sub(\"#[A-Za-z0-9_]+\",\"\", temp)\n",
    "    temp = re.sub(r'http\\S+', '', temp)\n",
    "    temp = re.sub(r\"www.\\S+\", \"\", temp)\n",
    "    temp = re.sub('[()!?]', ' ', temp)\n",
    "    temp = re.sub('\\[.*?\\]',' ', temp)\n",
    "    #temp = re.sub(\"[^a-z0-9]\",\" \", temp) # this removes all letters including CO2\n",
    "    temp = re.sub(\"[^a-z]\",\" \", temp)\n",
    "    temp = temp.split()\n",
    "    temp = [w for w in temp if not w in stopwords]\n",
    "    temp = \" \".join(word for word in temp)\n",
    "    \n",
    "    if temp is None:\n",
    "        print (raw_tweet,temp)\n",
    "        \n",
    "    return temp"
   ]
  },
  {
   "cell_type": "code",
   "execution_count": 19,
   "id": "0bb24a7b",
   "metadata": {
    "scrolled": true
   },
   "outputs": [
    {
     "name": "stderr",
     "output_type": "stream",
     "text": [
      "/Users/jeffreypan/opt/anaconda3/lib/python3.8/site-packages/ipykernel/ipkernel.py:287: DeprecationWarning: `should_run_async` will not call `transform_cell` automatically in the future. Please pass the result to `transformed_cell` argument and any exception that happen during thetransform in `preprocessing_exc_tuple` in IPython 7.17 and above.\n",
      "  and should_run_async(code)\n"
     ]
    }
   ],
   "source": [
    "# create clean text column\n",
    "df['clean_text'] = df['text'].apply(clean_tweet)"
   ]
  },
  {
   "cell_type": "code",
   "execution_count": 20,
   "id": "e2f9e08d",
   "metadata": {},
   "outputs": [
    {
     "name": "stderr",
     "output_type": "stream",
     "text": [
      "/Users/jeffreypan/opt/anaconda3/lib/python3.8/site-packages/ipykernel/ipkernel.py:287: DeprecationWarning: `should_run_async` will not call `transform_cell` automatically in the future. Please pass the result to `transformed_cell` argument and any exception that happen during thetransform in `preprocessing_exc_tuple` in IPython 7.17 and above.\n",
      "  and should_run_async(code)\n"
     ]
    }
   ],
   "source": [
    "df = df.dropna(subset=['clean_text'])\n",
    "df\n",
    "#empty data with cleaning procedure\n",
    "\n",
    "#`reset_index()`will recreate index column every time we run it on same data \n",
    "#`drop = True` paramater won’t create that as column in the dataframe, look at the difference between following two dataset\n",
    "df = df.reset_index(drop=False) "
   ]
  },
  {
   "cell_type": "code",
   "execution_count": 21,
   "id": "f2591f3a",
   "metadata": {},
   "outputs": [
    {
     "name": "stderr",
     "output_type": "stream",
     "text": [
      "/Users/jeffreypan/opt/anaconda3/lib/python3.8/site-packages/ipykernel/ipkernel.py:287: DeprecationWarning: `should_run_async` will not call `transform_cell` automatically in the future. Please pass the result to `transformed_cell` argument and any exception that happen during thetransform in `preprocessing_exc_tuple` in IPython 7.17 and above.\n",
      "  and should_run_async(code)\n"
     ]
    },
    {
     "data": {
      "text/html": [
       "<div>\n",
       "<style scoped>\n",
       "    .dataframe tbody tr th:only-of-type {\n",
       "        vertical-align: middle;\n",
       "    }\n",
       "\n",
       "    .dataframe tbody tr th {\n",
       "        vertical-align: top;\n",
       "    }\n",
       "\n",
       "    .dataframe thead th {\n",
       "        text-align: right;\n",
       "    }\n",
       "</style>\n",
       "<table border=\"1\" class=\"dataframe\">\n",
       "  <thead>\n",
       "    <tr style=\"text-align: right;\">\n",
       "      <th></th>\n",
       "      <th>index</th>\n",
       "      <th>created_at</th>\n",
       "      <th>text</th>\n",
       "      <th>entities</th>\n",
       "      <th>public_metrics</th>\n",
       "      <th>union name</th>\n",
       "      <th>clean_text</th>\n",
       "    </tr>\n",
       "  </thead>\n",
       "  <tbody>\n",
       "    <tr>\n",
       "      <th>0</th>\n",
       "      <td>0</td>\n",
       "      <td>2022-06-08T01:39:00.000Z</td>\n",
       "      <td>Every student in America—Black, brown or white...</td>\n",
       "      <td>{'annotations': [{'start': 17, 'end': 23, 'pro...</td>\n",
       "      <td>{'retweet_count': 76, 'reply_count': 5, 'like_...</td>\n",
       "      <td>NEAToday</td>\n",
       "      <td>every student america black brown white native...</td>\n",
       "    </tr>\n",
       "    <tr>\n",
       "      <th>1</th>\n",
       "      <td>1</td>\n",
       "      <td>2022-05-20T00:10:00.000Z</td>\n",
       "      <td>So far, education advocates have not had a cle...</td>\n",
       "      <td>{'urls': [{'start': 109, 'end': 132, 'url': 'h...</td>\n",
       "      <td>{'retweet_count': 3, 'reply_count': 1, 'like_c...</td>\n",
       "      <td>NEAToday</td>\n",
       "      <td>far education advocates clear role addressing ...</td>\n",
       "    </tr>\n",
       "    <tr>\n",
       "      <th>2</th>\n",
       "      <td>2</td>\n",
       "      <td>2022-05-19T17:07:04.000Z</td>\n",
       "      <td>When educators and management come together us...</td>\n",
       "      <td>{'urls': [{'start': 164, 'end': 187, 'url': 'h...</td>\n",
       "      <td>{'retweet_count': 6, 'reply_count': 1, 'like_c...</td>\n",
       "      <td>NEAToday</td>\n",
       "      <td>educators management come together using susta...</td>\n",
       "    </tr>\n",
       "    <tr>\n",
       "      <th>3</th>\n",
       "      <td>3</td>\n",
       "      <td>2022-05-09T17:47:01.000Z</td>\n",
       "      <td>The mental health of our students must be a to...</td>\n",
       "      <td>{'annotations': [{'start': 202, 'end': 227, 'p...</td>\n",
       "      <td>{'retweet_count': 15, 'reply_count': 4, 'like_...</td>\n",
       "      <td>NEAToday</td>\n",
       "      <td>mental health students top priority school com...</td>\n",
       "    </tr>\n",
       "    <tr>\n",
       "      <th>4</th>\n",
       "      <td>4</td>\n",
       "      <td>2022-04-22T19:46:02.000Z</td>\n",
       "      <td>One way to honor #EarthDay: Introduce your stu...</td>\n",
       "      <td>{'hashtags': [{'start': 17, 'end': 26, 'tag': ...</td>\n",
       "      <td>{'retweet_count': 15, 'reply_count': 2, 'like_...</td>\n",
       "      <td>NEAToday</td>\n",
       "      <td>one way honor introduce students girls green w...</td>\n",
       "    </tr>\n",
       "    <tr>\n",
       "      <th>...</th>\n",
       "      <td>...</td>\n",
       "      <td>...</td>\n",
       "      <td>...</td>\n",
       "      <td>...</td>\n",
       "      <td>...</td>\n",
       "      <td>...</td>\n",
       "      <td>...</td>\n",
       "    </tr>\n",
       "    <tr>\n",
       "      <th>11960</th>\n",
       "      <td>11960</td>\n",
       "      <td>2012-03-12T19:45:04.000Z</td>\n",
       "      <td>Unite Here Local 427 in Missoula wants a promi...</td>\n",
       "      <td>{'hashtags': [{'start': 93, 'end': 96, 'tag': ...</td>\n",
       "      <td>{'retweet_count': 1, 'reply_count': 0, 'like_c...</td>\n",
       "      <td>unithere</td>\n",
       "      <td>unite local missoula wants promise good jobs e...</td>\n",
       "    </tr>\n",
       "    <tr>\n",
       "      <th>11961</th>\n",
       "      <td>11961</td>\n",
       "      <td>2012-03-06T21:50:04.000Z</td>\n",
       "      <td>100 years before OSHA - these kids were workin...</td>\n",
       "      <td>{'urls': [{'start': 85, 'end': 105, 'url': 'ht...</td>\n",
       "      <td>{'retweet_count': 1, 'reply_count': 0, 'like_c...</td>\n",
       "      <td>unithere</td>\n",
       "      <td>years osha kids working mines</td>\n",
       "    </tr>\n",
       "    <tr>\n",
       "      <th>11962</th>\n",
       "      <td>11962</td>\n",
       "      <td>2012-02-27T21:35:06.000Z</td>\n",
       "      <td>WOO!  New Contract Ratified at Consol Energy C...</td>\n",
       "      <td>{'hashtags': [{'start': 53, 'end': 56, 'tag': ...</td>\n",
       "      <td>{'retweet_count': 0, 'reply_count': 0, 'like_c...</td>\n",
       "      <td>unithere</td>\n",
       "      <td>woo new contract ratified consol energy center</td>\n",
       "    </tr>\n",
       "    <tr>\n",
       "      <th>11963</th>\n",
       "      <td>11963</td>\n",
       "      <td>2012-02-11T00:29:24.000Z</td>\n",
       "      <td>Regional director Shawn Bagley isn't just a co...</td>\n",
       "      <td>{'urls': [{'start': 115, 'end': 135, 'url': 'h...</td>\n",
       "      <td>{'retweet_count': 1, 'reply_count': 0, 'like_c...</td>\n",
       "      <td>unithere</td>\n",
       "      <td>regional director shawn bagley cop hes cop jus...</td>\n",
       "    </tr>\n",
       "    <tr>\n",
       "      <th>11964</th>\n",
       "      <td>11964</td>\n",
       "      <td>2011-09-14T18:13:32.000Z</td>\n",
       "      <td>As @sandraMHyatt points out, health and safety...</td>\n",
       "      <td>{'hashtags': [{'start': 127, 'end': 138, 'tag'...</td>\n",
       "      <td>{'retweet_count': 0, 'reply_count': 0, 'like_c...</td>\n",
       "      <td>unithere</td>\n",
       "      <td>points health safety critical issues many peop...</td>\n",
       "    </tr>\n",
       "  </tbody>\n",
       "</table>\n",
       "<p>11965 rows × 7 columns</p>\n",
       "</div>"
      ],
      "text/plain": [
       "       index                created_at  \\\n",
       "0          0  2022-06-08T01:39:00.000Z   \n",
       "1          1  2022-05-20T00:10:00.000Z   \n",
       "2          2  2022-05-19T17:07:04.000Z   \n",
       "3          3  2022-05-09T17:47:01.000Z   \n",
       "4          4  2022-04-22T19:46:02.000Z   \n",
       "...      ...                       ...   \n",
       "11960  11960  2012-03-12T19:45:04.000Z   \n",
       "11961  11961  2012-03-06T21:50:04.000Z   \n",
       "11962  11962  2012-02-27T21:35:06.000Z   \n",
       "11963  11963  2012-02-11T00:29:24.000Z   \n",
       "11964  11964  2011-09-14T18:13:32.000Z   \n",
       "\n",
       "                                                    text  \\\n",
       "0      Every student in America—Black, brown or white...   \n",
       "1      So far, education advocates have not had a cle...   \n",
       "2      When educators and management come together us...   \n",
       "3      The mental health of our students must be a to...   \n",
       "4      One way to honor #EarthDay: Introduce your stu...   \n",
       "...                                                  ...   \n",
       "11960  Unite Here Local 427 in Missoula wants a promi...   \n",
       "11961  100 years before OSHA - these kids were workin...   \n",
       "11962  WOO!  New Contract Ratified at Consol Energy C...   \n",
       "11963  Regional director Shawn Bagley isn't just a co...   \n",
       "11964  As @sandraMHyatt points out, health and safety...   \n",
       "\n",
       "                                                entities  \\\n",
       "0      {'annotations': [{'start': 17, 'end': 23, 'pro...   \n",
       "1      {'urls': [{'start': 109, 'end': 132, 'url': 'h...   \n",
       "2      {'urls': [{'start': 164, 'end': 187, 'url': 'h...   \n",
       "3      {'annotations': [{'start': 202, 'end': 227, 'p...   \n",
       "4      {'hashtags': [{'start': 17, 'end': 26, 'tag': ...   \n",
       "...                                                  ...   \n",
       "11960  {'hashtags': [{'start': 93, 'end': 96, 'tag': ...   \n",
       "11961  {'urls': [{'start': 85, 'end': 105, 'url': 'ht...   \n",
       "11962  {'hashtags': [{'start': 53, 'end': 56, 'tag': ...   \n",
       "11963  {'urls': [{'start': 115, 'end': 135, 'url': 'h...   \n",
       "11964  {'hashtags': [{'start': 127, 'end': 138, 'tag'...   \n",
       "\n",
       "                                          public_metrics union name  \\\n",
       "0      {'retweet_count': 76, 'reply_count': 5, 'like_...   NEAToday   \n",
       "1      {'retweet_count': 3, 'reply_count': 1, 'like_c...   NEAToday   \n",
       "2      {'retweet_count': 6, 'reply_count': 1, 'like_c...   NEAToday   \n",
       "3      {'retweet_count': 15, 'reply_count': 4, 'like_...   NEAToday   \n",
       "4      {'retweet_count': 15, 'reply_count': 2, 'like_...   NEAToday   \n",
       "...                                                  ...        ...   \n",
       "11960  {'retweet_count': 1, 'reply_count': 0, 'like_c...   unithere   \n",
       "11961  {'retweet_count': 1, 'reply_count': 0, 'like_c...   unithere   \n",
       "11962  {'retweet_count': 0, 'reply_count': 0, 'like_c...   unithere   \n",
       "11963  {'retweet_count': 1, 'reply_count': 0, 'like_c...   unithere   \n",
       "11964  {'retweet_count': 0, 'reply_count': 0, 'like_c...   unithere   \n",
       "\n",
       "                                              clean_text  \n",
       "0      every student america black brown white native...  \n",
       "1      far education advocates clear role addressing ...  \n",
       "2      educators management come together using susta...  \n",
       "3      mental health students top priority school com...  \n",
       "4      one way honor introduce students girls green w...  \n",
       "...                                                  ...  \n",
       "11960  unite local missoula wants promise good jobs e...  \n",
       "11961                      years osha kids working mines  \n",
       "11962     woo new contract ratified consol energy center  \n",
       "11963  regional director shawn bagley cop hes cop jus...  \n",
       "11964  points health safety critical issues many peop...  \n",
       "\n",
       "[11965 rows x 7 columns]"
      ]
     },
     "execution_count": 21,
     "metadata": {},
     "output_type": "execute_result"
    }
   ],
   "source": [
    "df"
   ]
  },
  {
   "cell_type": "code",
   "execution_count": 22,
   "id": "e770166c",
   "metadata": {},
   "outputs": [
    {
     "name": "stderr",
     "output_type": "stream",
     "text": [
      "/Users/jeffreypan/opt/anaconda3/lib/python3.8/site-packages/ipykernel/ipkernel.py:287: DeprecationWarning: `should_run_async` will not call `transform_cell` automatically in the future. Please pass the result to `transformed_cell` argument and any exception that happen during thetransform in `preprocessing_exc_tuple` in IPython 7.17 and above.\n",
      "  and should_run_async(code)\n"
     ]
    }
   ],
   "source": [
    "# create a list of cleaned text\n",
    "df['clean_text_list'] = [l.split() for l in df['clean_text']]"
   ]
  },
  {
   "cell_type": "code",
   "execution_count": 23,
   "id": "e25047b0",
   "metadata": {},
   "outputs": [
    {
     "name": "stderr",
     "output_type": "stream",
     "text": [
      "/Users/jeffreypan/opt/anaconda3/lib/python3.8/site-packages/ipykernel/ipkernel.py:287: DeprecationWarning: `should_run_async` will not call `transform_cell` automatically in the future. Please pass the result to `transformed_cell` argument and any exception that happen during thetransform in `preprocessing_exc_tuple` in IPython 7.17 and above.\n",
      "  and should_run_async(code)\n"
     ]
    },
    {
     "data": {
      "text/html": [
       "<div>\n",
       "<style scoped>\n",
       "    .dataframe tbody tr th:only-of-type {\n",
       "        vertical-align: middle;\n",
       "    }\n",
       "\n",
       "    .dataframe tbody tr th {\n",
       "        vertical-align: top;\n",
       "    }\n",
       "\n",
       "    .dataframe thead th {\n",
       "        text-align: right;\n",
       "    }\n",
       "</style>\n",
       "<table border=\"1\" class=\"dataframe\">\n",
       "  <thead>\n",
       "    <tr style=\"text-align: right;\">\n",
       "      <th></th>\n",
       "      <th>index</th>\n",
       "      <th>created_at</th>\n",
       "      <th>text</th>\n",
       "      <th>entities</th>\n",
       "      <th>public_metrics</th>\n",
       "      <th>union name</th>\n",
       "      <th>clean_text</th>\n",
       "      <th>clean_text_list</th>\n",
       "    </tr>\n",
       "  </thead>\n",
       "  <tbody>\n",
       "    <tr>\n",
       "      <th>0</th>\n",
       "      <td>0</td>\n",
       "      <td>2022-06-08T01:39:00.000Z</td>\n",
       "      <td>Every student in America—Black, brown or white...</td>\n",
       "      <td>{'annotations': [{'start': 17, 'end': 23, 'pro...</td>\n",
       "      <td>{'retweet_count': 76, 'reply_count': 5, 'like_...</td>\n",
       "      <td>NEAToday</td>\n",
       "      <td>every student america black brown white native...</td>\n",
       "      <td>[every, student, america, black, brown, white,...</td>\n",
       "    </tr>\n",
       "    <tr>\n",
       "      <th>1</th>\n",
       "      <td>1</td>\n",
       "      <td>2022-05-20T00:10:00.000Z</td>\n",
       "      <td>So far, education advocates have not had a cle...</td>\n",
       "      <td>{'urls': [{'start': 109, 'end': 132, 'url': 'h...</td>\n",
       "      <td>{'retweet_count': 3, 'reply_count': 1, 'like_c...</td>\n",
       "      <td>NEAToday</td>\n",
       "      <td>far education advocates clear role addressing ...</td>\n",
       "      <td>[far, education, advocates, clear, role, addre...</td>\n",
       "    </tr>\n",
       "    <tr>\n",
       "      <th>2</th>\n",
       "      <td>2</td>\n",
       "      <td>2022-05-19T17:07:04.000Z</td>\n",
       "      <td>When educators and management come together us...</td>\n",
       "      <td>{'urls': [{'start': 164, 'end': 187, 'url': 'h...</td>\n",
       "      <td>{'retweet_count': 6, 'reply_count': 1, 'like_c...</td>\n",
       "      <td>NEAToday</td>\n",
       "      <td>educators management come together using susta...</td>\n",
       "      <td>[educators, management, come, together, using,...</td>\n",
       "    </tr>\n",
       "    <tr>\n",
       "      <th>3</th>\n",
       "      <td>3</td>\n",
       "      <td>2022-05-09T17:47:01.000Z</td>\n",
       "      <td>The mental health of our students must be a to...</td>\n",
       "      <td>{'annotations': [{'start': 202, 'end': 227, 'p...</td>\n",
       "      <td>{'retweet_count': 15, 'reply_count': 4, 'like_...</td>\n",
       "      <td>NEAToday</td>\n",
       "      <td>mental health students top priority school com...</td>\n",
       "      <td>[mental, health, students, top, priority, scho...</td>\n",
       "    </tr>\n",
       "    <tr>\n",
       "      <th>4</th>\n",
       "      <td>4</td>\n",
       "      <td>2022-04-22T19:46:02.000Z</td>\n",
       "      <td>One way to honor #EarthDay: Introduce your stu...</td>\n",
       "      <td>{'hashtags': [{'start': 17, 'end': 26, 'tag': ...</td>\n",
       "      <td>{'retweet_count': 15, 'reply_count': 2, 'like_...</td>\n",
       "      <td>NEAToday</td>\n",
       "      <td>one way honor introduce students girls green w...</td>\n",
       "      <td>[one, way, honor, introduce, students, girls, ...</td>\n",
       "    </tr>\n",
       "    <tr>\n",
       "      <th>...</th>\n",
       "      <td>...</td>\n",
       "      <td>...</td>\n",
       "      <td>...</td>\n",
       "      <td>...</td>\n",
       "      <td>...</td>\n",
       "      <td>...</td>\n",
       "      <td>...</td>\n",
       "      <td>...</td>\n",
       "    </tr>\n",
       "    <tr>\n",
       "      <th>11960</th>\n",
       "      <td>11960</td>\n",
       "      <td>2012-03-12T19:45:04.000Z</td>\n",
       "      <td>Unite Here Local 427 in Missoula wants a promi...</td>\n",
       "      <td>{'hashtags': [{'start': 93, 'end': 96, 'tag': ...</td>\n",
       "      <td>{'retweet_count': 1, 'reply_count': 0, 'like_c...</td>\n",
       "      <td>unithere</td>\n",
       "      <td>unite local missoula wants promise good jobs e...</td>\n",
       "      <td>[unite, local, missoula, wants, promise, good,...</td>\n",
       "    </tr>\n",
       "    <tr>\n",
       "      <th>11961</th>\n",
       "      <td>11961</td>\n",
       "      <td>2012-03-06T21:50:04.000Z</td>\n",
       "      <td>100 years before OSHA - these kids were workin...</td>\n",
       "      <td>{'urls': [{'start': 85, 'end': 105, 'url': 'ht...</td>\n",
       "      <td>{'retweet_count': 1, 'reply_count': 0, 'like_c...</td>\n",
       "      <td>unithere</td>\n",
       "      <td>years osha kids working mines</td>\n",
       "      <td>[years, osha, kids, working, mines]</td>\n",
       "    </tr>\n",
       "    <tr>\n",
       "      <th>11962</th>\n",
       "      <td>11962</td>\n",
       "      <td>2012-02-27T21:35:06.000Z</td>\n",
       "      <td>WOO!  New Contract Ratified at Consol Energy C...</td>\n",
       "      <td>{'hashtags': [{'start': 53, 'end': 56, 'tag': ...</td>\n",
       "      <td>{'retweet_count': 0, 'reply_count': 0, 'like_c...</td>\n",
       "      <td>unithere</td>\n",
       "      <td>woo new contract ratified consol energy center</td>\n",
       "      <td>[woo, new, contract, ratified, consol, energy,...</td>\n",
       "    </tr>\n",
       "    <tr>\n",
       "      <th>11963</th>\n",
       "      <td>11963</td>\n",
       "      <td>2012-02-11T00:29:24.000Z</td>\n",
       "      <td>Regional director Shawn Bagley isn't just a co...</td>\n",
       "      <td>{'urls': [{'start': 115, 'end': 135, 'url': 'h...</td>\n",
       "      <td>{'retweet_count': 1, 'reply_count': 0, 'like_c...</td>\n",
       "      <td>unithere</td>\n",
       "      <td>regional director shawn bagley cop hes cop jus...</td>\n",
       "      <td>[regional, director, shawn, bagley, cop, hes, ...</td>\n",
       "    </tr>\n",
       "    <tr>\n",
       "      <th>11964</th>\n",
       "      <td>11964</td>\n",
       "      <td>2011-09-14T18:13:32.000Z</td>\n",
       "      <td>As @sandraMHyatt points out, health and safety...</td>\n",
       "      <td>{'hashtags': [{'start': 127, 'end': 138, 'tag'...</td>\n",
       "      <td>{'retweet_count': 0, 'reply_count': 0, 'like_c...</td>\n",
       "      <td>unithere</td>\n",
       "      <td>points health safety critical issues many peop...</td>\n",
       "      <td>[points, health, safety, critical, issues, man...</td>\n",
       "    </tr>\n",
       "  </tbody>\n",
       "</table>\n",
       "<p>11965 rows × 8 columns</p>\n",
       "</div>"
      ],
      "text/plain": [
       "       index                created_at  \\\n",
       "0          0  2022-06-08T01:39:00.000Z   \n",
       "1          1  2022-05-20T00:10:00.000Z   \n",
       "2          2  2022-05-19T17:07:04.000Z   \n",
       "3          3  2022-05-09T17:47:01.000Z   \n",
       "4          4  2022-04-22T19:46:02.000Z   \n",
       "...      ...                       ...   \n",
       "11960  11960  2012-03-12T19:45:04.000Z   \n",
       "11961  11961  2012-03-06T21:50:04.000Z   \n",
       "11962  11962  2012-02-27T21:35:06.000Z   \n",
       "11963  11963  2012-02-11T00:29:24.000Z   \n",
       "11964  11964  2011-09-14T18:13:32.000Z   \n",
       "\n",
       "                                                    text  \\\n",
       "0      Every student in America—Black, brown or white...   \n",
       "1      So far, education advocates have not had a cle...   \n",
       "2      When educators and management come together us...   \n",
       "3      The mental health of our students must be a to...   \n",
       "4      One way to honor #EarthDay: Introduce your stu...   \n",
       "...                                                  ...   \n",
       "11960  Unite Here Local 427 in Missoula wants a promi...   \n",
       "11961  100 years before OSHA - these kids were workin...   \n",
       "11962  WOO!  New Contract Ratified at Consol Energy C...   \n",
       "11963  Regional director Shawn Bagley isn't just a co...   \n",
       "11964  As @sandraMHyatt points out, health and safety...   \n",
       "\n",
       "                                                entities  \\\n",
       "0      {'annotations': [{'start': 17, 'end': 23, 'pro...   \n",
       "1      {'urls': [{'start': 109, 'end': 132, 'url': 'h...   \n",
       "2      {'urls': [{'start': 164, 'end': 187, 'url': 'h...   \n",
       "3      {'annotations': [{'start': 202, 'end': 227, 'p...   \n",
       "4      {'hashtags': [{'start': 17, 'end': 26, 'tag': ...   \n",
       "...                                                  ...   \n",
       "11960  {'hashtags': [{'start': 93, 'end': 96, 'tag': ...   \n",
       "11961  {'urls': [{'start': 85, 'end': 105, 'url': 'ht...   \n",
       "11962  {'hashtags': [{'start': 53, 'end': 56, 'tag': ...   \n",
       "11963  {'urls': [{'start': 115, 'end': 135, 'url': 'h...   \n",
       "11964  {'hashtags': [{'start': 127, 'end': 138, 'tag'...   \n",
       "\n",
       "                                          public_metrics union name  \\\n",
       "0      {'retweet_count': 76, 'reply_count': 5, 'like_...   NEAToday   \n",
       "1      {'retweet_count': 3, 'reply_count': 1, 'like_c...   NEAToday   \n",
       "2      {'retweet_count': 6, 'reply_count': 1, 'like_c...   NEAToday   \n",
       "3      {'retweet_count': 15, 'reply_count': 4, 'like_...   NEAToday   \n",
       "4      {'retweet_count': 15, 'reply_count': 2, 'like_...   NEAToday   \n",
       "...                                                  ...        ...   \n",
       "11960  {'retweet_count': 1, 'reply_count': 0, 'like_c...   unithere   \n",
       "11961  {'retweet_count': 1, 'reply_count': 0, 'like_c...   unithere   \n",
       "11962  {'retweet_count': 0, 'reply_count': 0, 'like_c...   unithere   \n",
       "11963  {'retweet_count': 1, 'reply_count': 0, 'like_c...   unithere   \n",
       "11964  {'retweet_count': 0, 'reply_count': 0, 'like_c...   unithere   \n",
       "\n",
       "                                              clean_text  \\\n",
       "0      every student america black brown white native...   \n",
       "1      far education advocates clear role addressing ...   \n",
       "2      educators management come together using susta...   \n",
       "3      mental health students top priority school com...   \n",
       "4      one way honor introduce students girls green w...   \n",
       "...                                                  ...   \n",
       "11960  unite local missoula wants promise good jobs e...   \n",
       "11961                      years osha kids working mines   \n",
       "11962     woo new contract ratified consol energy center   \n",
       "11963  regional director shawn bagley cop hes cop jus...   \n",
       "11964  points health safety critical issues many peop...   \n",
       "\n",
       "                                         clean_text_list  \n",
       "0      [every, student, america, black, brown, white,...  \n",
       "1      [far, education, advocates, clear, role, addre...  \n",
       "2      [educators, management, come, together, using,...  \n",
       "3      [mental, health, students, top, priority, scho...  \n",
       "4      [one, way, honor, introduce, students, girls, ...  \n",
       "...                                                  ...  \n",
       "11960  [unite, local, missoula, wants, promise, good,...  \n",
       "11961                [years, osha, kids, working, mines]  \n",
       "11962  [woo, new, contract, ratified, consol, energy,...  \n",
       "11963  [regional, director, shawn, bagley, cop, hes, ...  \n",
       "11964  [points, health, safety, critical, issues, man...  \n",
       "\n",
       "[11965 rows x 8 columns]"
      ]
     },
     "execution_count": 23,
     "metadata": {},
     "output_type": "execute_result"
    }
   ],
   "source": [
    "df"
   ]
  },
  {
   "cell_type": "code",
   "execution_count": 24,
   "id": "90b275f9",
   "metadata": {},
   "outputs": [
    {
     "name": "stderr",
     "output_type": "stream",
     "text": [
      "/Users/jeffreypan/opt/anaconda3/lib/python3.8/site-packages/ipykernel/ipkernel.py:287: DeprecationWarning: `should_run_async` will not call `transform_cell` automatically in the future. Please pass the result to `transformed_cell` argument and any exception that happen during thetransform in `preprocessing_exc_tuple` in IPython 7.17 and above.\n",
      "  and should_run_async(code)\n"
     ]
    }
   ],
   "source": [
    "# save dataframe\n",
    "df.to_csv('All Tweets Twitter Cleaned Text.csv')"
   ]
  },
  {
   "cell_type": "code",
   "execution_count": 38,
   "id": "59554251",
   "metadata": {
    "scrolled": true
   },
   "outputs": [
    {
     "name": "stderr",
     "output_type": "stream",
     "text": [
      "/Users/jeffreypan/opt/anaconda3/lib/python3.8/site-packages/ipykernel/ipkernel.py:287: DeprecationWarning: `should_run_async` will not call `transform_cell` automatically in the future. Please pass the result to `transformed_cell` argument and any exception that happen during thetransform in `preprocessing_exc_tuple` in IPython 7.17 and above.\n",
      "  and should_run_async(code)\n"
     ]
    }
   ],
   "source": [
    "df = pd.read_csv('All Tweets Twitter Cleaned Text.csv')"
   ]
  },
  {
   "cell_type": "code",
   "execution_count": 53,
   "id": "227f1ef7",
   "metadata": {},
   "outputs": [
    {
     "name": "stderr",
     "output_type": "stream",
     "text": [
      "/Users/jeffreypan/opt/anaconda3/lib/python3.8/site-packages/ipykernel/ipkernel.py:287: DeprecationWarning: `should_run_async` will not call `transform_cell` automatically in the future. Please pass the result to `transformed_cell` argument and any exception that happen during thetransform in `preprocessing_exc_tuple` in IPython 7.17 and above.\n",
      "  and should_run_async(code)\n"
     ]
    }
   ],
   "source": [
    "def res(string_dict):\n",
    "    return ast.literal_eval(string_dict)\n",
    "\n",
    "# set the dictinary as a dictionary\n",
    "df['clean_text_list'] = df['clean_text_list'].apply(res)"
   ]
  },
  {
   "cell_type": "code",
   "execution_count": 54,
   "id": "1c46b285",
   "metadata": {
    "scrolled": true
   },
   "outputs": [
    {
     "name": "stderr",
     "output_type": "stream",
     "text": [
      "/Users/jeffreypan/opt/anaconda3/lib/python3.8/site-packages/ipykernel/ipkernel.py:287: DeprecationWarning: `should_run_async` will not call `transform_cell` automatically in the future. Please pass the result to `transformed_cell` argument and any exception that happen during thetransform in `preprocessing_exc_tuple` in IPython 7.17 and above.\n",
      "  and should_run_async(code)\n"
     ]
    },
    {
     "data": {
      "text/plain": [
       "0        [every, student, america, black, brown, white,...\n",
       "1        [far, education, advocates, clear, role, addre...\n",
       "2        [educators, management, come, together, using,...\n",
       "3        [mental, health, students, top, priority, scho...\n",
       "4        [one, way, honor, introduce, students, girls, ...\n",
       "                               ...                        \n",
       "11960    [unite, local, missoula, wants, promise, good,...\n",
       "11961                  [years, osha, kids, working, mines]\n",
       "11962    [woo, new, contract, ratified, consol, energy,...\n",
       "11963    [regional, director, shawn, bagley, cop, hes, ...\n",
       "11964    [points, health, safety, critical, issues, man...\n",
       "Name: clean_text_list, Length: 11965, dtype: object"
      ]
     },
     "execution_count": 54,
     "metadata": {},
     "output_type": "execute_result"
    }
   ],
   "source": [
    "# initialize words\n",
    "words = df['clean_text_list']\n",
    "\n",
    "words"
   ]
  },
  {
   "cell_type": "code",
   "execution_count": 55,
   "id": "11d04c9e",
   "metadata": {},
   "outputs": [
    {
     "name": "stderr",
     "output_type": "stream",
     "text": [
      "/Users/jeffreypan/opt/anaconda3/lib/python3.8/site-packages/ipykernel/ipkernel.py:287: DeprecationWarning: `should_run_async` will not call `transform_cell` automatically in the future. Please pass the result to `transformed_cell` argument and any exception that happen during thetransform in `preprocessing_exc_tuple` in IPython 7.17 and above.\n",
      "  and should_run_async(code)\n"
     ]
    },
    {
     "name": "stdout",
     "output_type": "stream",
     "text": [
      "0           [read]\n",
      "1    [reply, care]\n",
      "2        [respect]\n",
      "dtype: object\n"
     ]
    }
   ],
   "source": [
    "import pandas as pd\n",
    "\n",
    "# Create a sample Series with lists\n",
    "my_series = pd.Series([['read', 're'], ['reply', 'care'], ['respect', 're']])\n",
    "\n",
    "# Define the remove_re function to remove a specified bad string from all lists\n",
    "def remove_string(lst, bad_string):\n",
    "    return [s for s in lst if s != bad_string]\n",
    "\n",
    "def remove_bad_string(series, bad_string):\n",
    "    return series.apply(lambda lst: remove_string(lst, bad_string))\n",
    "\n",
    "# Apply the remove_bad_string function to the Series\n",
    "my_series = remove_bad_string(my_series, 're')\n",
    "\n",
    "# Print the modified Series\n",
    "print(my_series)\n",
    "\n",
    "words = remove_bad_string(words, 're')\n",
    "words = remove_bad_string(words, 'll')\n",
    "words = remove_bad_string(words, 't')\n",
    "words = remove_bad_string(words, 'b')\n",
    "words = remove_bad_string(words, 'yrs')\n",
    "words = remove_bad_string(words, 'w')\n",
    "words = remove_bad_string(words, 'u')\n",
    "words = remove_bad_string(words, 'wi')"
   ]
  },
  {
   "cell_type": "code",
   "execution_count": 56,
   "id": "8fd367b5",
   "metadata": {
    "scrolled": true
   },
   "outputs": [
    {
     "name": "stderr",
     "output_type": "stream",
     "text": [
      "/Users/jeffreypan/opt/anaconda3/lib/python3.8/site-packages/ipykernel/ipkernel.py:287: DeprecationWarning: `should_run_async` will not call `transform_cell` automatically in the future. Please pass the result to `transformed_cell` argument and any exception that happen during thetransform in `preprocessing_exc_tuple` in IPython 7.17 and above.\n",
      "  and should_run_async(code)\n"
     ]
    },
    {
     "data": {
      "text/plain": [
       "pandas.core.series.Series"
      ]
     },
     "execution_count": 56,
     "metadata": {},
     "output_type": "execute_result"
    }
   ],
   "source": [
    "type(words)"
   ]
  },
  {
   "cell_type": "code",
   "execution_count": 57,
   "id": "4ab64e7b",
   "metadata": {},
   "outputs": [
    {
     "name": "stderr",
     "output_type": "stream",
     "text": [
      "/Users/jeffreypan/opt/anaconda3/lib/python3.8/site-packages/ipykernel/ipkernel.py:287: DeprecationWarning: `should_run_async` will not call `transform_cell` automatically in the future. Please pass the result to `transformed_cell` argument and any exception that happen during thetransform in `preprocessing_exc_tuple` in IPython 7.17 and above.\n",
      "  and should_run_async(code)\n"
     ]
    },
    {
     "data": {
      "text/plain": [
       "['every',\n",
       " 'student',\n",
       " 'america',\n",
       " 'black',\n",
       " 'brown',\n",
       " 'white',\n",
       " 'native',\n",
       " 'newcomer',\n",
       " 'deserves',\n",
       " 'welcoming',\n",
       " 'safe',\n",
       " 'learning',\n",
       " 'environment',\n",
       " 'free',\n",
       " 'fear',\n",
       " 'gun',\n",
       " 'violence',\n",
       " 'school',\n",
       " 'community']"
      ]
     },
     "execution_count": 57,
     "metadata": {},
     "output_type": "execute_result"
    }
   ],
   "source": [
    "words[0]"
   ]
  },
  {
   "cell_type": "code",
   "execution_count": 58,
   "id": "fd9f0f75",
   "metadata": {
    "scrolled": false
   },
   "outputs": [
    {
     "name": "stderr",
     "output_type": "stream",
     "text": [
      "/Users/jeffreypan/opt/anaconda3/lib/python3.8/site-packages/ipykernel/ipkernel.py:287: DeprecationWarning: `should_run_async` will not call `transform_cell` automatically in the future. Please pass the result to `transformed_cell` argument and any exception that happen during thetransform in `preprocessing_exc_tuple` in IPython 7.17 and above.\n",
      "  and should_run_async(code)\n",
      "/Users/jeffreypan/opt/anaconda3/lib/python3.8/site-packages/pyLDAvis/_prepare.py:243: FutureWarning: In a future version of pandas all arguments of DataFrame.drop except for the argument 'labels' will be keyword-only.\n",
      "  default_term_info = default_term_info.sort_values(\n"
     ]
    },
    {
     "name": "stdout",
     "output_type": "stream",
     "text": [
      "(0, '0.027*\"coal\" + 0.019*\"working\" + 0.017*\"water\" + 0.016*\"get\" + 0.016*\"energy\" + 0.015*\"time\" + 0.015*\"miners\" + 0.014*\"now\" + 0.013*\"us\" + 0.009*\"join\"')\n",
      "(1, '0.063*\"work\" + 0.033*\"make\" + 0.032*\"sustainability\" + 0.026*\"movement\" + 0.025*\"day\" + 0.022*\"environmental\" + 0.021*\"justice\" + 0.021*\"state\" + 0.017*\"fuel\" + 0.015*\"read\"')\n",
      "(2, '0.055*\"sustainable\" + 0.054*\"people\" + 0.046*\"jobs\" + 0.038*\"good\" + 0.033*\"climate\" + 0.030*\"need\" + 0.023*\"check\" + 0.020*\"real\" + 0.018*\"today\" + 0.017*\"video\"')\n",
      "(3, '0.070*\"heat\" + 0.056*\"union\" + 0.044*\"members\" + 0.038*\"hurricane\" + 0.022*\"action\" + 0.017*\"board\" + 0.016*\"earth\" + 0.013*\"planet\" + 0.013*\"power\" + 0.012*\"turn\"')\n",
      "(4, '0.098*\"program\" + 0.088*\"housekeepers\" + 0.047*\"support\" + 0.032*\"create\" + 0.030*\"week\" + 0.024*\"protect\" + 0.024*\"live\" + 0.022*\"give\" + 0.019*\"creating\" + 0.013*\"cant\"')\n",
      "(5, '0.056*\"food\" + 0.032*\"labor\" + 0.030*\"job\" + 0.020*\"strike\" + 0.019*\"families\" + 0.019*\"zero\" + 0.016*\"oil\" + 0.014*\"together\" + 0.013*\"know\" + 0.013*\"like\"')\n",
      "(6, '0.117*\"workers\" + 0.051*\"green\" + 0.029*\"choice\" + 0.027*\"safety\" + 0.018*\"health\" + 0.017*\"new\" + 0.016*\"future\" + 0.015*\"say\" + 0.015*\"environment\" + 0.012*\"unions\"')\n"
     ]
    }
   ],
   "source": [
    "import gensim\n",
    "from gensim import corpora\n",
    "import pyLDAvis.gensim_models as gensimvis\n",
    "import pyLDAvis\n",
    "\n",
    "dictionary = corpora.Dictionary(words)\n",
    "corpus = [dictionary.doc2bow(word) for word in words]\n",
    "\n",
    "# define the number of topics to identify\n",
    "num_topics = 7\n",
    "\n",
    "\n",
    "# build the LDA model\n",
    "lda_model = gensim.models.LdaModel(corpus=corpus,\n",
    "                                   id2word=dictionary,\n",
    "                                   num_topics=num_topics,\n",
    "                                   random_state=100,\n",
    "                                   update_every=1,\n",
    "                                   chunksize=10,\n",
    "                                   passes=10,\n",
    "                                   alpha='auto',\n",
    "                                   per_word_topics=True)\n",
    "\n",
    "# visualize the topics using pyLDAvis\n",
    "vis_data = gensimvis.prepare(lda_model, corpus, dictionary)\n",
    "pyLDAvis.display(vis_data)\n",
    "\n",
    "# print the top words for each topic\n",
    "for topic in lda_model.print_topics():\n",
    "    print(topic)"
   ]
  },
  {
   "cell_type": "code",
   "execution_count": 59,
   "id": "e068d317",
   "metadata": {},
   "outputs": [
    {
     "name": "stderr",
     "output_type": "stream",
     "text": [
      "/Users/jeffreypan/opt/anaconda3/lib/python3.8/site-packages/ipykernel/ipkernel.py:287: DeprecationWarning: `should_run_async` will not call `transform_cell` automatically in the future. Please pass the result to `transformed_cell` argument and any exception that happen during thetransform in `preprocessing_exc_tuple` in IPython 7.17 and above.\n",
      "  and should_run_async(code)\n"
     ]
    }
   ],
   "source": [
    "from gensim.models import CoherenceModel"
   ]
  },
  {
   "cell_type": "markdown",
   "id": "e013b420",
   "metadata": {},
   "source": [
    "# Analyzing the model"
   ]
  },
  {
   "cell_type": "code",
   "execution_count": 60,
   "id": "0263290d",
   "metadata": {
    "scrolled": false
   },
   "outputs": [
    {
     "name": "stderr",
     "output_type": "stream",
     "text": [
      "/Users/jeffreypan/opt/anaconda3/lib/python3.8/site-packages/ipykernel/ipkernel.py:287: DeprecationWarning: `should_run_async` will not call `transform_cell` automatically in the future. Please pass the result to `transformed_cell` argument and any exception that happen during thetransform in `preprocessing_exc_tuple` in IPython 7.17 and above.\n",
      "  and should_run_async(code)\n"
     ]
    },
    {
     "name": "stdout",
     "output_type": "stream",
     "text": [
      "\n",
      "Perplexity:  -9.646363774548943\n",
      "\n",
      "Coherence Score:  0.3515406248250956\n"
     ]
    }
   ],
   "source": [
    "# Compute Perplexity\n",
    "print('\\nPerplexity: ', lda_model.log_perplexity(corpus))  \n",
    "# a measure of how good the model is. lower the better.\n",
    "\n",
    "# Compute Coherence Score\n",
    "coherence_model_lda = CoherenceModel(model=lda_model, texts=words, dictionary=dictionary, coherence='c_v')\n",
    "coherence_lda = coherence_model_lda.get_coherence()\n",
    "print('\\nCoherence Score: ', coherence_lda)"
   ]
  },
  {
   "cell_type": "markdown",
   "id": "94fc29a3",
   "metadata": {},
   "source": [
    "for number_topics in range(4,11):\n",
    "    \n",
    "    print('number of topics: ',number_topics)\n",
    "\n",
    "    lda_model = gensim.models.LdaModel(corpus=corpus,\n",
    "                                       id2word=dictionary,\n",
    "                                       num_topics=number_topics,\n",
    "                                       random_state=100,\n",
    "                                       update_every=1,\n",
    "                                       chunksize=10,\n",
    "                                       passes=10,\n",
    "                                       alpha='auto',\n",
    "                                       per_word_topics=True)\n",
    "\n",
    "    # Compute Perplexity\n",
    "    print('\\nPerplexity: ', lda_model.log_perplexity(corpus))  \n",
    "    # a measure of how good the model is. lower the better.\n",
    "\n",
    "\n",
    "    # Compute Coherence Score\n",
    "    coherence_model_lda = CoherenceModel(model=lda_model, texts=words, dictionary=dictionary, coherence='c_v')\n",
    "    coherence_lda = coherence_model_lda.get_coherence()\n",
    "    print('\\nCoherence Score: ', coherence_lda)"
   ]
  },
  {
   "cell_type": "code",
   "execution_count": null,
   "id": "4c41e073",
   "metadata": {},
   "outputs": [],
   "source": [
    "# num topics of 7 is best"
   ]
  },
  {
   "cell_type": "code",
   "execution_count": 61,
   "id": "2f63d264",
   "metadata": {
    "scrolled": false
   },
   "outputs": [
    {
     "name": "stderr",
     "output_type": "stream",
     "text": [
      "/Users/jeffreypan/opt/anaconda3/lib/python3.8/site-packages/ipykernel/ipkernel.py:287: DeprecationWarning: `should_run_async` will not call `transform_cell` automatically in the future. Please pass the result to `transformed_cell` argument and any exception that happen during thetransform in `preprocessing_exc_tuple` in IPython 7.17 and above.\n",
      "  and should_run_async(code)\n"
     ]
    },
    {
     "data": {
      "text/html": [
       "\n",
       "<link rel=\"stylesheet\" type=\"text/css\" href=\"https://cdn.jsdelivr.net/gh/bmabey/pyLDAvis@3.4.0/pyLDAvis/js/ldavis.v1.0.0.css\">\n",
       "\n",
       "\n",
       "<div id=\"ldavis_el222771405838532048648442077404\" style=\"background-color:white;\"></div>\n",
       "<script type=\"text/javascript\">\n",
       "\n",
       "var ldavis_el222771405838532048648442077404_data = {\"mdsDat\": {\"x\": [-0.3160112816141835, -0.0743437809588603, 0.02467241043023255, 0.06886772220400479, 0.11134263263724647, 0.07945831998691098, 0.10601397731464907], \"y\": [-0.134895934968746, 0.32514651780632864, -0.000746255267119548, -0.03787619338891257, -0.07028323393240887, -0.023349449961557956, -0.05799545028758341], \"topics\": [1, 2, 3, 4, 5, 6, 7], \"cluster\": [1, 1, 1, 1, 1, 1, 1], \"Freq\": [26.086731163981437, 21.945311086173568, 14.115387518237926, 12.665814550775575, 12.413670314648972, 9.03625499607517, 3.736830370107349]}, \"tinfo\": {\"Term\": [\"workers\", \"heat\", \"green\", \"food\", \"union\", \"housekeepers\", \"sustainable\", \"people\", \"work\", \"program\", \"jobs\", \"members\", \"good\", \"hurricane\", \"coal\", \"safety\", \"labor\", \"climate\", \"job\", \"need\", \"make\", \"sustainability\", \"working\", \"health\", \"check\", \"action\", \"support\", \"water\", \"movement\", \"new\", \"coal\", \"working\", \"water\", \"get\", \"energy\", \"time\", \"now\", \"us\", \"join\", \"years\", \"tell\", \"made\", \"back\", \"take\", \"service\", \"pay\", \"says\", \"clean\", \"worker\", \"protections\", \"company\", \"sustain\", \"standing\", \"less\", \"great\", \"burning\", \"hours\", \"protest\", \"tax\", \"everyone\", \"miners\", \"fix\", \"choice\", \"workers\", \"green\", \"safety\", \"health\", \"new\", \"future\", \"say\", \"environment\", \"unions\", \"local\", \"programs\", \"one\", \"stand\", \"safe\", \"unite\", \"world\", \"many\", \"rights\", \"community\", \"every\", \"report\", \"osha\", \"america\", \"workplace\", \"women\", \"enough\", \"cuts\", \"point\", \"hey\", \"exposed\", \"choice\", \"hotel\", \"food\", \"labor\", \"job\", \"strike\", \"families\", \"zero\", \"oil\", \"together\", \"know\", \"like\", \"going\", \"mine\", \"fight\", \"natural\", \"industry\", \"lives\", \"big\", \"use\", \"transformed\", \"wave\", \"children\", \"low\", \"turned\", \"come\", \"stay\", \"full\", \"gas\", \"extra\", \"solidarity\", \"wages\", \"disasters\", \"heat\", \"union\", \"members\", \"hurricane\", \"action\", \"board\", \"earth\", \"planet\", \"power\", \"turn\", \"thousands\", \"dc\", \"disaster\", \"impacted\", \"demand\", \"history\", \"emissions\", \"president\", \"california\", \"united\", \"keep\", \"help\", \"helped\", \"recent\", \"fund\", \"go\", \"states\", \"please\", \"sandy\", \"valley\", \"really\", \"picket\", \"hyatt\", \"sustainable\", \"people\", \"jobs\", \"good\", \"climate\", \"need\", \"check\", \"real\", \"today\", \"video\", \"wage\", \"change\", \"companies\", \"sign\", \"corporate\", \"wants\", \"building\", \"save\", \"place\", \"let\", \"global\", \"talk\", \"share\", \"business\", \"higher\", \"calling\", \"national\", \"creation\", \"millions\", \"corporations\", \"airport\", \"serve\", \"work\", \"make\", \"movement\", \"sustainability\", \"day\", \"environmental\", \"justice\", \"state\", \"fuel\", \"read\", \"public\", \"nature\", \"right\", \"wind\", \"hard\", \"economic\", \"watch\", \"sure\", \"life\", \"nation\", \"school\", \"found\", \"summer\", \"practices\", \"country\", \"private\", \"air\", \"west\", \"spoke\", \"issue\", \"drive\", \"published\", \"hotel\", \"program\", \"support\", \"create\", \"week\", \"protect\", \"live\", \"give\", \"creating\", \"cant\", \"stop\", \"long\", \"goes\", \"thanks\", \"chicago\", \"without\", \"changing\", \"show\", \"light\", \"soon\", \"learn\", \"graduate\", \"came\", \"students\", \"term\", \"duty\", \"short\", \"fort\", \"military\", \"housekeeper\", \"destroys\", \"housekeepers\", \"surveyed\", \"measure\", \"marriott\", \"opt\", \"rooms\", \"housekeeping\", \"dirtier\", \"cleaned\"], \"Freq\": [3736.0, 1281.0, 1628.0, 1140.0, 1023.0, 960.0, 989.0, 980.0, 824.0, 530.0, 833.0, 807.0, 692.0, 690.0, 1028.0, 844.0, 648.0, 591.0, 620.0, 532.0, 434.0, 425.0, 716.0, 584.0, 410.0, 413.0, 256.0, 635.0, 346.0, 550.0, 1027.411704791244, 715.756507953009, 634.8703230381465, 590.3247088788299, 587.4645601139855, 562.991482807388, 538.0924933451232, 485.32330867370973, 336.9110973055755, 322.9116127161716, 305.44231069648777, 303.100286957269, 298.0653163224544, 297.3572708251649, 292.55631940654723, 283.5543461749523, 281.5504773853271, 269.3881528332515, 268.6786279851071, 267.8878092852193, 258.8891293704086, 254.85462258521147, 249.0289917523864, 240.4200503425756, 229.8721026336012, 229.733818551303, 213.09397446693256, 211.43155394368503, 209.7249466193058, 204.03578590284963, 551.6712787294915, 227.6753546706023, 316.8276414346414, 3735.7694161393406, 1627.5873596388496, 843.8432636955866, 583.6965705604925, 549.511350967517, 496.4959098098956, 489.35040291205553, 480.1092251654252, 381.0635765299539, 362.5354117567646, 344.78627141992894, 306.6856917808961, 302.6307112128312, 273.1146898875583, 279.5269816289733, 244.38711560602403, 227.73338300854172, 211.53230595105242, 205.49257758685746, 200.2946169644811, 197.74663133036736, 264.21983740858997, 178.1101249558009, 173.26577878793154, 165.68096504389402, 165.25106598966113, 161.30840112377567, 159.65731141085124, 161.2745478881234, 161.88089859951978, 909.7649509333752, 240.0701835895706, 1139.283784126114, 647.4891839952842, 619.1665827715243, 401.8399148600744, 390.0338789111576, 381.3723506596837, 334.12884314609073, 292.6358262107343, 269.8482370269524, 267.67652744995854, 255.50143733379963, 245.68178340960125, 244.268422588782, 238.26837637814154, 235.04506063579336, 228.96872213887576, 223.07502390660812, 202.46449981629374, 197.42488257951373, 196.9167374541775, 188.23748453964149, 172.3722720441657, 218.0285264511556, 158.7635997442747, 154.75305166847158, 144.1085433840606, 140.50256550734514, 132.33615570679567, 129.91699649231015, 129.5727854415212, 145.3867679431142, 1280.8077966417636, 1022.933661189456, 806.7483735206043, 689.0707923040594, 412.56660947122566, 306.31973543734676, 300.0070077618582, 239.86261676766009, 238.89140289994157, 228.57438256014785, 212.97093249048237, 205.50034468022102, 162.98768124929038, 163.0887513829069, 157.89901379101616, 157.33910919294422, 151.63124607851879, 145.91197623327741, 146.69818558230497, 125.69193831674511, 123.51324418012717, 122.23671642146857, 121.17397508249529, 108.47759107175936, 102.75093335888309, 100.6688715048371, 93.3964136494005, 92.84779607132633, 91.84381564252334, 91.68389909100927, 146.88399387363214, 96.88240977571645, 161.0656556575766, 988.4401763116509, 979.0972055852732, 832.8569018643534, 691.7006411497985, 590.1172635630379, 531.1940290948023, 409.442056931046, 366.2474359492892, 321.4236363327436, 303.3672081635825, 273.1570906178005, 231.58868155665175, 192.49970806224192, 175.8174384360145, 166.32655102803162, 151.176580895553, 150.32493279254632, 146.38237077964882, 145.76740612830727, 143.65626214739356, 136.4612008683431, 133.06558697489442, 127.29749007508322, 123.14388908903115, 109.00090052661585, 107.42177890821392, 101.12989772509873, 107.39919332991785, 97.67445509567393, 91.41260979850053, 216.7388523893291, 119.08243223409791, 823.4589993577345, 433.2505123123221, 345.2720330767474, 424.26798961762074, 322.06390888264775, 286.8911259515783, 272.8261366723765, 270.52988459930924, 223.75978665093538, 190.64443601185405, 167.7870745584433, 152.51457762042764, 149.2706719652516, 144.03060677483512, 138.58506677430557, 133.71033216041167, 128.92028376806013, 128.33908324228685, 121.4526207861812, 108.26763127862104, 103.70745943144739, 108.60927997126322, 102.38461697184984, 94.02349666144102, 82.76520104982556, 81.89177754578387, 81.29362391457433, 77.97313951433118, 72.61610460688162, 66.62847396145389, 81.93290667023557, 112.50311363902253, 111.3230091286865, 529.5334800523691, 255.14326523293144, 174.07552109083196, 164.79000507381795, 128.82739099906172, 128.6522712175427, 120.70628933662077, 102.6134915244292, 71.2871015145051, 63.78797578923119, 60.6662240034215, 61.96099431844532, 51.91761651789255, 45.68616668483629, 43.88849966405115, 39.73340847019922, 30.81910875045356, 20.570382218542367, 20.155821151679575, 18.736588039303232, 18.938272464411554, 17.649930137219215, 22.40492817971784, 11.110298904049813, 19.480109203992683, 10.1808119897548, 12.941138933465293, 2.597299530489166, 43.61148567981874, 13.771556503514063, 476.5921282668089, 53.909879013312505, 24.18986031723243, 58.29800494812121, 22.019556686326087, 46.79019629971764, 28.679804772009266, 25.216173843755556, 21.291993228476535], \"Total\": [3736.0, 1281.0, 1628.0, 1140.0, 1023.0, 960.0, 989.0, 980.0, 824.0, 530.0, 833.0, 807.0, 692.0, 690.0, 1028.0, 844.0, 648.0, 591.0, 620.0, 532.0, 434.0, 425.0, 716.0, 584.0, 410.0, 413.0, 256.0, 635.0, 346.0, 550.0, 1028.3767870404583, 716.7213305987126, 635.8347854228447, 591.289911714904, 588.4289626267591, 563.9572133276619, 539.0570835561255, 486.28811949755243, 337.8755591753186, 323.8773194558607, 306.408618512436, 304.0664069439466, 299.03067169219196, 298.3220588997062, 293.52622882727945, 284.5205871523058, 282.5162105651731, 270.35295901673896, 269.6444158551928, 268.85619892884716, 259.8546091215718, 255.8199178989148, 249.9978221749802, 241.3867523468012, 230.8377173034548, 230.70415090343084, 214.0607223207979, 212.39879139946333, 210.69097551837828, 205.0024149184106, 567.5352661378012, 255.28926068441942, 1456.3287344738362, 3736.7614115721985, 1628.5783818299367, 844.835171367655, 584.6884566471472, 550.502306051556, 497.49174733437576, 490.34218575039563, 481.10023543884074, 382.0557169090359, 363.5278747851848, 345.78422795123356, 307.67551886881193, 303.62337557308615, 274.105263068744, 280.54958255263523, 245.37844080299385, 228.72447094774344, 212.52306174863193, 206.48937929468096, 201.28646502089023, 198.74073862897916, 265.68511524299186, 179.09990911458763, 174.2567249357626, 166.67046451165683, 166.2438347082848, 162.30104805172257, 160.6530650863858, 162.30606171945362, 162.92447865916495, 1456.3287344738362, 717.1419957831478, 1140.2777740467143, 648.4792992549482, 620.1568454945847, 402.8297346599671, 391.02332564406487, 382.3626445567242, 335.1201635492736, 293.6271442363885, 270.84223267444304, 268.66602640418404, 256.4933251223849, 246.66979247045688, 245.2580487123611, 239.25952210451024, 236.03638033158344, 229.9588181474755, 224.0661944554029, 203.45601965158906, 198.4175108631, 197.9498774323357, 189.23751433881006, 173.36434358172738, 219.35517850815876, 159.75678319174582, 155.74506606672708, 145.10125203303988, 141.49149727317212, 133.33307383867884, 130.90738874525792, 130.56213143789276, 148.3112093971597, 1281.7811826523023, 1023.9053553865065, 807.7206360198181, 690.0439475195542, 413.5397113658927, 307.2962703297377, 300.9795825287218, 240.83604810004502, 239.8643976739404, 229.55003581953144, 213.94453667393884, 206.47501006712787, 163.95878714391486, 164.06530206372688, 158.87069696118508, 158.31205473402514, 152.61666374215352, 146.88181060704628, 147.67816795522359, 126.66496879014036, 124.48404471358934, 123.2076320712776, 122.15465111759339, 109.45359820043811, 103.7244127191835, 101.64070026164819, 94.37055133397998, 93.82363147449067, 92.81782387857952, 92.65896351536966, 148.45841952362755, 103.84769103057866, 495.95296500354186, 989.4264275539541, 980.0794384800577, 833.8380605156915, 692.683621884198, 591.0980434638894, 532.1762453879646, 410.42697338091824, 367.2338089985657, 322.4041334833883, 304.35319942637426, 274.1425413309632, 232.568735435474, 193.48325745691284, 176.79866519787112, 167.3112462848896, 152.16459850639174, 151.30869485298928, 147.36731681434722, 146.75243189042504, 144.63789774521186, 137.4470536240425, 134.0511229750394, 128.28250735637954, 124.13089965251453, 109.98484485171083, 108.40618193988807, 102.1119486868804, 108.45809120338028, 98.65585078543864, 92.39471362858313, 224.32945422859999, 121.29948765401527, 824.4475153496355, 434.23767169581873, 346.2612923446898, 425.557582542161, 323.0512710692459, 287.87992606978287, 273.81532939475085, 271.51774886156744, 224.7484729416313, 191.63507474595673, 168.7756931306771, 153.51075203807514, 150.25749588477382, 145.0198817498058, 139.57564681831494, 134.7005144925415, 129.90894424511805, 129.32625268852902, 122.4428079069395, 109.25429259250124, 104.70071528671663, 109.66185624633093, 103.37922538292472, 95.0402448466873, 83.75109837971617, 82.88211206950743, 82.283158770276, 78.96564261463675, 73.65066019696228, 67.61782182348587, 84.26653518703893, 125.96540189759942, 717.1419957831478, 530.5595757719823, 256.1700562995998, 175.10200669353253, 165.8173600640658, 129.85423943838245, 129.67906441896886, 121.73776372303143, 103.64819509234931, 72.32078660343697, 64.81204103011657, 61.6925207185159, 63.011504987019585, 52.94241727982017, 46.724504339440166, 44.91364770887171, 40.96536815965203, 31.84494828657693, 21.598282894737842, 21.18103047869849, 19.76063178236804, 19.99301956228446, 18.67648391115182, 24.11179401905463, 12.142140322665615, 21.372865367207705, 12.471528544554507, 15.988022480291313, 3.6217864962060595, 68.01165931633585, 21.694220597453604, 960.4858634907581, 114.74522090109605, 50.753736240013026, 369.45082163269797, 50.324192852100836, 345.27750100727314, 123.41065298967503, 84.26690344948048, 92.46886109680844], \"Category\": [\"Default\", \"Default\", \"Default\", \"Default\", \"Default\", \"Default\", \"Default\", \"Default\", \"Default\", \"Default\", \"Default\", \"Default\", \"Default\", \"Default\", \"Default\", \"Default\", \"Default\", \"Default\", \"Default\", \"Default\", \"Default\", \"Default\", \"Default\", \"Default\", \"Default\", \"Default\", \"Default\", \"Default\", \"Default\", \"Default\", \"Topic1\", \"Topic1\", \"Topic1\", \"Topic1\", \"Topic1\", \"Topic1\", \"Topic1\", \"Topic1\", \"Topic1\", \"Topic1\", \"Topic1\", \"Topic1\", \"Topic1\", \"Topic1\", \"Topic1\", \"Topic1\", \"Topic1\", \"Topic1\", \"Topic1\", \"Topic1\", \"Topic1\", \"Topic1\", \"Topic1\", \"Topic1\", \"Topic1\", \"Topic1\", \"Topic1\", \"Topic1\", \"Topic1\", \"Topic1\", \"Topic1\", \"Topic1\", \"Topic1\", \"Topic2\", \"Topic2\", \"Topic2\", \"Topic2\", \"Topic2\", \"Topic2\", \"Topic2\", \"Topic2\", \"Topic2\", \"Topic2\", \"Topic2\", \"Topic2\", \"Topic2\", \"Topic2\", \"Topic2\", \"Topic2\", \"Topic2\", \"Topic2\", \"Topic2\", \"Topic2\", \"Topic2\", \"Topic2\", \"Topic2\", \"Topic2\", \"Topic2\", \"Topic2\", \"Topic2\", \"Topic2\", \"Topic2\", \"Topic2\", \"Topic2\", \"Topic2\", \"Topic3\", \"Topic3\", \"Topic3\", \"Topic3\", \"Topic3\", \"Topic3\", \"Topic3\", \"Topic3\", \"Topic3\", \"Topic3\", \"Topic3\", \"Topic3\", \"Topic3\", \"Topic3\", \"Topic3\", \"Topic3\", \"Topic3\", \"Topic3\", \"Topic3\", \"Topic3\", \"Topic3\", \"Topic3\", \"Topic3\", \"Topic3\", \"Topic3\", \"Topic3\", \"Topic3\", \"Topic3\", \"Topic3\", \"Topic3\", \"Topic3\", \"Topic4\", \"Topic4\", \"Topic4\", \"Topic4\", \"Topic4\", \"Topic4\", \"Topic4\", \"Topic4\", \"Topic4\", \"Topic4\", \"Topic4\", \"Topic4\", \"Topic4\", \"Topic4\", \"Topic4\", \"Topic4\", \"Topic4\", \"Topic4\", \"Topic4\", \"Topic4\", \"Topic4\", \"Topic4\", \"Topic4\", \"Topic4\", \"Topic4\", \"Topic4\", \"Topic4\", \"Topic4\", \"Topic4\", \"Topic4\", \"Topic4\", \"Topic4\", \"Topic4\", \"Topic5\", \"Topic5\", \"Topic5\", \"Topic5\", \"Topic5\", \"Topic5\", \"Topic5\", \"Topic5\", \"Topic5\", \"Topic5\", \"Topic5\", \"Topic5\", \"Topic5\", \"Topic5\", \"Topic5\", \"Topic5\", \"Topic5\", \"Topic5\", \"Topic5\", \"Topic5\", \"Topic5\", \"Topic5\", \"Topic5\", \"Topic5\", \"Topic5\", \"Topic5\", \"Topic5\", \"Topic5\", \"Topic5\", \"Topic5\", \"Topic5\", \"Topic5\", \"Topic6\", \"Topic6\", \"Topic6\", \"Topic6\", \"Topic6\", \"Topic6\", \"Topic6\", \"Topic6\", \"Topic6\", \"Topic6\", \"Topic6\", \"Topic6\", \"Topic6\", \"Topic6\", \"Topic6\", \"Topic6\", \"Topic6\", \"Topic6\", \"Topic6\", \"Topic6\", \"Topic6\", \"Topic6\", \"Topic6\", \"Topic6\", \"Topic6\", \"Topic6\", \"Topic6\", \"Topic6\", \"Topic6\", \"Topic6\", \"Topic6\", \"Topic6\", \"Topic6\", \"Topic7\", \"Topic7\", \"Topic7\", \"Topic7\", \"Topic7\", \"Topic7\", \"Topic7\", \"Topic7\", \"Topic7\", \"Topic7\", \"Topic7\", \"Topic7\", \"Topic7\", \"Topic7\", \"Topic7\", \"Topic7\", \"Topic7\", \"Topic7\", \"Topic7\", \"Topic7\", \"Topic7\", \"Topic7\", \"Topic7\", \"Topic7\", \"Topic7\", \"Topic7\", \"Topic7\", \"Topic7\", \"Topic7\", \"Topic7\", \"Topic7\", \"Topic7\", \"Topic7\", \"Topic7\", \"Topic7\", \"Topic7\", \"Topic7\", \"Topic7\", \"Topic7\"], \"logprob\": [30.0, 29.0, 28.0, 27.0, 26.0, 25.0, 24.0, 23.0, 22.0, 21.0, 20.0, 19.0, 18.0, 17.0, 16.0, 15.0, 14.0, 13.0, 12.0, 11.0, 10.0, 9.0, 8.0, 7.0, 6.0, 5.0, 4.0, 3.0, 2.0, 1.0, -3.6058, -3.9673, -4.0872, -4.1599, -4.1648, -4.2073, -4.2526, -4.3558, -4.7208, -4.7632, -4.8188, -4.8265, -4.8433, -4.8457, -4.8619, -4.8932, -4.9003, -4.9444, -4.9471, -4.95, -4.9842, -4.9999, -5.023, -5.0582, -5.1031, -5.1037, -5.1789, -5.1867, -5.1948, -5.2223, -4.2276, -5.1127, -4.7822, -2.142, -2.9729, -3.6298, -3.9983, -4.0587, -4.1601, -4.1746, -4.1937, -4.4248, -4.4746, -4.5248, -4.6419, -4.6552, -4.7578, -4.7346, -4.869, -4.9395, -5.0133, -5.0423, -5.0679, -5.0807, -4.7909, -5.1853, -5.2129, -5.2577, -5.2603, -5.2844, -5.2947, -5.2846, -5.2809, -3.5545, -4.8868, -2.8883, -3.4533, -3.4981, -3.9304, -3.9602, -3.9827, -4.1149, -4.2475, -4.3286, -4.3367, -4.3832, -4.4224, -4.4282, -4.453, -4.4667, -4.4928, -4.5189, -4.6159, -4.6411, -4.6437, -4.6887, -4.7768, -4.5418, -4.859, -4.8846, -4.9559, -4.9812, -5.0411, -5.0595, -5.0622, -4.947, -2.6628, -2.8876, -3.1251, -3.2827, -3.7957, -4.0934, -4.1143, -4.338, -4.3421, -4.3862, -4.4569, -4.4926, -4.7244, -4.7238, -4.7561, -4.7597, -4.7966, -4.8351, -4.8297, -4.9842, -5.0017, -5.0121, -5.0208, -5.1315, -5.1858, -5.2062, -5.2812, -5.2871, -5.298, -5.2997, -4.8284, -5.2446, -4.7363, -2.9018, -2.9113, -3.0731, -3.2588, -3.4176, -3.5228, -3.7832, -3.8947, -4.0252, -4.083, -4.1879, -4.353, -4.5379, -4.6285, -4.684, -4.7795, -4.7852, -4.8117, -4.816, -4.8305, -4.8819, -4.9071, -4.9514, -4.9846, -5.1066, -5.1212, -5.1816, -5.1214, -5.2163, -5.2826, -4.4193, -5.0181, -2.7669, -3.4091, -3.6361, -3.43, -3.7057, -3.8213, -3.8716, -3.88, -4.0698, -4.23, -4.3577, -4.4532, -4.4747, -4.5104, -4.5489, -4.5847, -4.6212, -4.6257, -4.6809, -4.7958, -4.8388, -4.7927, -4.8517, -4.9369, -5.0644, -5.075, -5.0823, -5.124, -5.1952, -5.2813, -5.0745, -4.7574, -4.768, -2.3254, -3.0556, -3.4379, -3.4927, -3.7389, -3.7403, -3.804, -3.9664, -4.3307, -4.4418, -4.492, -4.4709, -4.6477, -4.7756, -4.8158, -4.9152, -5.1693, -5.5736, -5.5939, -5.6669, -5.6562, -5.7267, -5.4881, -6.1895, -5.628, -6.2769, -6.037, -7.6429, -4.8221, -5.9748, -2.4307, -4.6101, -5.4115, -4.5318, -5.5055, -4.7517, -5.2412, -5.3699, -5.5391], \"loglift\": [30.0, 29.0, 28.0, 27.0, 26.0, 25.0, 24.0, 23.0, 22.0, 21.0, 20.0, 19.0, 18.0, 17.0, 16.0, 15.0, 14.0, 13.0, 12.0, 11.0, 10.0, 9.0, 8.0, 7.0, 6.0, 5.0, 4.0, 3.0, 2.0, 1.0, 1.3428, 1.3424, 1.3422, 1.3421, 1.3421, 1.342, 1.342, 1.3418, 1.3409, 1.3408, 1.3406, 1.3406, 1.3405, 1.3405, 1.3404, 1.3403, 1.3403, 1.3402, 1.3402, 1.3401, 1.34, 1.34, 1.3399, 1.3397, 1.3396, 1.3395, 1.3392, 1.3392, 1.3391, 1.339, 1.3154, 1.2293, -0.1816, 1.5164, 1.516, 1.5154, 1.5149, 1.5148, 1.5146, 1.5146, 1.5146, 1.514, 1.5139, 1.5137, 1.5134, 1.5133, 1.513, 1.513, 1.5126, 1.5123, 1.5119, 1.5118, 1.5117, 1.5116, 1.5111, 1.5111, 1.5109, 1.5107, 1.5106, 1.5105, 1.5104, 1.5102, 1.5102, 1.0461, 0.4223, 1.957, 1.9564, 1.9563, 1.9554, 1.9554, 1.9553, 1.9549, 1.9545, 1.9542, 1.9542, 1.954, 1.9539, 1.9539, 1.9538, 1.9537, 1.9536, 1.9535, 1.953, 1.9529, 1.9527, 1.9526, 1.9522, 1.9518, 1.9517, 1.9515, 1.951, 1.9509, 1.9504, 1.9503, 1.9503, 1.938, 2.0655, 2.0653, 2.0651, 2.0649, 2.0639, 2.0631, 2.063, 2.0622, 2.0622, 2.062, 2.0617, 2.0615, 2.0603, 2.0603, 2.0601, 2.0601, 2.0598, 2.0596, 2.0596, 2.0586, 2.0584, 2.0584, 2.0582, 2.0573, 2.0568, 2.0567, 2.0559, 2.0558, 2.0557, 2.0557, 2.0556, 1.9968, 0.9416, 2.0854, 2.0854, 2.0852, 2.085, 2.0847, 2.0845, 2.084, 2.0837, 2.0833, 2.0831, 2.0828, 2.0821, 2.0813, 2.0808, 2.0805, 2.0799, 2.0798, 2.0797, 2.0796, 2.0796, 2.0792, 2.079, 2.0787, 2.0784, 2.0774, 2.0772, 2.0767, 2.0766, 2.0764, 2.0757, 2.0519, 2.0679, 2.4027, 2.4016, 2.4011, 2.4009, 2.4009, 2.4005, 2.4003, 2.4003, 2.3995, 2.3987, 2.3981, 2.3974, 2.3973, 2.3971, 2.3968, 2.3965, 2.3963, 2.3963, 2.3958, 2.3949, 2.3944, 2.3943, 2.3943, 2.3932, 2.3921, 2.3919, 2.3918, 2.3913, 2.3898, 2.3892, 2.3758, 2.2909, 0.5411, 3.285, 3.2829, 3.2811, 3.2807, 3.279, 3.279, 3.2784, 3.2769, 3.2725, 3.271, 3.2702, 3.2701, 3.2674, 3.2645, 3.2638, 3.2564, 3.2542, 3.2382, 3.2373, 3.2337, 3.2327, 3.2304, 3.2135, 3.1981, 3.1942, 3.084, 3.0755, 2.9544, 2.8426, 2.8325, 2.5862, 2.5315, 2.5459, 1.4405, 2.4604, 1.2883, 1.8276, 2.0804, 1.8184]}, \"token.table\": {\"Topic\": [4, 6, 1, 3, 4, 5, 2, 1, 3, 4, 5, 1, 5, 4, 5, 7, 7, 5, 7, 5, 7, 3, 1, 2, 3, 4, 5, 6, 1, 1, 2, 3, 4, 5, 6, 7, 5, 1, 3, 2, 5, 1, 5, 5, 6, 7, 7, 5, 2, 6, 4, 4, 1, 2, 3, 4, 5, 6, 7, 1, 2, 3, 4, 5, 6, 7, 4, 3, 4, 4, 6, 7, 4, 6, 4, 1, 2, 2, 6, 2, 1, 2, 3, 3, 3, 1, 2, 3, 4, 5, 6, 3, 1, 3, 4, 6, 7, 6, 6, 3, 4, 2, 3, 1, 7, 5, 4, 7, 3, 5, 7, 1, 2, 6, 2, 4, 4, 4, 2, 5, 4, 1, 2, 3, 4, 5, 6, 7, 1, 1, 2, 3, 4, 5, 6, 7, 1, 2, 3, 4, 5, 6, 7, 1, 2, 3, 4, 5, 6, 7, 4, 1, 2, 3, 4, 5, 6, 7, 4, 3, 6, 3, 5, 1, 6, 4, 3, 3, 7, 1, 5, 6, 7, 3, 7, 3, 2, 7, 3, 1, 6, 2, 1, 2, 3, 4, 5, 6, 7, 1, 2, 3, 4, 5, 6, 7, 4, 7, 5, 3, 1, 2, 3, 4, 5, 6, 6, 6, 5, 3, 6, 5, 2, 1, 3, 2, 1, 2, 3, 4, 5, 6, 7, 2, 1, 5, 1, 2, 4, 6, 5, 4, 4, 2, 4, 6, 4, 6, 7, 2, 7, 1, 1, 6, 1, 2, 3, 4, 5, 6, 6, 5, 4, 4, 2, 6, 2, 1, 2, 3, 4, 5, 6, 7, 2, 2, 4, 5, 2, 1, 6, 1, 2, 5, 1, 5, 3, 7, 7, 5, 3, 7, 6, 2, 1, 6, 4, 3, 7, 3, 7, 6, 7, 6, 1, 2, 3, 4, 5, 6, 7, 1, 6, 5, 1, 5, 1, 1, 7, 7, 4, 1, 5, 3, 3, 4, 3, 4, 2, 2, 4, 1, 3, 4, 5, 5, 3, 5, 6, 1, 3, 7, 6, 6, 7, 2, 6, 1, 2, 1, 2, 2, 1, 3], \"Freq\": [0.9986948983348901, 0.9844055723011508, 0.01783091753936089, 0.008915458769680445, 0.004457729384840223, 0.9673272765103285, 0.9938586841276178, 0.9965532910508496, 0.9952416094806523, 0.9957816919536747, 0.9913508284883377, 0.996947818664409, 0.9908894589849884, 0.9954077981558573, 0.9870285816295254, 0.9637788400445177, 0.981737109543908, 0.9975545490480091, 0.9764345298719213, 0.9965231978562143, 0.9844941246636487, 0.9934605231783249, 0.21767063472419254, 0.6248589198707105, 0.07759237136856074, 0.04806607075928542, 0.017853111996306015, 0.014419821227785626, 0.9949955827313316, 0.1946601243542435, 0.20547457570725702, 0.2271034784132841, 0.08651561082410822, 0.021628902706027055, 0.032443354059040586, 0.2271034784132841, 0.9981423666073147, 0.9986612036971191, 0.9952629041682849, 0.9927871384970581, 0.9923339234804689, 0.9967112027588783, 0.9921628323618075, 0.9849048330385033, 0.9910317787557748, 0.9937064873536184, 0.9937461999046701, 0.986556178638198, 0.9919837359811259, 0.9967458073581745, 0.9976994307108961, 0.9945194615631491, 0.04609522593853299, 0.09219045187706598, 0.04609522593853299, 0.09219045187706598, 0.04609522593853299, 0.04609522593853299, 0.6453331631394619, 0.3085434368142822, 0.17800582893131667, 0.05933527631043889, 0.08306938683461444, 0.023734110524175553, 0.03560116578626333, 0.29667638155219445, 0.9941522674044101, 0.9776739100799005, 0.01348515738041242, 0.011867107123609498, 0.9731027841359787, 0.8889776674096126, 0.9967453522245872, 0.9947994668381146, 0.9959593944263165, 0.9975715630645028, 0.9925180100033941, 0.9977130848047971, 0.9969434267897874, 0.9936087852665269, 0.995110228731649, 0.9943257227718436, 0.9900019267515594, 0.9973829549877125, 0.994870509983399, 0.8931045488899216, 0.011751375643288441, 0.003917125214429481, 0.05092262778758325, 0.03525412692986533, 0.007834250428858961, 0.9988794186155364, 0.0625468222372539, 0.0625468222372539, 0.0625468222372539, 0.0625468222372539, 0.8131086890843007, 0.9939645719214873, 0.9966697306912262, 0.9924104580931588, 0.9930159863026197, 0.9970014631551805, 0.9965263123039598, 0.9978184783989247, 0.9939397299533944, 0.9894719196527806, 0.9936964202332444, 0.983947296811464, 0.9980766551248479, 0.9990130820729693, 0.9503316865573559, 0.9963709686907293, 0.999644854778628, 0.9958757359794703, 0.9988225239624277, 0.9993905491336003, 0.9901983988250097, 0.9905476287064842, 0.9919530933988704, 0.9910456313045796, 0.9917122247182663, 0.18545839008460058, 0.33466175654364017, 0.11573719080467555, 0.12689258268946355, 0.07251004725112203, 0.15478106240143358, 0.009760967899189505, 0.9950447596864208, 0.044110083920264304, 0.10292352914728338, 0.05881344522701907, 0.07351680653377383, 0.044110083920264304, 0.029406722613509535, 0.6469478974972098, 0.08225003928000045, 0.13326588642835516, 0.04685128819746861, 0.09578485587038027, 0.07287978164050672, 0.0718386419027852, 0.49662365489316723, 0.1539575355912719, 0.17016359196930053, 0.18636964834732914, 0.08103028189014311, 0.06482422551211449, 0.10533936645718604, 0.234987817481415, 0.9984871289382267, 0.16533825944445033, 0.2621216308265676, 0.1129139332791368, 0.3246275581775183, 0.03831008450542142, 0.09275073090786239, 0.004032640474254886, 0.9935068411764902, 0.9956092347708114, 0.9908630327504682, 0.9981345920745871, 0.998994936120842, 0.9974086341804195, 0.9970223383893332, 0.996111592335363, 0.9968903199987448, 0.9977188180769259, 0.9615077194522326, 0.9942550602577857, 0.9955896915320523, 0.9882164748456594, 0.9722995157692093, 0.9975209876250521, 0.9947635000143513, 0.9958304788866126, 0.9985479111182417, 0.9887746405812196, 0.9921301949781606, 0.9964928485370527, 0.9971497827653109, 0.9968325603957394, 0.17593681267982658, 0.20841745502071762, 0.12180240877834148, 0.14074945014386125, 0.11638896838819296, 0.08120160585222765, 0.15698977131430678, 0.059108948862662686, 0.07881193181688359, 0.07881193181688359, 0.059108948862662686, 0.13792088067954628, 0.09851491477110448, 0.4728715909013015, 0.9991078152672077, 0.8283204996049874, 0.9933521349193468, 0.9972846595290459, 0.9726267827486352, 0.005286015123633887, 0.01233403528847907, 0.005286015123633887, 0.0035240100824225915, 0.0017620050412112957, 0.9963573972240759, 0.98851951202339, 0.9891104939120288, 0.9947357493092372, 0.9966728582115965, 0.9977897446604233, 0.9990875495960065, 0.9980390136993434, 0.9966574271825069, 0.9978044438787476, 0.3179385320102966, 0.07948463300257415, 0.019871158250643537, 0.07948463300257415, 0.05961347475193061, 0.019871158250643537, 0.4371654815141578, 0.993657472149124, 0.9981703005834615, 0.9988986214405929, 0.03851794835594537, 0.009629487088986342, 0.9340602476316752, 0.009629487088986342, 0.9948727807728129, 0.9965285591312405, 0.9912214922664275, 0.9959349354085798, 0.9963963069037223, 0.9890546910062642, 0.993996461485586, 0.9893570271379225, 0.9989453102016526, 0.9977320308798348, 0.993421551409665, 0.9968154019425315, 0.9934143156359464, 0.9954039997330866, 0.015877375611644953, 0.031754751223289905, 0.007938687805822476, 0.02381606341746743, 0.02381606341746743, 0.8970717220579398, 0.9966860203081371, 0.996640263046776, 0.9901762424232501, 0.9867195028364788, 0.9962728395089544, 0.9916310605512944, 0.9975388000514946, 0.23459391290686435, 0.30410322043482413, 0.10716018243893803, 0.07819797096895478, 0.04054709605797655, 0.10136774014494138, 0.13612239390892128, 0.995967742259415, 0.9990114386853675, 0.9911889350083303, 0.9907217092371319, 0.9972627569289361, 0.9981728108127303, 0.9933074450848042, 0.008244057904451487, 0.008244057904451487, 0.9810428906297268, 0.998207217019815, 0.9900024766992072, 0.08018263330172419, 0.8018263330172418, 0.9734668029926402, 0.9954826288027839, 0.9930684680677294, 0.944241122740169, 0.9911655890765645, 0.9979468788530872, 0.9960086765304628, 0.9980931306931562, 0.9854769171674164, 0.9952161176880694, 0.9874708307714112, 0.9979402348223687, 0.9124165536008743, 0.9866585827295963, 0.9954325016885213, 0.989744907464974, 0.23530391756596544, 0.09586455900835629, 0.04357479954925286, 0.07843463918865515, 0.04357479954925286, 0.026144879729551717, 0.4706078351319309, 0.9967949411224548, 0.9963399017992901, 0.9985583288315024, 0.9955683501763755, 0.9921587902308352, 0.996720431348907, 0.9954028104063305, 0.9059358323726837, 0.9821992019208502, 0.9955851330039881, 0.9983026844855591, 0.9956448030978466, 0.9978641476147599, 0.9928559185278862, 0.9976038521729359, 0.9938219899006927, 0.9991157821553099, 0.9972367462066083, 0.9980410501857292, 0.9947501760234743, 0.9973511187176785, 0.9928435656311254, 0.9928882917489105, 0.9955538518112355, 0.9958323092599342, 0.9956945292505418, 0.9923464556288182, 0.9930032204449063, 0.9986871032507454, 0.995201424498682, 0.9950707207993782, 0.987771357483289, 0.9929672970526529, 0.9796576818967381, 0.9959773045955005, 0.9982442601588511, 0.9976101271997457, 0.9997962375735736, 0.9989935689536266, 0.9927880835805569, 0.9943823882877284, 0.9972911982310627, 0.9964362508311869], \"Term\": [\"action\", \"air\", \"airport\", \"airport\", \"airport\", \"airport\", \"america\", \"back\", \"big\", \"board\", \"building\", \"burning\", \"business\", \"california\", \"calling\", \"came\", \"cant\", \"change\", \"changing\", \"check\", \"chicago\", \"children\", \"choice\", \"choice\", \"choice\", \"choice\", \"choice\", \"choice\", \"clean\", \"cleaned\", \"cleaned\", \"cleaned\", \"cleaned\", \"cleaned\", \"cleaned\", \"cleaned\", \"climate\", \"coal\", \"come\", \"community\", \"companies\", \"company\", \"corporate\", \"corporations\", \"country\", \"create\", \"creating\", \"creation\", \"cuts\", \"day\", \"dc\", \"demand\", \"destroys\", \"destroys\", \"destroys\", \"destroys\", \"destroys\", \"destroys\", \"destroys\", \"dirtier\", \"dirtier\", \"dirtier\", \"dirtier\", \"dirtier\", \"dirtier\", \"dirtier\", \"disaster\", \"disasters\", \"disasters\", \"drive\", \"drive\", \"duty\", \"earth\", \"economic\", \"emissions\", \"energy\", \"enough\", \"environment\", \"environmental\", \"every\", \"everyone\", \"exposed\", \"extra\", \"families\", \"fight\", \"fix\", \"fix\", \"fix\", \"fix\", \"fix\", \"fix\", \"food\", \"fort\", \"fort\", \"fort\", \"fort\", \"fort\", \"found\", \"fuel\", \"full\", \"fund\", \"future\", \"gas\", \"get\", \"give\", \"global\", \"go\", \"goes\", \"going\", \"good\", \"graduate\", \"great\", \"green\", \"hard\", \"health\", \"heat\", \"help\", \"helped\", \"hey\", \"higher\", \"history\", \"hotel\", \"hotel\", \"hotel\", \"hotel\", \"hotel\", \"hotel\", \"hotel\", \"hours\", \"housekeeper\", \"housekeeper\", \"housekeeper\", \"housekeeper\", \"housekeeper\", \"housekeeper\", \"housekeeper\", \"housekeepers\", \"housekeepers\", \"housekeepers\", \"housekeepers\", \"housekeepers\", \"housekeepers\", \"housekeepers\", \"housekeeping\", \"housekeeping\", \"housekeeping\", \"housekeeping\", \"housekeeping\", \"housekeeping\", \"housekeeping\", \"hurricane\", \"hyatt\", \"hyatt\", \"hyatt\", \"hyatt\", \"hyatt\", \"hyatt\", \"hyatt\", \"impacted\", \"industry\", \"issue\", \"job\", \"jobs\", \"join\", \"justice\", \"keep\", \"know\", \"labor\", \"learn\", \"less\", \"let\", \"life\", \"light\", \"like\", \"live\", \"lives\", \"local\", \"long\", \"low\", \"made\", \"make\", \"many\", \"marriott\", \"marriott\", \"marriott\", \"marriott\", \"marriott\", \"marriott\", \"marriott\", \"measure\", \"measure\", \"measure\", \"measure\", \"measure\", \"measure\", \"measure\", \"members\", \"military\", \"millions\", \"mine\", \"miners\", \"miners\", \"miners\", \"miners\", \"miners\", \"miners\", \"movement\", \"nation\", \"national\", \"natural\", \"nature\", \"need\", \"new\", \"now\", \"oil\", \"one\", \"opt\", \"opt\", \"opt\", \"opt\", \"opt\", \"opt\", \"opt\", \"osha\", \"pay\", \"people\", \"picket\", \"picket\", \"picket\", \"picket\", \"place\", \"planet\", \"please\", \"point\", \"power\", \"practices\", \"president\", \"private\", \"program\", \"programs\", \"protect\", \"protections\", \"protest\", \"public\", \"published\", \"published\", \"published\", \"published\", \"published\", \"published\", \"read\", \"real\", \"really\", \"recent\", \"report\", \"right\", \"rights\", \"rooms\", \"rooms\", \"rooms\", \"rooms\", \"rooms\", \"rooms\", \"rooms\", \"safe\", \"safety\", \"sandy\", \"save\", \"say\", \"says\", \"school\", \"serve\", \"serve\", \"serve\", \"service\", \"share\", \"short\", \"short\", \"show\", \"sign\", \"solidarity\", \"soon\", \"spoke\", \"stand\", \"standing\", \"state\", \"states\", \"stay\", \"stop\", \"strike\", \"students\", \"summer\", \"support\", \"sure\", \"surveyed\", \"surveyed\", \"surveyed\", \"surveyed\", \"surveyed\", \"surveyed\", \"surveyed\", \"sustain\", \"sustainability\", \"sustainable\", \"take\", \"talk\", \"tax\", \"tell\", \"term\", \"thanks\", \"thousands\", \"time\", \"today\", \"together\", \"transformed\", \"turn\", \"turned\", \"union\", \"unions\", \"unite\", \"united\", \"us\", \"use\", \"valley\", \"video\", \"wage\", \"wages\", \"wants\", \"watch\", \"water\", \"wave\", \"week\", \"west\", \"wind\", \"without\", \"women\", \"work\", \"worker\", \"workers\", \"working\", \"workplace\", \"world\", \"years\", \"zero\"]}, \"R\": 30, \"lambda.step\": 0.01, \"plot.opts\": {\"xlab\": \"PC1\", \"ylab\": \"PC2\"}, \"topic.order\": [1, 7, 6, 4, 3, 2, 5]};\n",
       "\n",
       "function LDAvis_load_lib(url, callback){\n",
       "  var s = document.createElement('script');\n",
       "  s.src = url;\n",
       "  s.async = true;\n",
       "  s.onreadystatechange = s.onload = callback;\n",
       "  s.onerror = function(){console.warn(\"failed to load library \" + url);};\n",
       "  document.getElementsByTagName(\"head\")[0].appendChild(s);\n",
       "}\n",
       "\n",
       "if(typeof(LDAvis) !== \"undefined\"){\n",
       "   // already loaded: just create the visualization\n",
       "   !function(LDAvis){\n",
       "       new LDAvis(\"#\" + \"ldavis_el222771405838532048648442077404\", ldavis_el222771405838532048648442077404_data);\n",
       "   }(LDAvis);\n",
       "}else if(typeof define === \"function\" && define.amd){\n",
       "   // require.js is available: use it to load d3/LDAvis\n",
       "   require.config({paths: {d3: \"https://d3js.org/d3.v5\"}});\n",
       "   require([\"d3\"], function(d3){\n",
       "      window.d3 = d3;\n",
       "      LDAvis_load_lib(\"https://cdn.jsdelivr.net/gh/bmabey/pyLDAvis@3.4.0/pyLDAvis/js/ldavis.v3.0.0.js\", function(){\n",
       "        new LDAvis(\"#\" + \"ldavis_el222771405838532048648442077404\", ldavis_el222771405838532048648442077404_data);\n",
       "      });\n",
       "    });\n",
       "}else{\n",
       "    // require.js not available: dynamically load d3 & LDAvis\n",
       "    LDAvis_load_lib(\"https://d3js.org/d3.v5.js\", function(){\n",
       "         LDAvis_load_lib(\"https://cdn.jsdelivr.net/gh/bmabey/pyLDAvis@3.4.0/pyLDAvis/js/ldavis.v3.0.0.js\", function(){\n",
       "                 new LDAvis(\"#\" + \"ldavis_el222771405838532048648442077404\", ldavis_el222771405838532048648442077404_data);\n",
       "            })\n",
       "         });\n",
       "}\n",
       "</script>"
      ],
      "text/plain": [
       "<IPython.core.display.HTML object>"
      ]
     },
     "execution_count": 61,
     "metadata": {},
     "output_type": "execute_result"
    }
   ],
   "source": [
    "pyLDAvis.display(vis_data)"
   ]
  },
  {
   "cell_type": "markdown",
   "id": "85a558f1",
   "metadata": {},
   "source": [
    "## Analysis\n",
    "\n",
    "Topic 0: This topic seems to be related to coal mining and energy production. Words like \"coal\", \"miners\", \"energy\", and \"water\" suggest that the discussion may be about the environmental impact of coal mining and the need for alternative sources of energy.\n",
    "\n",
    "Topic 1: This topic seems to be related to sustainability and environmental justice. Words like \"sustainability\", \"environmental\", \"justice\", and \"state\" suggest that the discussion may be about promoting sustainable practices and addressing environmental inequalities.\n",
    "\n",
    "Topic 2: This topic seems to be related to sustainable jobs and climate change. Words like \"sustainable\", \"jobs\", \"climate\", and \"need\" suggest that the discussion may be about creating job opportunities that are both sustainable and contribute to addressing climate change.\n",
    "\n",
    "Topic 3: This topic seems to be related to the impact of climate change on workers and unions. Words like \"union\", \"members\", \"hurricane\", and \"power\" suggest that the discussion may be about the need for unions to address the impact of climate change on workers and their communities.\n",
    "\n",
    "Topic 4: This topic seems to be related to supporting programs that protect workers. Words like \"program\", \"housekeepers\", \"support\", and \"protect\" suggest that the discussion may be about advocating for programs that support and protect workers, particularly those in low-wage jobs.\n",
    "\n",
    "Topic 5: This topic seems to be related to labor and food justice. Words like \"food\", \"labor\", \"job\", and \"strike\" suggest that the discussion may be about promoting fair labor practices in the food industry and advocating for food justice.\n",
    "\n",
    "Topic 6: This topic seems to be related to promoting a green economy and workplace safety. Words like \"green\", \"safety\", \"health\", and \"unions\" suggest that the discussion may be about promoting a sustainable and safe workplace environment.\n",
    "\n",
    "\n",
    "\n",
    "\n"
   ]
  },
  {
   "cell_type": "code",
   "execution_count": null,
   "id": "c81d2ae5",
   "metadata": {},
   "outputs": [],
   "source": []
  }
 ],
 "metadata": {
  "kernelspec": {
   "display_name": "Python 3",
   "language": "python",
   "name": "python3"
  },
  "language_info": {
   "codemirror_mode": {
    "name": "ipython",
    "version": 3
   },
   "file_extension": ".py",
   "mimetype": "text/x-python",
   "name": "python",
   "nbconvert_exporter": "python",
   "pygments_lexer": "ipython3",
   "version": "3.8.8"
  }
 },
 "nbformat": 4,
 "nbformat_minor": 5
}
