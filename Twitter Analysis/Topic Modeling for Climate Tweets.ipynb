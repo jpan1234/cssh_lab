{
 "cells": [
  {
   "cell_type": "code",
   "execution_count": 1,
   "id": "a45cd6f8",
   "metadata": {
    "scrolled": true
   },
   "outputs": [
    {
     "name": "stdout",
     "output_type": "stream",
     "text": [
      "Requirement already satisfied: gensim in /Users/jeffreypan/opt/anaconda3/lib/python3.8/site-packages (4.3.0)\n",
      "Requirement already satisfied: FuzzyTM>=0.4.0 in /Users/jeffreypan/opt/anaconda3/lib/python3.8/site-packages (from gensim) (2.0.5)\n",
      "Requirement already satisfied: scipy>=1.7.0 in /Users/jeffreypan/opt/anaconda3/lib/python3.8/site-packages (from gensim) (1.10.1)\n",
      "Requirement already satisfied: numpy>=1.18.5 in /Users/jeffreypan/opt/anaconda3/lib/python3.8/site-packages (from gensim) (1.22.4)\n",
      "Requirement already satisfied: smart-open>=1.8.1 in /Users/jeffreypan/opt/anaconda3/lib/python3.8/site-packages (from gensim) (6.3.0)\n",
      "Requirement already satisfied: pyfume in /Users/jeffreypan/opt/anaconda3/lib/python3.8/site-packages (from FuzzyTM>=0.4.0->gensim) (0.2.25)\n",
      "Requirement already satisfied: pandas in /Users/jeffreypan/opt/anaconda3/lib/python3.8/site-packages (from FuzzyTM>=0.4.0->gensim) (1.5.3)\n",
      "Requirement already satisfied: python-dateutil>=2.8.1 in /Users/jeffreypan/opt/anaconda3/lib/python3.8/site-packages (from pandas->FuzzyTM>=0.4.0->gensim) (2.8.1)\n",
      "Requirement already satisfied: pytz>=2020.1 in /Users/jeffreypan/opt/anaconda3/lib/python3.8/site-packages (from pandas->FuzzyTM>=0.4.0->gensim) (2021.1)\n",
      "Requirement already satisfied: simpful in /Users/jeffreypan/opt/anaconda3/lib/python3.8/site-packages (from pyfume->FuzzyTM>=0.4.0->gensim) (2.10.0)\n",
      "Requirement already satisfied: fst-pso in /Users/jeffreypan/opt/anaconda3/lib/python3.8/site-packages (from pyfume->FuzzyTM>=0.4.0->gensim) (1.8.1)\n",
      "Requirement already satisfied: six>=1.5 in /Users/jeffreypan/opt/anaconda3/lib/python3.8/site-packages (from python-dateutil>=2.8.1->pandas->FuzzyTM>=0.4.0->gensim) (1.15.0)\n",
      "Requirement already satisfied: miniful in /Users/jeffreypan/opt/anaconda3/lib/python3.8/site-packages (from fst-pso->pyfume->FuzzyTM>=0.4.0->gensim) (0.0.6)\n",
      "Requirement already satisfied: requests in /Users/jeffreypan/opt/anaconda3/lib/python3.8/site-packages (from simpful->pyfume->FuzzyTM>=0.4.0->gensim) (2.28.1)\n",
      "Requirement already satisfied: certifi>=2017.4.17 in /Users/jeffreypan/opt/anaconda3/lib/python3.8/site-packages (from requests->simpful->pyfume->FuzzyTM>=0.4.0->gensim) (2022.12.7)\n",
      "Requirement already satisfied: charset-normalizer<3,>=2 in /Users/jeffreypan/opt/anaconda3/lib/python3.8/site-packages (from requests->simpful->pyfume->FuzzyTM>=0.4.0->gensim) (2.1.1)\n",
      "Requirement already satisfied: urllib3<1.27,>=1.21.1 in /Users/jeffreypan/opt/anaconda3/lib/python3.8/site-packages (from requests->simpful->pyfume->FuzzyTM>=0.4.0->gensim) (1.26.4)\n",
      "Requirement already satisfied: idna<4,>=2.5 in /Users/jeffreypan/opt/anaconda3/lib/python3.8/site-packages (from requests->simpful->pyfume->FuzzyTM>=0.4.0->gensim) (2.10)\n",
      "Note: you may need to restart the kernel to use updated packages.\n"
     ]
    }
   ],
   "source": [
    "pip install gensim"
   ]
  },
  {
   "cell_type": "code",
   "execution_count": 2,
   "id": "8bd84af6",
   "metadata": {
    "scrolled": true
   },
   "outputs": [
    {
     "name": "stdout",
     "output_type": "stream",
     "text": [
      "Requirement already satisfied: pyLDAvis in /Users/jeffreypan/opt/anaconda3/lib/python3.8/site-packages (3.4.0)\n",
      "Requirement already satisfied: scikit-learn>=1.0.0 in /Users/jeffreypan/opt/anaconda3/lib/python3.8/site-packages (from pyLDAvis) (1.1.2)\n",
      "Requirement already satisfied: scipy in /Users/jeffreypan/opt/anaconda3/lib/python3.8/site-packages (from pyLDAvis) (1.10.1)\n",
      "Requirement already satisfied: pandas>=1.3.4 in /Users/jeffreypan/opt/anaconda3/lib/python3.8/site-packages (from pyLDAvis) (1.5.3)\n",
      "Requirement already satisfied: setuptools in /Users/jeffreypan/opt/anaconda3/lib/python3.8/site-packages (from pyLDAvis) (67.4.0)\n",
      "Requirement already satisfied: gensim in /Users/jeffreypan/opt/anaconda3/lib/python3.8/site-packages (from pyLDAvis) (4.3.0)\n",
      "Requirement already satisfied: joblib>=1.2.0 in /Users/jeffreypan/opt/anaconda3/lib/python3.8/site-packages (from pyLDAvis) (1.2.0)\n",
      "Requirement already satisfied: funcy in /Users/jeffreypan/opt/anaconda3/lib/python3.8/site-packages (from pyLDAvis) (1.18)\n",
      "Requirement already satisfied: numexpr in /Users/jeffreypan/opt/anaconda3/lib/python3.8/site-packages (from pyLDAvis) (2.7.3)\n",
      "Requirement already satisfied: numpy>=1.22.0 in /Users/jeffreypan/opt/anaconda3/lib/python3.8/site-packages (from pyLDAvis) (1.22.4)\n",
      "Requirement already satisfied: jinja2 in /Users/jeffreypan/opt/anaconda3/lib/python3.8/site-packages (from pyLDAvis) (2.11.3)\n",
      "Requirement already satisfied: python-dateutil>=2.8.1 in /Users/jeffreypan/opt/anaconda3/lib/python3.8/site-packages (from pandas>=1.3.4->pyLDAvis) (2.8.1)\n",
      "Requirement already satisfied: pytz>=2020.1 in /Users/jeffreypan/opt/anaconda3/lib/python3.8/site-packages (from pandas>=1.3.4->pyLDAvis) (2021.1)\n",
      "Requirement already satisfied: threadpoolctl>=2.0.0 in /Users/jeffreypan/opt/anaconda3/lib/python3.8/site-packages (from scikit-learn>=1.0.0->pyLDAvis) (2.1.0)\n",
      "Requirement already satisfied: smart-open>=1.8.1 in /Users/jeffreypan/opt/anaconda3/lib/python3.8/site-packages (from gensim->pyLDAvis) (6.3.0)\n",
      "Requirement already satisfied: FuzzyTM>=0.4.0 in /Users/jeffreypan/opt/anaconda3/lib/python3.8/site-packages (from gensim->pyLDAvis) (2.0.5)\n",
      "Requirement already satisfied: MarkupSafe>=0.23 in /Users/jeffreypan/opt/anaconda3/lib/python3.8/site-packages (from jinja2->pyLDAvis) (1.1.1)\n",
      "Requirement already satisfied: pyfume in /Users/jeffreypan/opt/anaconda3/lib/python3.8/site-packages (from FuzzyTM>=0.4.0->gensim->pyLDAvis) (0.2.25)\n",
      "Requirement already satisfied: six>=1.5 in /Users/jeffreypan/opt/anaconda3/lib/python3.8/site-packages (from python-dateutil>=2.8.1->pandas>=1.3.4->pyLDAvis) (1.15.0)\n",
      "Requirement already satisfied: fst-pso in /Users/jeffreypan/opt/anaconda3/lib/python3.8/site-packages (from pyfume->FuzzyTM>=0.4.0->gensim->pyLDAvis) (1.8.1)\n",
      "Requirement already satisfied: simpful in /Users/jeffreypan/opt/anaconda3/lib/python3.8/site-packages (from pyfume->FuzzyTM>=0.4.0->gensim->pyLDAvis) (2.10.0)\n",
      "Requirement already satisfied: miniful in /Users/jeffreypan/opt/anaconda3/lib/python3.8/site-packages (from fst-pso->pyfume->FuzzyTM>=0.4.0->gensim->pyLDAvis) (0.0.6)\n",
      "Requirement already satisfied: requests in /Users/jeffreypan/opt/anaconda3/lib/python3.8/site-packages (from simpful->pyfume->FuzzyTM>=0.4.0->gensim->pyLDAvis) (2.28.1)\n",
      "Requirement already satisfied: charset-normalizer<3,>=2 in /Users/jeffreypan/opt/anaconda3/lib/python3.8/site-packages (from requests->simpful->pyfume->FuzzyTM>=0.4.0->gensim->pyLDAvis) (2.1.1)\n",
      "Requirement already satisfied: idna<4,>=2.5 in /Users/jeffreypan/opt/anaconda3/lib/python3.8/site-packages (from requests->simpful->pyfume->FuzzyTM>=0.4.0->gensim->pyLDAvis) (2.10)\n",
      "Requirement already satisfied: urllib3<1.27,>=1.21.1 in /Users/jeffreypan/opt/anaconda3/lib/python3.8/site-packages (from requests->simpful->pyfume->FuzzyTM>=0.4.0->gensim->pyLDAvis) (1.26.4)\n",
      "Requirement already satisfied: certifi>=2017.4.17 in /Users/jeffreypan/opt/anaconda3/lib/python3.8/site-packages (from requests->simpful->pyfume->FuzzyTM>=0.4.0->gensim->pyLDAvis) (2022.12.7)\n",
      "Note: you may need to restart the kernel to use updated packages.\n"
     ]
    }
   ],
   "source": [
    "pip install pyLDAvis"
   ]
  },
  {
   "cell_type": "code",
   "execution_count": 3,
   "id": "833b1ba0",
   "metadata": {},
   "outputs": [],
   "source": [
    "import pandas as pd\n",
    "import numpy as np\n",
    "import ast"
   ]
  },
  {
   "cell_type": "code",
   "execution_count": 4,
   "id": "619887f4",
   "metadata": {},
   "outputs": [],
   "source": [
    "df = pd.read_csv('Twitter Cleaned Text.csv')"
   ]
  },
  {
   "cell_type": "code",
   "execution_count": 5,
   "id": "c1f60bef",
   "metadata": {
    "scrolled": false
   },
   "outputs": [
    {
     "data": {
      "text/html": [
       "<div>\n",
       "<style scoped>\n",
       "    .dataframe tbody tr th:only-of-type {\n",
       "        vertical-align: middle;\n",
       "    }\n",
       "\n",
       "    .dataframe tbody tr th {\n",
       "        vertical-align: top;\n",
       "    }\n",
       "\n",
       "    .dataframe thead th {\n",
       "        text-align: right;\n",
       "    }\n",
       "</style>\n",
       "<table border=\"1\" class=\"dataframe\">\n",
       "  <thead>\n",
       "    <tr style=\"text-align: right;\">\n",
       "      <th></th>\n",
       "      <th>Unnamed: 0</th>\n",
       "      <th>index</th>\n",
       "      <th>Time</th>\n",
       "      <th>Text</th>\n",
       "      <th>Entities</th>\n",
       "      <th>Public Metrics</th>\n",
       "      <th>Union</th>\n",
       "      <th>clean_text</th>\n",
       "      <th>word_count</th>\n",
       "      <th>tweet_len</th>\n",
       "      <th>clean_text_list</th>\n",
       "    </tr>\n",
       "  </thead>\n",
       "  <tbody>\n",
       "    <tr>\n",
       "      <th>0</th>\n",
       "      <td>0</td>\n",
       "      <td>0</td>\n",
       "      <td>2020-10-09T21:24:36.000Z</td>\n",
       "      <td>These members of Congress are standing up and ...</td>\n",
       "      <td>{'urls': [{'start': 110, 'end': 133, 'url': 'h...</td>\n",
       "      <td>{'retweet_count': 3, 'reply_count': 0, 'like_c...</td>\n",
       "      <td>AFGENational</td>\n",
       "      <td>members congress standing demanding halt reope...</td>\n",
       "      <td>10</td>\n",
       "      <td>76</td>\n",
       "      <td>['members', 'congress', 'standing', 'demanding...</td>\n",
       "    </tr>\n",
       "    <tr>\n",
       "      <th>1</th>\n",
       "      <td>1</td>\n",
       "      <td>1</td>\n",
       "      <td>2022-06-22T17:38:01.000Z</td>\n",
       "      <td>EPA lab work in Houston is suffering as plans ...</td>\n",
       "      <td>{'hashtags': [{'start': 84, 'end': 87, 'tag': ...</td>\n",
       "      <td>{'retweet_count': 0, 'reply_count': 0, 'like_c...</td>\n",
       "      <td>AFGENational</td>\n",
       "      <td>epa lab work houston suffering plans relocate ...</td>\n",
       "      <td>9</td>\n",
       "      <td>63</td>\n",
       "      <td>['epa', 'lab', 'work', 'houston', 'suffering',...</td>\n",
       "    </tr>\n",
       "    <tr>\n",
       "      <th>2</th>\n",
       "      <td>2</td>\n",
       "      <td>2</td>\n",
       "      <td>2022-06-16T19:41:01.000Z</td>\n",
       "      <td>Learn more about the EPA Council's upcoming co...</td>\n",
       "      <td>{'urls': [{'start': 63, 'end': 86, 'url': 'htt...</td>\n",
       "      <td>{'retweet_count': 1, 'reply_count': 0, 'like_c...</td>\n",
       "      <td>AFGENational</td>\n",
       "      <td>learn epa councils upcoming contract campaign</td>\n",
       "      <td>6</td>\n",
       "      <td>45</td>\n",
       "      <td>['learn', 'epa', 'councils', 'upcoming', 'cont...</td>\n",
       "    </tr>\n",
       "    <tr>\n",
       "      <th>3</th>\n",
       "      <td>3</td>\n",
       "      <td>3</td>\n",
       "      <td>2022-06-10T19:14:01.000Z</td>\n",
       "      <td>AFGE EPA members are gearing up for contract n...</td>\n",
       "      <td>{'hashtags': [{'start': 114, 'end': 117, 'tag'...</td>\n",
       "      <td>{'retweet_count': 2, 'reply_count': 0, 'like_c...</td>\n",
       "      <td>AFGENational</td>\n",
       "      <td>afge epa members gearing contract negotiations...</td>\n",
       "      <td>9</td>\n",
       "      <td>62</td>\n",
       "      <td>['afge', 'epa', 'members', 'gearing', 'contrac...</td>\n",
       "    </tr>\n",
       "    <tr>\n",
       "      <th>4</th>\n",
       "      <td>4</td>\n",
       "      <td>4</td>\n",
       "      <td>2022-04-25T18:05:03.000Z</td>\n",
       "      <td>AFGE EPA leaders are pushing for a clause in t...</td>\n",
       "      <td>{'hashtags': [{'start': 131, 'end': 134, 'tag'...</td>\n",
       "      <td>{'retweet_count': 2, 'reply_count': 0, 'like_c...</td>\n",
       "      <td>AFGENational</td>\n",
       "      <td>afge epa leaders pushing clause union contract...</td>\n",
       "      <td>12</td>\n",
       "      <td>97</td>\n",
       "      <td>['afge', 'epa', 'leaders', 'pushing', 'clause'...</td>\n",
       "    </tr>\n",
       "    <tr>\n",
       "      <th>...</th>\n",
       "      <td>...</td>\n",
       "      <td>...</td>\n",
       "      <td>...</td>\n",
       "      <td>...</td>\n",
       "      <td>...</td>\n",
       "      <td>...</td>\n",
       "      <td>...</td>\n",
       "      <td>...</td>\n",
       "      <td>...</td>\n",
       "      <td>...</td>\n",
       "      <td>...</td>\n",
       "    </tr>\n",
       "    <tr>\n",
       "      <th>8319</th>\n",
       "      <td>8319</td>\n",
       "      <td>8319</td>\n",
       "      <td>2012-03-06T21:50:04.000Z</td>\n",
       "      <td>100 years before OSHA - these kids were workin...</td>\n",
       "      <td>{'urls': [{'start': 85, 'end': 105, 'url': 'ht...</td>\n",
       "      <td>{'retweet_count': 1, 'reply_count': 0, 'like_c...</td>\n",
       "      <td>unithere</td>\n",
       "      <td>years osha kids working mines</td>\n",
       "      <td>5</td>\n",
       "      <td>29</td>\n",
       "      <td>['years', 'osha', 'kids', 'working', 'mines']</td>\n",
       "    </tr>\n",
       "    <tr>\n",
       "      <th>8320</th>\n",
       "      <td>8320</td>\n",
       "      <td>8320</td>\n",
       "      <td>2012-02-27T21:35:06.000Z</td>\n",
       "      <td>WOO!  New Contract Ratified at Consol Energy C...</td>\n",
       "      <td>{'hashtags': [{'start': 53, 'end': 56, 'tag': ...</td>\n",
       "      <td>{'retweet_count': 0, 'reply_count': 0, 'like_c...</td>\n",
       "      <td>unithere</td>\n",
       "      <td>woo new contract ratified consol energy center</td>\n",
       "      <td>7</td>\n",
       "      <td>46</td>\n",
       "      <td>['woo', 'new', 'contract', 'ratified', 'consol...</td>\n",
       "    </tr>\n",
       "    <tr>\n",
       "      <th>8321</th>\n",
       "      <td>8321</td>\n",
       "      <td>8321</td>\n",
       "      <td>2022-08-08T21:08:55.000Z</td>\n",
       "      <td>UNITE HERE Statement on Inflation Reduction Ac...</td>\n",
       "      <td>{'annotations': [{'start': 256, 'end': 269, 'p...</td>\n",
       "      <td>{'retweet_count': 17, 'reply_count': 3, 'like_...</td>\n",
       "      <td>unithere</td>\n",
       "      <td>unite statement inflation reduction act need b...</td>\n",
       "      <td>24</td>\n",
       "      <td>187</td>\n",
       "      <td>['unite', 'statement', 'inflation', 'reduction...</td>\n",
       "    </tr>\n",
       "    <tr>\n",
       "      <th>8322</th>\n",
       "      <td>8322</td>\n",
       "      <td>8322</td>\n",
       "      <td>2022-08-07T20:31:38.000Z</td>\n",
       "      <td>This historic bill will cut energy costs, inve...</td>\n",
       "      <td>{'urls': [{'start': 163, 'end': 186, 'url': 'h...</td>\n",
       "      <td>{'retweet_count': 11, 'reply_count': 0, 'like_...</td>\n",
       "      <td>UAPipeTrades</td>\n",
       "      <td>historic bill cut energy costs invest new emer...</td>\n",
       "      <td>17</td>\n",
       "      <td>123</td>\n",
       "      <td>['historic', 'bill', 'cut', 'energy', 'costs',...</td>\n",
       "    </tr>\n",
       "    <tr>\n",
       "      <th>8323</th>\n",
       "      <td>8323</td>\n",
       "      <td>8323</td>\n",
       "      <td>2022-08-12T21:41:30.000Z</td>\n",
       "      <td>With strong labor protections, the Inflation R...</td>\n",
       "      <td>{'annotations': [{'start': 35, 'end': 57, 'pro...</td>\n",
       "      <td>{'retweet_count': 8, 'reply_count': 2, 'like_c...</td>\n",
       "      <td>UAPipeTrades</td>\n",
       "      <td>strong labor protections inflation reduction a...</td>\n",
       "      <td>27</td>\n",
       "      <td>198</td>\n",
       "      <td>['strong', 'labor', 'protections', 'inflation'...</td>\n",
       "    </tr>\n",
       "  </tbody>\n",
       "</table>\n",
       "<p>8324 rows × 11 columns</p>\n",
       "</div>"
      ],
      "text/plain": [
       "      Unnamed: 0  index                      Time  \\\n",
       "0              0      0  2020-10-09T21:24:36.000Z   \n",
       "1              1      1  2022-06-22T17:38:01.000Z   \n",
       "2              2      2  2022-06-16T19:41:01.000Z   \n",
       "3              3      3  2022-06-10T19:14:01.000Z   \n",
       "4              4      4  2022-04-25T18:05:03.000Z   \n",
       "...          ...    ...                       ...   \n",
       "8319        8319   8319  2012-03-06T21:50:04.000Z   \n",
       "8320        8320   8320  2012-02-27T21:35:06.000Z   \n",
       "8321        8321   8321  2022-08-08T21:08:55.000Z   \n",
       "8322        8322   8322  2022-08-07T20:31:38.000Z   \n",
       "8323        8323   8323  2022-08-12T21:41:30.000Z   \n",
       "\n",
       "                                                   Text  \\\n",
       "0     These members of Congress are standing up and ...   \n",
       "1     EPA lab work in Houston is suffering as plans ...   \n",
       "2     Learn more about the EPA Council's upcoming co...   \n",
       "3     AFGE EPA members are gearing up for contract n...   \n",
       "4     AFGE EPA leaders are pushing for a clause in t...   \n",
       "...                                                 ...   \n",
       "8319  100 years before OSHA - these kids were workin...   \n",
       "8320  WOO!  New Contract Ratified at Consol Energy C...   \n",
       "8321  UNITE HERE Statement on Inflation Reduction Ac...   \n",
       "8322  This historic bill will cut energy costs, inve...   \n",
       "8323  With strong labor protections, the Inflation R...   \n",
       "\n",
       "                                               Entities  \\\n",
       "0     {'urls': [{'start': 110, 'end': 133, 'url': 'h...   \n",
       "1     {'hashtags': [{'start': 84, 'end': 87, 'tag': ...   \n",
       "2     {'urls': [{'start': 63, 'end': 86, 'url': 'htt...   \n",
       "3     {'hashtags': [{'start': 114, 'end': 117, 'tag'...   \n",
       "4     {'hashtags': [{'start': 131, 'end': 134, 'tag'...   \n",
       "...                                                 ...   \n",
       "8319  {'urls': [{'start': 85, 'end': 105, 'url': 'ht...   \n",
       "8320  {'hashtags': [{'start': 53, 'end': 56, 'tag': ...   \n",
       "8321  {'annotations': [{'start': 256, 'end': 269, 'p...   \n",
       "8322  {'urls': [{'start': 163, 'end': 186, 'url': 'h...   \n",
       "8323  {'annotations': [{'start': 35, 'end': 57, 'pro...   \n",
       "\n",
       "                                         Public Metrics         Union  \\\n",
       "0     {'retweet_count': 3, 'reply_count': 0, 'like_c...  AFGENational   \n",
       "1     {'retweet_count': 0, 'reply_count': 0, 'like_c...  AFGENational   \n",
       "2     {'retweet_count': 1, 'reply_count': 0, 'like_c...  AFGENational   \n",
       "3     {'retweet_count': 2, 'reply_count': 0, 'like_c...  AFGENational   \n",
       "4     {'retweet_count': 2, 'reply_count': 0, 'like_c...  AFGENational   \n",
       "...                                                 ...           ...   \n",
       "8319  {'retweet_count': 1, 'reply_count': 0, 'like_c...      unithere   \n",
       "8320  {'retweet_count': 0, 'reply_count': 0, 'like_c...      unithere   \n",
       "8321  {'retweet_count': 17, 'reply_count': 3, 'like_...      unithere   \n",
       "8322  {'retweet_count': 11, 'reply_count': 0, 'like_...  UAPipeTrades   \n",
       "8323  {'retweet_count': 8, 'reply_count': 2, 'like_c...  UAPipeTrades   \n",
       "\n",
       "                                             clean_text  word_count  \\\n",
       "0     members congress standing demanding halt reope...          10   \n",
       "1     epa lab work houston suffering plans relocate ...           9   \n",
       "2         learn epa councils upcoming contract campaign           6   \n",
       "3     afge epa members gearing contract negotiations...           9   \n",
       "4     afge epa leaders pushing clause union contract...          12   \n",
       "...                                                 ...         ...   \n",
       "8319                      years osha kids working mines           5   \n",
       "8320     woo new contract ratified consol energy center           7   \n",
       "8321  unite statement inflation reduction act need b...          24   \n",
       "8322  historic bill cut energy costs invest new emer...          17   \n",
       "8323  strong labor protections inflation reduction a...          27   \n",
       "\n",
       "      tweet_len                                    clean_text_list  \n",
       "0            76  ['members', 'congress', 'standing', 'demanding...  \n",
       "1            63  ['epa', 'lab', 'work', 'houston', 'suffering',...  \n",
       "2            45  ['learn', 'epa', 'councils', 'upcoming', 'cont...  \n",
       "3            62  ['afge', 'epa', 'members', 'gearing', 'contrac...  \n",
       "4            97  ['afge', 'epa', 'leaders', 'pushing', 'clause'...  \n",
       "...         ...                                                ...  \n",
       "8319         29      ['years', 'osha', 'kids', 'working', 'mines']  \n",
       "8320         46  ['woo', 'new', 'contract', 'ratified', 'consol...  \n",
       "8321        187  ['unite', 'statement', 'inflation', 'reduction...  \n",
       "8322        123  ['historic', 'bill', 'cut', 'energy', 'costs',...  \n",
       "8323        198  ['strong', 'labor', 'protections', 'inflation'...  \n",
       "\n",
       "[8324 rows x 11 columns]"
      ]
     },
     "execution_count": 5,
     "metadata": {},
     "output_type": "execute_result"
    }
   ],
   "source": [
    "df"
   ]
  },
  {
   "cell_type": "code",
   "execution_count": 6,
   "id": "735ae295",
   "metadata": {},
   "outputs": [],
   "source": [
    "# Converting string to list\n",
    "#res = ast.literal_eval(ini_list)\n",
    "\n",
    "def res(string_list):\n",
    "    return ast.literal_eval(string_list)\n",
    "\n",
    "df['clean_text_list'] = df['clean_text_list'].apply(res)"
   ]
  },
  {
   "cell_type": "code",
   "execution_count": 7,
   "id": "23a5a940",
   "metadata": {
    "scrolled": false
   },
   "outputs": [
    {
     "data": {
      "text/plain": [
       "0       [members, congress, standing, demanding, halt,...\n",
       "1       [epa, lab, work, houston, suffering, plans, re...\n",
       "2       [learn, epa, councils, upcoming, contract, cam...\n",
       "3       [afge, epa, members, gearing, contract, negoti...\n",
       "4       [afge, epa, leaders, pushing, clause, union, c...\n",
       "                              ...                        \n",
       "8319                  [years, osha, kids, working, mines]\n",
       "8320    [woo, new, contract, ratified, consol, energy,...\n",
       "8321    [unite, statement, inflation, reduction, act, ...\n",
       "8322    [historic, bill, cut, energy, costs, invest, n...\n",
       "8323    [strong, labor, protections, inflation, reduct...\n",
       "Name: clean_text_list, Length: 8324, dtype: object"
      ]
     },
     "execution_count": 7,
     "metadata": {},
     "output_type": "execute_result"
    }
   ],
   "source": [
    "words = df['clean_text_list']\n",
    "\n",
    "words"
   ]
  },
  {
   "cell_type": "code",
   "execution_count": 8,
   "id": "ff98ec53",
   "metadata": {
    "scrolled": true
   },
   "outputs": [],
   "source": [
    "import gensim\n",
    "from gensim import corpora\n",
    "import pyLDAvis.gensim_models as gensimvis\n",
    "import pyLDAvis\n"
   ]
  },
  {
   "cell_type": "code",
   "execution_count": 9,
   "id": "7c033f07",
   "metadata": {},
   "outputs": [
    {
     "name": "stderr",
     "output_type": "stream",
     "text": [
      "/Users/jeffreypan/opt/anaconda3/lib/python3.8/site-packages/ipykernel/ipkernel.py:287: DeprecationWarning: `should_run_async` will not call `transform_cell` automatically in the future. Please pass the result to `transformed_cell` argument and any exception that happen during thetransform in `preprocessing_exc_tuple` in IPython 7.17 and above.\n",
      "  and should_run_async(code)\n"
     ]
    },
    {
     "data": {
      "text/plain": [
       "list"
      ]
     },
     "execution_count": 9,
     "metadata": {},
     "output_type": "execute_result"
    }
   ],
   "source": [
    "type(words[0])"
   ]
  },
  {
   "cell_type": "code",
   "execution_count": 17,
   "id": "7238b4ef",
   "metadata": {},
   "outputs": [
    {
     "name": "stderr",
     "output_type": "stream",
     "text": [
      "/Users/jeffreypan/opt/anaconda3/lib/python3.8/site-packages/ipykernel/ipkernel.py:287: DeprecationWarning: `should_run_async` will not call `transform_cell` automatically in the future. Please pass the result to `transformed_cell` argument and any exception that happen during thetransform in `preprocessing_exc_tuple` in IPython 7.17 and above.\n",
      "  and should_run_async(code)\n",
      "/Users/jeffreypan/opt/anaconda3/lib/python3.8/site-packages/pyLDAvis/_prepare.py:243: FutureWarning: In a future version of pandas all arguments of DataFrame.drop except for the argument 'labels' will be keyword-only.\n",
      "  default_term_info = default_term_info.sort_values(\n"
     ]
    },
    {
     "name": "stdout",
     "output_type": "stream",
     "text": [
      "(0, '0.041*\"sustainable\" + 0.024*\"working\" + 0.021*\"choice\" + 0.021*\"us\" + 0.021*\"future\" + 0.020*\"tell\" + 0.020*\"t\" + 0.020*\"families\" + 0.016*\"natural\" + 0.016*\"real\"')\n",
      "(1, '0.087*\"green\" + 0.045*\"jobs\" + 0.031*\"say\" + 0.028*\"members\" + 0.024*\"people\" + 0.017*\"choice\" + 0.016*\"safety\" + 0.013*\"back\" + 0.013*\"environmental\" + 0.012*\"housekeepers\"')\n",
      "(2, '0.084*\"workers\" + 0.027*\"new\" + 0.024*\"make\" + 0.017*\"oil\" + 0.016*\"energy\" + 0.015*\"choice\" + 0.015*\"board\" + 0.014*\"cut\" + 0.013*\"fuel\" + 0.013*\"made\"')\n",
      "(3, '0.036*\"program\" + 0.025*\"hurricane\" + 0.024*\"job\" + 0.024*\"union\" + 0.023*\"climate\" + 0.019*\"now\" + 0.019*\"get\" + 0.017*\"good\" + 0.016*\"time\" + 0.016*\"labor\"')\n",
      "(4, '0.028*\"via\" + 0.025*\"food\" + 0.022*\"coal\" + 0.019*\"work\" + 0.017*\"need\" + 0.016*\"choice\" + 0.014*\"water\" + 0.013*\"miners\" + 0.013*\"clean\" + 0.012*\"heat\"')\n"
     ]
    }
   ],
   "source": [
    "dictionary = corpora.Dictionary(words)\n",
    "corpus = [dictionary.doc2bow(word) for word in words]\n",
    "\n",
    "# define the number of topics to identify\n",
    "num_topics = 5\n",
    "\n",
    "\n",
    "# build the LDA model\n",
    "lda_model = gensim.models.LdaModel(corpus=corpus,\n",
    "                                   id2word=dictionary,\n",
    "                                   num_topics=num_topics,\n",
    "                                   random_state=100,\n",
    "                                   update_every=1,\n",
    "                                   chunksize=10,\n",
    "                                   passes=10,\n",
    "                                   alpha='auto',\n",
    "                                   per_word_topics=True)\n",
    "\n",
    "# visualize the topics using pyLDAvis\n",
    "vis_data = gensimvis.prepare(lda_model, corpus, dictionary)\n",
    "pyLDAvis.display(vis_data)\n",
    "\n",
    "# print the top words for each topic\n",
    "for topic in lda_model.print_topics():\n",
    "    print(topic)"
   ]
  },
  {
   "cell_type": "code",
   "execution_count": 18,
   "id": "95f96c15",
   "metadata": {},
   "outputs": [
    {
     "name": "stderr",
     "output_type": "stream",
     "text": [
      "/Users/jeffreypan/opt/anaconda3/lib/python3.8/site-packages/ipykernel/ipkernel.py:287: DeprecationWarning: `should_run_async` will not call `transform_cell` automatically in the future. Please pass the result to `transformed_cell` argument and any exception that happen during thetransform in `preprocessing_exc_tuple` in IPython 7.17 and above.\n",
      "  and should_run_async(code)\n"
     ]
    },
    {
     "data": {
      "text/html": [
       "\n",
       "<link rel=\"stylesheet\" type=\"text/css\" href=\"https://cdn.jsdelivr.net/gh/bmabey/pyLDAvis@3.4.0/pyLDAvis/js/ldavis.v1.0.0.css\">\n",
       "\n",
       "\n",
       "<div id=\"ldavis_el351951403083411149124829067722\" style=\"background-color:white;\"></div>\n",
       "<script type=\"text/javascript\">\n",
       "\n",
       "var ldavis_el351951403083411149124829067722_data = {\"mdsDat\": {\"x\": [0.1913054318479049, -0.21622194792770463, -0.024294951228818352, 0.034999136613654204, 0.014212330694964121], \"y\": [-0.1626073912617433, -0.134371939082053, 0.1271593389144853, 0.13129996320394627, 0.038520028225364954], \"topics\": [1, 2, 3, 4, 5], \"cluster\": [1, 1, 1, 1, 1], \"Freq\": [26.408735484476402, 23.93457368532167, 17.661486157555682, 17.501528296948262, 14.493676375697987]}, \"tinfo\": {\"Term\": [\"green\", \"workers\", \"jobs\", \"program\", \"sustainable\", \"via\", \"say\", \"food\", \"members\", \"hurricane\", \"new\", \"job\", \"union\", \"climate\", \"coal\", \"people\", \"make\", \"working\", \"work\", \"now\", \"get\", \"need\", \"good\", \"us\", \"future\", \"tell\", \"t\", \"families\", \"time\", \"labor\", \"via\", \"food\", \"coal\", \"work\", \"need\", \"water\", \"clean\", \"miners\", \"heat\", \"protect\", \"health\", \"one\", \"power\", \"fix\", \"help\", \"hard\", \"fight\", \"state\", \"know\", \"stay\", \"planet\", \"service\", \"still\", \"safe\", \"day\", \"environment\", \"burning\", \"full\", \"money\", \"want\", \"choice\", \"housekeepers\", \"program\", \"hurricane\", \"union\", \"job\", \"climate\", \"now\", \"get\", \"good\", \"time\", \"labor\", \"act\", \"local\", \"strike\", \"says\", \"build\", \"president\", \"join\", \"less\", \"better\", \"inflation\", \"family\", \"disaster\", \"right\", \"city\", \"read\", \"creating\", \"impacted\", \"pipeline\", \"crisis\", \"year\", \"reduction\", \"statement\", \"energy\", \"extra\", \"choice\", \"housekeepers\", \"workers\", \"new\", \"make\", \"oil\", \"made\", \"fuel\", \"u\", \"action\", \"use\", \"take\", \"board\", \"pay\", \"costs\", \"years\", \"gas\", \"create\", \"unions\", \"video\", \"report\", \"cut\", \"electric\", \"big\", \"industry\", \"thousands\", \"come\", \"tax\", \"community\", \"live\", \"mine\", \"great\", \"energy\", \"choice\", \"housekeepers\", \"green\", \"jobs\", \"say\", \"members\", \"people\", \"safety\", \"back\", \"environmental\", \"like\", \"check\", \"stand\", \"w\", \"today\", \"sure\", \"protections\", \"strong\", \"worker\", \"bill\", \"emissions\", \"lives\", \"dc\", \"business\", \"carbon\", \"zero\", \"never\", \"american\", \"thanks\", \"company\", \"administration\", \"worked\", \"rights\", \"choice\", \"housekeepers\", \"sustainable\", \"working\", \"us\", \"tell\", \"t\", \"future\", \"families\", \"natural\", \"support\", \"real\", \"together\", \"change\", \"invest\", \"movement\", \"disasters\", \"economy\", \"senate\", \"re\", \"infrastructure\", \"many\", \"millions\", \"legislation\", \"may\", \"learn\", \"including\", \"residents\", \"also\", \"issue\", \"helping\", \"show\", \"helps\", \"choice\", \"housekeepers\", \"sustainability\", \"rooms\", \"marriott\", \"programs\"], \"Freq\": [1551.0, 1510.0, 801.0, 882.0, 603.0, 764.0, 547.0, 686.0, 492.0, 600.0, 485.0, 589.0, 583.0, 566.0, 600.0, 437.0, 432.0, 360.0, 513.0, 473.0, 472.0, 462.0, 417.0, 306.0, 304.0, 302.0, 300.0, 298.0, 394.0, 386.0, 763.3425584790217, 685.7837339857995, 599.8276637506243, 512.7651925301338, 461.46305447624036, 384.6361849687902, 337.16499859165566, 345.5668612379786, 315.59564940600814, 242.11099210074048, 236.77911994186124, 228.54916170771216, 216.52481065369182, 268.3068809352382, 200.48879626381517, 202.6910094646406, 192.42929965922428, 191.65000885772218, 173.3826746959908, 173.59411135183424, 168.02559775211247, 162.44812635423776, 158.14425562793167, 149.4059611675045, 146.00110710793012, 130.6815911109342, 141.62386774913296, 128.43101332764414, 123.06659701132956, 113.50010769169673, 434.15933441974727, 231.59446179352415, 881.3512348642624, 599.9692183118004, 582.8223051809632, 588.8126248540777, 565.8151587470783, 472.6930612719192, 471.29161928259686, 416.7419918967665, 393.2698739025582, 385.37430628433253, 305.18385751105524, 269.0785902722046, 259.0671467968646, 244.52611164146737, 166.3579250565762, 157.0545820573749, 155.41057230478532, 159.39579930728112, 142.8780864646433, 311.0263374027043, 140.43256723693506, 137.87579863052682, 126.04700149639517, 122.31682711180811, 117.5912641478287, 152.64957740127667, 121.5239137661147, 108.73265714097126, 108.59823459855596, 107.96026762280785, 158.84099647256036, 112.8592199751556, 299.1798477058931, 122.68161682638831, 334.4642073257102, 218.8585922224191, 1509.9938234238296, 484.216062353879, 431.30616232026637, 299.59385435312095, 229.13779746193396, 230.751791710949, 203.62730450341422, 196.76781635949936, 199.37197856951897, 194.460858921153, 272.04410807925774, 180.01082702506034, 185.7544254446949, 158.78313017215, 152.62286445644818, 152.32127989563784, 154.10430715606188, 156.58892293768105, 156.69811561168464, 246.25102642698965, 129.9611894003771, 133.44192193705865, 125.8413936081124, 126.93395801859754, 129.93013652758722, 121.60655703259404, 115.94277649430234, 114.45121497150988, 118.22226376093455, 91.80394623334752, 286.2542919824914, 274.1560222641933, 210.9401259942182, 1550.5356670652059, 800.4667477885798, 546.6587449318816, 491.3080889926188, 436.73350006796255, 288.55412113020583, 230.6648264340347, 224.7997918453743, 221.94756680688357, 216.8799838949421, 210.74958660178007, 164.8168788646518, 156.83551102375307, 158.65422166130472, 159.39134398021363, 157.04874237854844, 138.33226584283292, 130.56687311197726, 130.9479474582432, 127.31996303831002, 127.35067646826457, 112.36054382090728, 117.37922137416098, 105.2528042796954, 120.45216073630444, 97.532774968935, 92.35535038857735, 85.6068931254368, 80.08894357561026, 78.30128725881666, 174.94308175472557, 296.22369860204793, 222.89481089130715, 602.9910510204151, 359.5180606595329, 306.079325066339, 301.3633518992607, 299.91723653848294, 303.8769915693316, 297.3924148542332, 241.81433410498528, 224.81801682693794, 236.47784177670022, 204.5989521742476, 177.84338054110353, 176.62751552154586, 145.31309729987143, 173.10749457537665, 127.62740609350607, 121.50320145851464, 102.95184057811953, 87.42832676858227, 82.1351509742869, 81.82219917228947, 88.92910592896965, 71.14183328468502, 68.85932529685324, 67.17200480140801, 66.70558949447297, 63.71307869009662, 63.05186636152709, 64.53344192736714, 58.08526872764048, 81.87466650482826, 308.2468180511881, 193.98344747726196, 91.47231872151482, 75.65236448313341, 75.34266951162034, 73.6151929159958], \"Total\": [1551.0, 1510.0, 801.0, 882.0, 603.0, 764.0, 547.0, 686.0, 492.0, 600.0, 485.0, 589.0, 583.0, 566.0, 600.0, 437.0, 432.0, 360.0, 513.0, 473.0, 472.0, 462.0, 417.0, 306.0, 304.0, 302.0, 300.0, 298.0, 394.0, 386.0, 764.139855889594, 686.6016045911807, 600.6282595535868, 513.5488142222326, 462.2502779893061, 385.40703245456154, 337.94240956386744, 346.3796207002305, 316.38002126041346, 242.8975405513347, 237.55096840217723, 229.33535503641974, 217.31521988383258, 269.3111164441183, 201.25891265831, 203.51063421149917, 193.21250684071737, 192.44371303701283, 174.16561865042794, 174.3959149391679, 168.81291794962817, 163.2365274048822, 158.92482909688715, 150.17725425021507, 146.77437017701558, 131.4553563652137, 142.49812089491755, 129.23625553373722, 123.87357807309053, 114.27945637868432, 1647.2500806628868, 1078.2714383787306, 882.1613132567409, 600.7684989282938, 583.6091287680784, 589.6126651397587, 566.6115122403883, 473.4870290227241, 472.0919149050617, 417.52941070083887, 394.0659207710832, 386.1640093836237, 305.98745660219663, 269.85946798823676, 259.8667822332795, 245.32400693409997, 167.14730743851757, 157.83545622604325, 156.2008061769672, 160.21167108033006, 143.65661297093956, 312.81260087574833, 141.24156229853153, 138.674776950299, 126.83517780505866, 123.12476635928276, 118.36936501437096, 153.67577157231318, 122.34711372123745, 109.5089763885241, 109.38157308996526, 108.74767115242871, 160.19341671328974, 113.70510439292818, 586.0350868367913, 138.45962472682066, 1647.2500806628868, 1078.2714383787306, 1510.7922072890628, 485.01910832904775, 432.10309788561506, 300.3929115003454, 229.93289188098947, 231.55769728647192, 204.41467770430023, 197.5707903759361, 200.18589917795003, 195.26269882658193, 273.2444624180718, 180.81456439774604, 186.60704731017367, 159.58960197604085, 153.40502251104806, 153.10980820391373, 154.90363440881697, 157.42172504072408, 157.53804126602967, 247.61447563865943, 130.7555986975132, 134.2652167192247, 126.62828393459141, 127.73881372409005, 130.75617774856573, 122.39953889718946, 116.74897180598515, 115.26142378655199, 119.07437844194874, 92.59524106446376, 586.0350868367913, 1647.2500806628868, 1078.2714383787306, 1551.3543311192416, 801.2565315864547, 547.4943450430565, 492.0972736113641, 437.53883074949886, 289.3409802470353, 231.45546326407776, 225.5912341198595, 222.74136091510726, 217.69361603100302, 211.5637912049202, 165.6137666771694, 157.62056726640512, 159.4629019869109, 160.21268515324775, 157.86304636805593, 139.1318230822318, 131.36839504188893, 131.76496466069355, 128.14330458837128, 128.18042454314732, 113.17985867859812, 118.23890829202062, 106.05459646804441, 121.37407789620211, 98.32542524839384, 93.14408144056381, 86.40156093215894, 80.91738286046993, 79.11439558441467, 177.38964831631003, 1647.2500806628868, 1078.2714383787306, 603.8176761452831, 360.3134895614086, 306.8656257188261, 302.1602750739431, 300.71390595371565, 304.68545990000456, 298.1860573387033, 242.63066186871293, 225.60141498177052, 237.32485616044974, 205.41585309772174, 178.6341935174586, 177.49386258247628, 146.14929379001447, 174.11432514854474, 128.4151606726739, 122.32577538728702, 103.74964744499592, 88.20362946152127, 82.92725666853602, 82.62163175737125, 89.81003445611141, 71.93776630706341, 69.65345026943395, 67.96691288585752, 67.50591110480315, 64.51007425437139, 63.84203414264473, 65.34444562944415, 58.88330243134341, 94.99961394254605, 1647.2500806628868, 1078.2714383787306, 425.35450817698825, 405.75101452659396, 412.87235686672966, 390.2168208218618], \"Category\": [\"Default\", \"Default\", \"Default\", \"Default\", \"Default\", \"Default\", \"Default\", \"Default\", \"Default\", \"Default\", \"Default\", \"Default\", \"Default\", \"Default\", \"Default\", \"Default\", \"Default\", \"Default\", \"Default\", \"Default\", \"Default\", \"Default\", \"Default\", \"Default\", \"Default\", \"Default\", \"Default\", \"Default\", \"Default\", \"Default\", \"Topic1\", \"Topic1\", \"Topic1\", \"Topic1\", \"Topic1\", \"Topic1\", \"Topic1\", \"Topic1\", \"Topic1\", \"Topic1\", \"Topic1\", \"Topic1\", \"Topic1\", \"Topic1\", \"Topic1\", \"Topic1\", \"Topic1\", \"Topic1\", \"Topic1\", \"Topic1\", \"Topic1\", \"Topic1\", \"Topic1\", \"Topic1\", \"Topic1\", \"Topic1\", \"Topic1\", \"Topic1\", \"Topic1\", \"Topic1\", \"Topic1\", \"Topic1\", \"Topic2\", \"Topic2\", \"Topic2\", \"Topic2\", \"Topic2\", \"Topic2\", \"Topic2\", \"Topic2\", \"Topic2\", \"Topic2\", \"Topic2\", \"Topic2\", \"Topic2\", \"Topic2\", \"Topic2\", \"Topic2\", \"Topic2\", \"Topic2\", \"Topic2\", \"Topic2\", \"Topic2\", \"Topic2\", \"Topic2\", \"Topic2\", \"Topic2\", \"Topic2\", \"Topic2\", \"Topic2\", \"Topic2\", \"Topic2\", \"Topic2\", \"Topic2\", \"Topic2\", \"Topic2\", \"Topic2\", \"Topic2\", \"Topic3\", \"Topic3\", \"Topic3\", \"Topic3\", \"Topic3\", \"Topic3\", \"Topic3\", \"Topic3\", \"Topic3\", \"Topic3\", \"Topic3\", \"Topic3\", \"Topic3\", \"Topic3\", \"Topic3\", \"Topic3\", \"Topic3\", \"Topic3\", \"Topic3\", \"Topic3\", \"Topic3\", \"Topic3\", \"Topic3\", \"Topic3\", \"Topic3\", \"Topic3\", \"Topic3\", \"Topic3\", \"Topic3\", \"Topic3\", \"Topic3\", \"Topic3\", \"Topic3\", \"Topic4\", \"Topic4\", \"Topic4\", \"Topic4\", \"Topic4\", \"Topic4\", \"Topic4\", \"Topic4\", \"Topic4\", \"Topic4\", \"Topic4\", \"Topic4\", \"Topic4\", \"Topic4\", \"Topic4\", \"Topic4\", \"Topic4\", \"Topic4\", \"Topic4\", \"Topic4\", \"Topic4\", \"Topic4\", \"Topic4\", \"Topic4\", \"Topic4\", \"Topic4\", \"Topic4\", \"Topic4\", \"Topic4\", \"Topic4\", \"Topic4\", \"Topic4\", \"Topic4\", \"Topic5\", \"Topic5\", \"Topic5\", \"Topic5\", \"Topic5\", \"Topic5\", \"Topic5\", \"Topic5\", \"Topic5\", \"Topic5\", \"Topic5\", \"Topic5\", \"Topic5\", \"Topic5\", \"Topic5\", \"Topic5\", \"Topic5\", \"Topic5\", \"Topic5\", \"Topic5\", \"Topic5\", \"Topic5\", \"Topic5\", \"Topic5\", \"Topic5\", \"Topic5\", \"Topic5\", \"Topic5\", \"Topic5\", \"Topic5\", \"Topic5\", \"Topic5\", \"Topic5\", \"Topic5\", \"Topic5\", \"Topic5\", \"Topic5\"], \"logprob\": [30.0, 29.0, 28.0, 27.0, 26.0, 25.0, 24.0, 23.0, 22.0, 21.0, 20.0, 19.0, 18.0, 17.0, 16.0, 15.0, 14.0, 13.0, 12.0, 11.0, 10.0, 9.0, 8.0, 7.0, 6.0, 5.0, 4.0, 3.0, 2.0, 1.0, -3.5637, -3.6709, -3.8048, -3.9616, -4.067, -4.2492, -4.3809, -4.3563, -4.447, -4.7121, -4.7343, -4.7697, -4.8237, -4.6093, -4.9007, -4.8898, -4.9417, -4.9458, -5.0459, -5.0447, -5.0773, -5.1111, -5.1379, -5.1948, -5.2178, -5.3287, -5.2483, -5.3461, -5.3887, -5.4696, -4.128, -4.7565, -3.3216, -3.7062, -3.7352, -3.725, -3.7648, -3.9446, -3.9476, -4.0706, -4.1286, -4.1489, -4.3822, -4.5081, -4.546, -4.6038, -4.9889, -5.0465, -5.057, -5.0317, -5.1411, -4.3632, -5.1584, -5.1767, -5.2664, -5.2965, -5.3359, -5.0749, -5.303, -5.4142, -5.4154, -5.4213, -5.0352, -5.3769, -4.402, -5.2935, -4.2905, -4.7147, -2.4793, -3.6166, -3.7323, -4.0967, -4.3648, -4.3578, -4.4828, -4.5171, -4.504, -4.5289, -4.1932, -4.6061, -4.5747, -4.7316, -4.7712, -4.7731, -4.7615, -4.7455, -4.7448, -4.2928, -4.9319, -4.9055, -4.9641, -4.9555, -4.9321, -4.9983, -5.046, -5.059, -5.0266, -5.2795, -4.1423, -4.1854, -4.4476, -2.4437, -3.1048, -3.4862, -3.593, -3.7107, -4.1252, -4.3491, -4.3748, -4.3876, -4.4107, -4.4394, -4.6852, -4.7348, -4.7233, -4.7187, -4.7335, -4.8604, -4.9182, -4.9152, -4.9433, -4.9431, -5.0683, -5.0246, -5.1337, -4.9988, -5.2099, -5.2644, -5.3403, -5.4069, -5.4295, -4.6256, -4.0989, -4.3833, -3.1996, -3.7167, -3.8776, -3.8931, -3.898, -3.8848, -3.9064, -4.1133, -4.1862, -4.1356, -4.2804, -4.4206, -4.4274, -4.6226, -4.4476, -4.7524, -4.8015, -4.9672, -5.1306, -5.1931, -5.1969, -5.1136, -5.3368, -5.3694, -5.3942, -5.4012, -5.4471, -5.4575, -5.4343, -5.5396, -5.1963, -3.8706, -4.3337, -5.0854, -5.2753, -5.2794, -5.3026], \"loglift\": [30.0, 29.0, 28.0, 27.0, 26.0, 25.0, 24.0, 23.0, 22.0, 21.0, 20.0, 19.0, 18.0, 17.0, 16.0, 15.0, 14.0, 13.0, 12.0, 11.0, 10.0, 9.0, 8.0, 7.0, 6.0, 5.0, 4.0, 3.0, 2.0, 1.0, 1.3304, 1.3303, 1.3301, 1.3299, 1.3298, 1.3295, 1.3292, 1.3291, 1.329, 1.3282, 1.3282, 1.328, 1.3278, 1.3277, 1.3276, 1.3274, 1.3274, 1.3273, 1.327, 1.3269, 1.3268, 1.3266, 1.3266, 1.3263, 1.3262, 1.3256, 1.3253, 1.3252, 1.3249, 1.3246, -0.002, -0.2067, 1.4289, 1.4285, 1.4285, 1.4285, 1.4284, 1.4282, 1.4281, 1.428, 1.4278, 1.4278, 1.4272, 1.4269, 1.4268, 1.4266, 1.4251, 1.4249, 1.4248, 1.4247, 1.4244, 1.4241, 1.4241, 1.4241, 1.4236, 1.4233, 1.4233, 1.4231, 1.4231, 1.4227, 1.4227, 1.4226, 1.4214, 1.4224, 0.7575, 1.3089, -0.1645, -0.1648, 1.7333, 1.7321, 1.7319, 1.7311, 1.7303, 1.7303, 1.7299, 1.7297, 1.7297, 1.7297, 1.7294, 1.7293, 1.7292, 1.7287, 1.7287, 1.7286, 1.7286, 1.7285, 1.7284, 1.7283, 1.7277, 1.7276, 1.7276, 1.7275, 1.7274, 1.7273, 1.7269, 1.7267, 1.7266, 1.7252, 1.0173, -0.0594, 0.1022, 1.7424, 1.7419, 1.7414, 1.7413, 1.741, 1.7402, 1.7395, 1.7394, 1.7393, 1.7391, 1.739, 1.7381, 1.7379, 1.7378, 1.7377, 1.7377, 1.7371, 1.7368, 1.7367, 1.7364, 1.7364, 1.7356, 1.7356, 1.7353, 1.7353, 1.7348, 1.7344, 1.7336, 1.7326, 1.7326, 1.729, 0.0271, 0.1665, 1.9301, 1.9292, 1.9289, 1.9288, 1.9288, 1.9288, 1.9288, 1.9281, 1.928, 1.9279, 1.9275, 1.927, 1.9266, 1.9257, 1.9257, 1.9253, 1.9247, 1.9237, 1.9226, 1.9219, 1.9217, 1.9216, 1.9203, 1.92, 1.9197, 1.9195, 1.919, 1.919, 1.919, 1.9178, 1.7828, 0.2555, 0.2161, 0.3946, 0.2519, 0.2304, 0.2636]}, \"token.table\": {\"Topic\": [2, 3, 4, 5, 4, 4, 2, 3, 4, 3, 2, 1, 4, 4, 5, 4, 1, 2, 3, 4, 5, 2, 1, 2, 1, 3, 3, 4, 3, 3, 2, 2, 3, 1, 4, 2, 5, 5, 3, 4, 2, 3, 1, 4, 1, 2, 3, 4, 5, 5, 2, 1, 1, 1, 3, 1, 5, 3, 2, 2, 3, 4, 1, 1, 1, 1, 5, 1, 2, 3, 4, 5, 1, 2, 3, 4, 5, 2, 2, 5, 3, 1, 2, 5, 5, 5, 2, 4, 2, 1, 2, 5, 5, 2, 4, 3, 4, 2, 3, 3, 5, 1, 2, 3, 4, 5, 5, 4, 5, 3, 1, 1, 5, 5, 1, 4, 3, 2, 3, 1, 3, 4, 2, 1, 1, 2, 2, 1, 2, 3, 4, 5, 1, 4, 5, 2, 5, 2, 3, 5, 2, 1, 2, 4, 1, 2, 3, 4, 5, 1, 4, 4, 2, 5, 1, 5, 4, 1, 2, 1, 1, 2, 4, 5, 4, 1, 2, 3, 4, 5, 5, 5, 3, 3, 5, 4, 3, 2, 4, 5, 3, 2, 3, 5, 3, 1, 3, 4, 1, 1, 1, 4, 4, 3, 5, 2, 3, 4], \"Freq\": [0.9967728853556229, 0.9971109576731965, 0.9886627220500716, 0.99209310700279, 0.9966903245262175, 0.9980321775184969, 0.995429288235604, 0.9905767349866159, 0.9971957102637095, 0.9954456079107369, 0.9931359502219945, 0.9965043686766587, 0.9895753653311353, 0.9895219914500494, 0.9964497641522555, 0.9968137970986516, 0.2634694058265577, 0.2027621694609914, 0.16633782764165161, 0.1796934196420762, 0.18697828800594415, 0.9908648244172041, 0.997211330874146, 0.9989207557079623, 0.9989539960140176, 0.9942168870214315, 0.9935847674339282, 0.9953523879912974, 0.9967469218396418, 0.9927515538231511, 0.9956026147427203, 0.9965115413941669, 0.9934798818425487, 0.9947240776704975, 0.9907909140779139, 0.9951341046646079, 0.9936000375179121, 0.9967670431551916, 0.9942212899100314, 0.9941944760303818, 0.5102083590487654, 0.4880253869162104, 0.9965360379538387, 0.9973791795493907, 0.028889288179799393, 0.8883456115288313, 0.028889288179799393, 0.028889288179799393, 0.028889288179799393, 0.9960224252291043, 0.9912096533178574, 0.9937244909217138, 0.9951315918131054, 0.9991237937878998, 0.9975915407131469, 0.9904341430457609, 0.9977502703928519, 0.997359783242958, 0.9976870713719356, 0.9987320397383499, 0.9935715803790676, 0.9997715988461605, 0.997490872093846, 0.9976806307889075, 0.9987988455816537, 0.9937448103953173, 0.9947287695820783, 0.042105434264386836, 0.03157907569829013, 0.03157907569829013, 0.03157907569829013, 0.8631614024199302, 0.21515918139205373, 0.20310284795198177, 0.1956835658350144, 0.20681248901046545, 0.17991759133645874, 0.998720806883742, 0.9971628777281307, 0.985773770724568, 0.9950383601903984, 0.003196802165898707, 0.9942054735944978, 0.9863539690047975, 0.9972175793839249, 0.9868106623801595, 0.9989609023415168, 0.9984317986351178, 0.9923124201061628, 0.9933074124533874, 0.996985712403697, 0.990618551315028, 0.9909805796087601, 0.9924370610944908, 0.9966716513176472, 0.9890559760142477, 0.991077921768571, 0.9968151275378849, 0.9959427645459601, 0.997447141918184, 0.9888184330968248, 0.21314093456832076, 0.2010306541951207, 0.1937644859712007, 0.20829682241904074, 0.18165420559800063, 0.986964200374799, 0.9977702099357074, 0.9924761621847805, 0.9909772492117394, 0.9989040328080993, 0.992947825624484, 0.992136165969671, 0.9974007330159526, 0.9972952358303719, 0.9886789838487818, 0.9978988284965541, 0.9989713994410168, 0.9986920080824045, 0.9985377089530462, 0.9954950288409611, 0.9987684961616415, 0.9953521948126123, 0.9951845038904503, 0.9985494808693055, 0.9947067899316187, 0.9986835590732793, 0.2947079517428049, 0.21782761650555146, 0.140947281268298, 0.1563233483157487, 0.18963816025189187, 0.9963048594510366, 0.9924307794224422, 0.9927744579046078, 0.9968795556660618, 0.9944175415003558, 0.9925501513247221, 0.9965846898837526, 0.9925056769618631, 0.9934152510406671, 0.005637307528886145, 0.005637307528886145, 0.9865288175550754, 0.21195264317537113, 0.20948807755705287, 0.20209438070209806, 0.1897715526105067, 0.18730698699218845, 0.9921609017551113, 0.9988215279883818, 0.9990970773533422, 0.998679269354234, 0.9973368213996142, 0.99242493439097, 0.9849991016999544, 0.9973351243059636, 0.9976943230308205, 0.993798832544126, 0.9977297923560537, 0.9941807135981041, 0.996664513156201, 0.9945329423958806, 0.9973341701699029, 0.9970971180058613, 0.27036271578000765, 0.22804507331009338, 0.12460194727252526, 0.16221762946800458, 0.21393919248678864, 0.9986458227746774, 0.9976259629515586, 0.9935333331241961, 0.9967357810267157, 0.9961600674553953, 0.9877170784995731, 0.9942162158661826, 0.9972950698984641, 0.9960629042442396, 0.9979755549951449, 0.9979713897800426, 0.9989562727208119, 0.9941664738063399, 0.9971791375563869, 0.9940760104342021, 0.9985083150933582, 0.9973210492985324, 0.9962939875743192, 0.9975546227857587, 0.9989438893941056, 0.9989313299787016, 0.985914123767455, 0.9918651027697464, 0.9994756345146336, 0.9991299533031911, 0.9931247157340894, 0.996305511331939, 0.9900560984326392], \"Term\": [\"act\", \"action\", \"administration\", \"also\", \"american\", \"back\", \"better\", \"big\", \"bill\", \"board\", \"build\", \"burning\", \"business\", \"carbon\", \"change\", \"check\", \"choice\", \"choice\", \"choice\", \"choice\", \"choice\", \"city\", \"clean\", \"climate\", \"coal\", \"come\", \"community\", \"company\", \"costs\", \"create\", \"creating\", \"crisis\", \"cut\", \"day\", \"dc\", \"disaster\", \"disasters\", \"economy\", \"electric\", \"emissions\", \"energy\", \"energy\", \"environment\", \"environmental\", \"extra\", \"extra\", \"extra\", \"extra\", \"extra\", \"families\", \"family\", \"fight\", \"fix\", \"food\", \"fuel\", \"full\", \"future\", \"gas\", \"get\", \"good\", \"great\", \"green\", \"hard\", \"health\", \"heat\", \"help\", \"helping\", \"helps\", \"helps\", \"helps\", \"helps\", \"helps\", \"housekeepers\", \"housekeepers\", \"housekeepers\", \"housekeepers\", \"housekeepers\", \"hurricane\", \"impacted\", \"including\", \"industry\", \"inflation\", \"inflation\", \"infrastructure\", \"invest\", \"issue\", \"job\", \"jobs\", \"join\", \"know\", \"labor\", \"learn\", \"legislation\", \"less\", \"like\", \"live\", \"lives\", \"local\", \"made\", \"make\", \"many\", \"marriott\", \"marriott\", \"marriott\", \"marriott\", \"marriott\", \"may\", \"members\", \"millions\", \"mine\", \"miners\", \"money\", \"movement\", \"natural\", \"need\", \"never\", \"new\", \"now\", \"oil\", \"one\", \"pay\", \"people\", \"pipeline\", \"planet\", \"power\", \"president\", \"program\", \"programs\", \"programs\", \"programs\", \"programs\", \"programs\", \"protect\", \"protections\", \"re\", \"read\", \"real\", \"reduction\", \"report\", \"residents\", \"right\", \"rights\", \"rights\", \"rights\", \"rooms\", \"rooms\", \"rooms\", \"rooms\", \"rooms\", \"safe\", \"safety\", \"say\", \"says\", \"senate\", \"service\", \"show\", \"stand\", \"state\", \"statement\", \"stay\", \"still\", \"strike\", \"strong\", \"support\", \"sure\", \"sustainability\", \"sustainability\", \"sustainability\", \"sustainability\", \"sustainability\", \"sustainable\", \"t\", \"take\", \"tax\", \"tell\", \"thanks\", \"thousands\", \"time\", \"today\", \"together\", \"u\", \"union\", \"unions\", \"us\", \"use\", \"via\", \"video\", \"w\", \"want\", \"water\", \"work\", \"worked\", \"worker\", \"workers\", \"working\", \"year\", \"years\", \"zero\"]}, \"R\": 30, \"lambda.step\": 0.01, \"plot.opts\": {\"xlab\": \"PC1\", \"ylab\": \"PC2\"}, \"topic.order\": [5, 4, 3, 2, 1]};\n",
       "\n",
       "function LDAvis_load_lib(url, callback){\n",
       "  var s = document.createElement('script');\n",
       "  s.src = url;\n",
       "  s.async = true;\n",
       "  s.onreadystatechange = s.onload = callback;\n",
       "  s.onerror = function(){console.warn(\"failed to load library \" + url);};\n",
       "  document.getElementsByTagName(\"head\")[0].appendChild(s);\n",
       "}\n",
       "\n",
       "if(typeof(LDAvis) !== \"undefined\"){\n",
       "   // already loaded: just create the visualization\n",
       "   !function(LDAvis){\n",
       "       new LDAvis(\"#\" + \"ldavis_el351951403083411149124829067722\", ldavis_el351951403083411149124829067722_data);\n",
       "   }(LDAvis);\n",
       "}else if(typeof define === \"function\" && define.amd){\n",
       "   // require.js is available: use it to load d3/LDAvis\n",
       "   require.config({paths: {d3: \"https://d3js.org/d3.v5\"}});\n",
       "   require([\"d3\"], function(d3){\n",
       "      window.d3 = d3;\n",
       "      LDAvis_load_lib(\"https://cdn.jsdelivr.net/gh/bmabey/pyLDAvis@3.4.0/pyLDAvis/js/ldavis.v3.0.0.js\", function(){\n",
       "        new LDAvis(\"#\" + \"ldavis_el351951403083411149124829067722\", ldavis_el351951403083411149124829067722_data);\n",
       "      });\n",
       "    });\n",
       "}else{\n",
       "    // require.js not available: dynamically load d3 & LDAvis\n",
       "    LDAvis_load_lib(\"https://d3js.org/d3.v5.js\", function(){\n",
       "         LDAvis_load_lib(\"https://cdn.jsdelivr.net/gh/bmabey/pyLDAvis@3.4.0/pyLDAvis/js/ldavis.v3.0.0.js\", function(){\n",
       "                 new LDAvis(\"#\" + \"ldavis_el351951403083411149124829067722\", ldavis_el351951403083411149124829067722_data);\n",
       "            })\n",
       "         });\n",
       "}\n",
       "</script>"
      ],
      "text/plain": [
       "<IPython.core.display.HTML object>"
      ]
     },
     "execution_count": 18,
     "metadata": {},
     "output_type": "execute_result"
    }
   ],
   "source": [
    "pyLDAvis.display(vis_data)"
   ]
  },
  {
   "cell_type": "markdown",
   "id": "786cea39",
   "metadata": {},
   "source": [
    "# Analyzing all of twitter data to see the different topics that Unions talk about"
   ]
  },
  {
   "cell_type": "code",
   "execution_count": 12,
   "id": "3ff9e1bf",
   "metadata": {
    "scrolled": true
   },
   "outputs": [
    {
     "name": "stderr",
     "output_type": "stream",
     "text": [
      "/Users/jeffreypan/opt/anaconda3/lib/python3.8/site-packages/ipykernel/ipkernel.py:287: DeprecationWarning: `should_run_async` will not call `transform_cell` automatically in the future. Please pass the result to `transformed_cell` argument and any exception that happen during thetransform in `preprocessing_exc_tuple` in IPython 7.17 and above.\n",
      "  and should_run_async(code)\n"
     ]
    },
    {
     "data": {
      "text/plain": [
       "\"{'retweet_count': 76, 'reply_count': 5, 'like_count': 311, 'quote_count': 6}\""
      ]
     },
     "execution_count": 12,
     "metadata": {},
     "output_type": "execute_result"
    }
   ],
   "source": [
    "df_all = pd.read_csv('alldata 0802.csv')\n",
    "\n",
    "df_all['public_metrics'][0]"
   ]
  },
  {
   "cell_type": "code",
   "execution_count": 13,
   "id": "c76ebe6e",
   "metadata": {},
   "outputs": [
    {
     "name": "stderr",
     "output_type": "stream",
     "text": [
      "/Users/jeffreypan/opt/anaconda3/lib/python3.8/site-packages/ipykernel/ipkernel.py:287: DeprecationWarning: `should_run_async` will not call `transform_cell` automatically in the future. Please pass the result to `transformed_cell` argument and any exception that happen during thetransform in `preprocessing_exc_tuple` in IPython 7.17 and above.\n",
      "  and should_run_async(code)\n"
     ]
    }
   ],
   "source": [
    "def res(string_list):\n",
    "    return ast.literal_eval(string_list)\n",
    "\n",
    "df_all['public_metrics'] = df_all['public_metrics'].apply(res)"
   ]
  },
  {
   "cell_type": "code",
   "execution_count": 14,
   "id": "6bc0f40a",
   "metadata": {},
   "outputs": [
    {
     "name": "stderr",
     "output_type": "stream",
     "text": [
      "/Users/jeffreypan/opt/anaconda3/lib/python3.8/site-packages/ipykernel/ipkernel.py:287: DeprecationWarning: `should_run_async` will not call `transform_cell` automatically in the future. Please pass the result to `transformed_cell` argument and any exception that happen during thetransform in `preprocessing_exc_tuple` in IPython 7.17 and above.\n",
      "  and should_run_async(code)\n"
     ]
    },
    {
     "data": {
      "text/plain": [
       "{'retweet_count': 76, 'reply_count': 5, 'like_count': 311, 'quote_count': 6}"
      ]
     },
     "execution_count": 14,
     "metadata": {},
     "output_type": "execute_result"
    }
   ],
   "source": [
    "df_all['public_metrics'][0]"
   ]
  },
  {
   "cell_type": "code",
   "execution_count": null,
   "id": "f09c1b3e",
   "metadata": {},
   "outputs": [],
   "source": []
  }
 ],
 "metadata": {
  "kernelspec": {
   "display_name": "Python 3",
   "language": "python",
   "name": "python3"
  },
  "language_info": {
   "codemirror_mode": {
    "name": "ipython",
    "version": 3
   },
   "file_extension": ".py",
   "mimetype": "text/x-python",
   "name": "python",
   "nbconvert_exporter": "python",
   "pygments_lexer": "ipython3",
   "version": "3.8.8"
  }
 },
 "nbformat": 4,
 "nbformat_minor": 5
}
