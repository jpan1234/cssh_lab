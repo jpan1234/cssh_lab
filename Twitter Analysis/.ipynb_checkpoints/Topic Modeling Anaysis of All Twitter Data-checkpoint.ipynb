{
 "cells": [
  {
   "cell_type": "code",
   "execution_count": 10,
   "id": "5c4b1c4b",
   "metadata": {},
   "outputs": [
    {
     "name": "stderr",
     "output_type": "stream",
     "text": [
      "/Users/jeffreypan/opt/anaconda3/lib/python3.8/site-packages/ipykernel/ipkernel.py:287: DeprecationWarning: `should_run_async` will not call `transform_cell` automatically in the future. Please pass the result to `transformed_cell` argument and any exception that happen during thetransform in `preprocessing_exc_tuple` in IPython 7.17 and above.\n",
      "  and should_run_async(code)\n"
     ]
    }
   ],
   "source": [
    "import pandas as pd\n",
    "import numpy as np\n",
    "import nltk\n",
    "import pickle\n",
    "from collections import Counter\n",
    "from textblob import TextBlob\n",
    "from nltk.tokenize import word_tokenize\n",
    "from nltk.probability import FreqDist\n",
    "from sklearn.feature_extraction.text import CountVectorizer\n",
    "from sklearn.feature_extraction.text import TfidfVectorizer\n",
    "from sklearn.decomposition import LatentDirichletAllocation, NMF\n",
    "from wordcloud import WordCloud, ImageColorGenerator\n",
    "import matplotlib.pyplot as plt\n",
    "import seaborn as sns"
   ]
  },
  {
   "cell_type": "code",
   "execution_count": 11,
   "id": "dfbef91d",
   "metadata": {},
   "outputs": [
    {
     "name": "stderr",
     "output_type": "stream",
     "text": [
      "/Users/jeffreypan/opt/anaconda3/lib/python3.8/site-packages/ipykernel/ipkernel.py:287: DeprecationWarning: `should_run_async` will not call `transform_cell` automatically in the future. Please pass the result to `transformed_cell` argument and any exception that happen during thetransform in `preprocessing_exc_tuple` in IPython 7.17 and above.\n",
      "  and should_run_async(code)\n"
     ]
    }
   ],
   "source": [
    "import pandas as pd\n",
    "import numpy as np\n",
    "import ast"
   ]
  },
  {
   "cell_type": "code",
   "execution_count": 12,
   "id": "9ede1132",
   "metadata": {},
   "outputs": [
    {
     "name": "stderr",
     "output_type": "stream",
     "text": [
      "/Users/jeffreypan/opt/anaconda3/lib/python3.8/site-packages/ipykernel/ipkernel.py:287: DeprecationWarning: `should_run_async` will not call `transform_cell` automatically in the future. Please pass the result to `transformed_cell` argument and any exception that happen during thetransform in `preprocessing_exc_tuple` in IPython 7.17 and above.\n",
      "  and should_run_async(code)\n"
     ]
    },
    {
     "data": {
      "text/plain": [
       "\"{'retweet_count': 76, 'reply_count': 5, 'like_count': 311, 'quote_count': 6}\""
      ]
     },
     "execution_count": 12,
     "metadata": {},
     "output_type": "execute_result"
    }
   ],
   "source": [
    "# initialize dataframe\n",
    "df = pd.read_csv('alldata 0802.csv')\n",
    "\n",
    "df['public_metrics'][0]"
   ]
  },
  {
   "cell_type": "code",
   "execution_count": 13,
   "id": "72088058",
   "metadata": {},
   "outputs": [
    {
     "name": "stderr",
     "output_type": "stream",
     "text": [
      "/Users/jeffreypan/opt/anaconda3/lib/python3.8/site-packages/ipykernel/ipkernel.py:287: DeprecationWarning: `should_run_async` will not call `transform_cell` automatically in the future. Please pass the result to `transformed_cell` argument and any exception that happen during thetransform in `preprocessing_exc_tuple` in IPython 7.17 and above.\n",
      "  and should_run_async(code)\n"
     ]
    }
   ],
   "source": [
    "def res(string_dict):\n",
    "    return ast.literal_eval(string_dict)\n",
    "\n",
    "# set the dictinary as a dictionary\n",
    "df['public_metrics'] = df['public_metrics'].apply(res)"
   ]
  },
  {
   "cell_type": "code",
   "execution_count": 14,
   "id": "aa54a0b2",
   "metadata": {
    "scrolled": true
   },
   "outputs": [
    {
     "name": "stderr",
     "output_type": "stream",
     "text": [
      "/Users/jeffreypan/opt/anaconda3/lib/python3.8/site-packages/ipykernel/ipkernel.py:287: DeprecationWarning: `should_run_async` will not call `transform_cell` automatically in the future. Please pass the result to `transformed_cell` argument and any exception that happen during thetransform in `preprocessing_exc_tuple` in IPython 7.17 and above.\n",
      "  and should_run_async(code)\n"
     ]
    },
    {
     "data": {
      "text/plain": [
       "Index(['Unnamed: 0', 'created_at', 'text', 'entities', 'public_metrics',\n",
       "       'union name', 'Relevance:blank = relevant, 1=irrelevant, 2=discuss'],\n",
       "      dtype='object')"
      ]
     },
     "execution_count": 14,
     "metadata": {},
     "output_type": "execute_result"
    }
   ],
   "source": [
    "df.columns"
   ]
  },
  {
   "cell_type": "code",
   "execution_count": 15,
   "id": "bbab3c31",
   "metadata": {},
   "outputs": [
    {
     "name": "stderr",
     "output_type": "stream",
     "text": [
      "/Users/jeffreypan/opt/anaconda3/lib/python3.8/site-packages/ipykernel/ipkernel.py:287: DeprecationWarning: `should_run_async` will not call `transform_cell` automatically in the future. Please pass the result to `transformed_cell` argument and any exception that happen during thetransform in `preprocessing_exc_tuple` in IPython 7.17 and above.\n",
      "  and should_run_async(code)\n"
     ]
    }
   ],
   "source": [
    "# obtain the columns\n",
    "df = df[['created_at','text', 'entities','public_metrics','union name']]"
   ]
  },
  {
   "cell_type": "code",
   "execution_count": 16,
   "id": "930ec51e",
   "metadata": {},
   "outputs": [
    {
     "name": "stderr",
     "output_type": "stream",
     "text": [
      "/Users/jeffreypan/opt/anaconda3/lib/python3.8/site-packages/ipykernel/ipkernel.py:287: DeprecationWarning: `should_run_async` will not call `transform_cell` automatically in the future. Please pass the result to `transformed_cell` argument and any exception that happen during thetransform in `preprocessing_exc_tuple` in IPython 7.17 and above.\n",
      "  and should_run_async(code)\n"
     ]
    },
    {
     "data": {
      "text/html": [
       "<div>\n",
       "<style scoped>\n",
       "    .dataframe tbody tr th:only-of-type {\n",
       "        vertical-align: middle;\n",
       "    }\n",
       "\n",
       "    .dataframe tbody tr th {\n",
       "        vertical-align: top;\n",
       "    }\n",
       "\n",
       "    .dataframe thead th {\n",
       "        text-align: right;\n",
       "    }\n",
       "</style>\n",
       "<table border=\"1\" class=\"dataframe\">\n",
       "  <thead>\n",
       "    <tr style=\"text-align: right;\">\n",
       "      <th></th>\n",
       "      <th>created_at</th>\n",
       "      <th>text</th>\n",
       "      <th>entities</th>\n",
       "      <th>public_metrics</th>\n",
       "      <th>union name</th>\n",
       "    </tr>\n",
       "  </thead>\n",
       "  <tbody>\n",
       "    <tr>\n",
       "      <th>0</th>\n",
       "      <td>2022-06-08T01:39:00.000Z</td>\n",
       "      <td>Every student in America—Black, brown or white...</td>\n",
       "      <td>{'annotations': [{'start': 17, 'end': 23, 'pro...</td>\n",
       "      <td>{'retweet_count': 76, 'reply_count': 5, 'like_...</td>\n",
       "      <td>NEAToday</td>\n",
       "    </tr>\n",
       "    <tr>\n",
       "      <th>1</th>\n",
       "      <td>2022-05-20T00:10:00.000Z</td>\n",
       "      <td>So far, education advocates have not had a cle...</td>\n",
       "      <td>{'urls': [{'start': 109, 'end': 132, 'url': 'h...</td>\n",
       "      <td>{'retweet_count': 3, 'reply_count': 1, 'like_c...</td>\n",
       "      <td>NEAToday</td>\n",
       "    </tr>\n",
       "    <tr>\n",
       "      <th>2</th>\n",
       "      <td>2022-05-19T17:07:04.000Z</td>\n",
       "      <td>When educators and management come together us...</td>\n",
       "      <td>{'urls': [{'start': 164, 'end': 187, 'url': 'h...</td>\n",
       "      <td>{'retweet_count': 6, 'reply_count': 1, 'like_c...</td>\n",
       "      <td>NEAToday</td>\n",
       "    </tr>\n",
       "    <tr>\n",
       "      <th>3</th>\n",
       "      <td>2022-05-09T17:47:01.000Z</td>\n",
       "      <td>The mental health of our students must be a to...</td>\n",
       "      <td>{'annotations': [{'start': 202, 'end': 227, 'p...</td>\n",
       "      <td>{'retweet_count': 15, 'reply_count': 4, 'like_...</td>\n",
       "      <td>NEAToday</td>\n",
       "    </tr>\n",
       "    <tr>\n",
       "      <th>4</th>\n",
       "      <td>2022-04-22T19:46:02.000Z</td>\n",
       "      <td>One way to honor #EarthDay: Introduce your stu...</td>\n",
       "      <td>{'hashtags': [{'start': 17, 'end': 26, 'tag': ...</td>\n",
       "      <td>{'retweet_count': 15, 'reply_count': 2, 'like_...</td>\n",
       "      <td>NEAToday</td>\n",
       "    </tr>\n",
       "    <tr>\n",
       "      <th>...</th>\n",
       "      <td>...</td>\n",
       "      <td>...</td>\n",
       "      <td>...</td>\n",
       "      <td>...</td>\n",
       "      <td>...</td>\n",
       "    </tr>\n",
       "    <tr>\n",
       "      <th>11960</th>\n",
       "      <td>2012-03-12T19:45:04.000Z</td>\n",
       "      <td>Unite Here Local 427 in Missoula wants a promi...</td>\n",
       "      <td>{'hashtags': [{'start': 93, 'end': 96, 'tag': ...</td>\n",
       "      <td>{'retweet_count': 1, 'reply_count': 0, 'like_c...</td>\n",
       "      <td>unithere</td>\n",
       "    </tr>\n",
       "    <tr>\n",
       "      <th>11961</th>\n",
       "      <td>2012-03-06T21:50:04.000Z</td>\n",
       "      <td>100 years before OSHA - these kids were workin...</td>\n",
       "      <td>{'urls': [{'start': 85, 'end': 105, 'url': 'ht...</td>\n",
       "      <td>{'retweet_count': 1, 'reply_count': 0, 'like_c...</td>\n",
       "      <td>unithere</td>\n",
       "    </tr>\n",
       "    <tr>\n",
       "      <th>11962</th>\n",
       "      <td>2012-02-27T21:35:06.000Z</td>\n",
       "      <td>WOO!  New Contract Ratified at Consol Energy C...</td>\n",
       "      <td>{'hashtags': [{'start': 53, 'end': 56, 'tag': ...</td>\n",
       "      <td>{'retweet_count': 0, 'reply_count': 0, 'like_c...</td>\n",
       "      <td>unithere</td>\n",
       "    </tr>\n",
       "    <tr>\n",
       "      <th>11963</th>\n",
       "      <td>2012-02-11T00:29:24.000Z</td>\n",
       "      <td>Regional director Shawn Bagley isn't just a co...</td>\n",
       "      <td>{'urls': [{'start': 115, 'end': 135, 'url': 'h...</td>\n",
       "      <td>{'retweet_count': 1, 'reply_count': 0, 'like_c...</td>\n",
       "      <td>unithere</td>\n",
       "    </tr>\n",
       "    <tr>\n",
       "      <th>11964</th>\n",
       "      <td>2011-09-14T18:13:32.000Z</td>\n",
       "      <td>As @sandraMHyatt points out, health and safety...</td>\n",
       "      <td>{'hashtags': [{'start': 127, 'end': 138, 'tag'...</td>\n",
       "      <td>{'retweet_count': 0, 'reply_count': 0, 'like_c...</td>\n",
       "      <td>unithere</td>\n",
       "    </tr>\n",
       "  </tbody>\n",
       "</table>\n",
       "<p>11965 rows × 5 columns</p>\n",
       "</div>"
      ],
      "text/plain": [
       "                     created_at  \\\n",
       "0      2022-06-08T01:39:00.000Z   \n",
       "1      2022-05-20T00:10:00.000Z   \n",
       "2      2022-05-19T17:07:04.000Z   \n",
       "3      2022-05-09T17:47:01.000Z   \n",
       "4      2022-04-22T19:46:02.000Z   \n",
       "...                         ...   \n",
       "11960  2012-03-12T19:45:04.000Z   \n",
       "11961  2012-03-06T21:50:04.000Z   \n",
       "11962  2012-02-27T21:35:06.000Z   \n",
       "11963  2012-02-11T00:29:24.000Z   \n",
       "11964  2011-09-14T18:13:32.000Z   \n",
       "\n",
       "                                                    text  \\\n",
       "0      Every student in America—Black, brown or white...   \n",
       "1      So far, education advocates have not had a cle...   \n",
       "2      When educators and management come together us...   \n",
       "3      The mental health of our students must be a to...   \n",
       "4      One way to honor #EarthDay: Introduce your stu...   \n",
       "...                                                  ...   \n",
       "11960  Unite Here Local 427 in Missoula wants a promi...   \n",
       "11961  100 years before OSHA - these kids were workin...   \n",
       "11962  WOO!  New Contract Ratified at Consol Energy C...   \n",
       "11963  Regional director Shawn Bagley isn't just a co...   \n",
       "11964  As @sandraMHyatt points out, health and safety...   \n",
       "\n",
       "                                                entities  \\\n",
       "0      {'annotations': [{'start': 17, 'end': 23, 'pro...   \n",
       "1      {'urls': [{'start': 109, 'end': 132, 'url': 'h...   \n",
       "2      {'urls': [{'start': 164, 'end': 187, 'url': 'h...   \n",
       "3      {'annotations': [{'start': 202, 'end': 227, 'p...   \n",
       "4      {'hashtags': [{'start': 17, 'end': 26, 'tag': ...   \n",
       "...                                                  ...   \n",
       "11960  {'hashtags': [{'start': 93, 'end': 96, 'tag': ...   \n",
       "11961  {'urls': [{'start': 85, 'end': 105, 'url': 'ht...   \n",
       "11962  {'hashtags': [{'start': 53, 'end': 56, 'tag': ...   \n",
       "11963  {'urls': [{'start': 115, 'end': 135, 'url': 'h...   \n",
       "11964  {'hashtags': [{'start': 127, 'end': 138, 'tag'...   \n",
       "\n",
       "                                          public_metrics union name  \n",
       "0      {'retweet_count': 76, 'reply_count': 5, 'like_...   NEAToday  \n",
       "1      {'retweet_count': 3, 'reply_count': 1, 'like_c...   NEAToday  \n",
       "2      {'retweet_count': 6, 'reply_count': 1, 'like_c...   NEAToday  \n",
       "3      {'retweet_count': 15, 'reply_count': 4, 'like_...   NEAToday  \n",
       "4      {'retweet_count': 15, 'reply_count': 2, 'like_...   NEAToday  \n",
       "...                                                  ...        ...  \n",
       "11960  {'retweet_count': 1, 'reply_count': 0, 'like_c...   unithere  \n",
       "11961  {'retweet_count': 1, 'reply_count': 0, 'like_c...   unithere  \n",
       "11962  {'retweet_count': 0, 'reply_count': 0, 'like_c...   unithere  \n",
       "11963  {'retweet_count': 1, 'reply_count': 0, 'like_c...   unithere  \n",
       "11964  {'retweet_count': 0, 'reply_count': 0, 'like_c...   unithere  \n",
       "\n",
       "[11965 rows x 5 columns]"
      ]
     },
     "execution_count": 16,
     "metadata": {},
     "output_type": "execute_result"
    }
   ],
   "source": [
    "df"
   ]
  },
  {
   "cell_type": "code",
   "execution_count": 17,
   "id": "b11bc63e",
   "metadata": {},
   "outputs": [
    {
     "name": "stderr",
     "output_type": "stream",
     "text": [
      "/Users/jeffreypan/opt/anaconda3/lib/python3.8/site-packages/ipykernel/ipkernel.py:287: DeprecationWarning: `should_run_async` will not call `transform_cell` automatically in the future. Please pass the result to `transformed_cell` argument and any exception that happen during thetransform in `preprocessing_exc_tuple` in IPython 7.17 and above.\n",
      "  and should_run_async(code)\n"
     ]
    }
   ],
   "source": [
    "#often, we want to remove stopwords\n",
    "stopwords = ['i', 'me', 'my', 'myself', 'we', 'our', 'ours', 'ourselves', 'you', 'your', 'yours', \n",
    "                     'yourself', 'yourselves', 'he', 'him', 'his', 'himself', 'she', 'her', 'hers', 'herself', \n",
    "                     'it', 'its', 'itself', 'they', 'them', 'their', 'theirs', 'themselves', 'what', 'which', \n",
    "                     'who', 'whom', 'this', 'that', 'these', 'those', 'am', 'is', 'are', 'was', 'were', 'be', \n",
    "                     'been', 'being', 'have', 'has', 'had', 'having', 'do', 'does', 'did', 'doing', 'a', 'an', \n",
    "                     'the', 'and', 'but', 'if', 'or', 'because', 'as', 'until', 'while', 'of', 'at', 'by', 'for', \n",
    "                     'with', 'about', 'against', 'between', 'into', 'through', 'during', 'before', 'after', \n",
    "                     'above', 'below', 'to', 'from', 'up', 'down', 'in', 'out', 'on', 'off', 'over', \n",
    "                     'under', 'again', 'further', 'then', 'once', 'here', 'there', 'when', 'where', 'why', \n",
    "                     'how', 'all', 'any', 'both', 'each', 'few', 'more', 'most', 'other', 'some', 'such', 'no', \n",
    "                     'nor', 'not', 'only', 'own', 'same', 'so', 'than', 'too', 'very', 'can', 'will',\n",
    "                     'just', 'dont', 'should', 'aint', 'arent', 'couldn', 'could', 'would', 'much', 'must',\n",
    "                     'didnt', 'doesnt', 'hadnt', 'hasnt', 'havent', 'isnt', 'mightnt', 'mustnt', 'neednt', 'shan',\n",
    "                     'shouldnt', 'wasnt', 'werent', 'wont', 'wouldnt','rt','mt','amp','mil','ve','don','s','st','pres','req','aft','ua', 'via']"
   ]
  },
  {
   "cell_type": "code",
   "execution_count": 18,
   "id": "cca7a924",
   "metadata": {},
   "outputs": [
    {
     "name": "stderr",
     "output_type": "stream",
     "text": [
      "/Users/jeffreypan/opt/anaconda3/lib/python3.8/site-packages/ipykernel/ipkernel.py:287: DeprecationWarning: `should_run_async` will not call `transform_cell` automatically in the future. Please pass the result to `transformed_cell` argument and any exception that happen during thetransform in `preprocessing_exc_tuple` in IPython 7.17 and above.\n",
      "  and should_run_async(code)\n",
      "<>:17: DeprecationWarning: invalid escape sequence \\[\n",
      "<>:17: DeprecationWarning: invalid escape sequence \\[\n",
      "<ipython-input-18-58ed2c1ea6e0>:17: DeprecationWarning: invalid escape sequence \\[\n",
      "  temp = re.sub('\\[.*?\\]',' ', temp)\n"
     ]
    }
   ],
   "source": [
    " #adopted from catriscode, https://catriscode.com/2021/05/01/tweets-cleaning-with-python/\n",
    "\n",
    "import numpy as np\n",
    "import re\n",
    "\n",
    "def clean_tweet(tweet):\n",
    "    raw_tweet = str(tweet)\n",
    "    if type(tweet) == float:\n",
    "        return \"\"\n",
    "    temp = re.sub(\"'\", \"\", str(tweet)) # to avoid removing contractions in english\n",
    "    temp = temp.lower()\n",
    "    temp = re.sub(\"@[A-Za-z0-9_]+\",\"\", temp)\n",
    "    temp = re.sub(\"#[A-Za-z0-9_]+\",\"\", temp)\n",
    "    temp = re.sub(r'http\\S+', '', temp)\n",
    "    temp = re.sub(r\"www.\\S+\", \"\", temp)\n",
    "    temp = re.sub('[()!?]', ' ', temp)\n",
    "    temp = re.sub('\\[.*?\\]',' ', temp)\n",
    "    #temp = re.sub(\"[^a-z0-9]\",\" \", temp) # this removes all letters including CO2\n",
    "    temp = re.sub(\"[^a-z]\",\" \", temp)\n",
    "    temp = temp.split()\n",
    "    temp = [w for w in temp if not w in stopwords]\n",
    "    temp = \" \".join(word for word in temp)\n",
    "    \n",
    "    if temp is None:\n",
    "        print (raw_tweet,temp)\n",
    "        \n",
    "    return temp"
   ]
  },
  {
   "cell_type": "code",
   "execution_count": 19,
   "id": "0bb24a7b",
   "metadata": {
    "scrolled": true
   },
   "outputs": [
    {
     "name": "stderr",
     "output_type": "stream",
     "text": [
      "/Users/jeffreypan/opt/anaconda3/lib/python3.8/site-packages/ipykernel/ipkernel.py:287: DeprecationWarning: `should_run_async` will not call `transform_cell` automatically in the future. Please pass the result to `transformed_cell` argument and any exception that happen during thetransform in `preprocessing_exc_tuple` in IPython 7.17 and above.\n",
      "  and should_run_async(code)\n"
     ]
    }
   ],
   "source": [
    "# create clean text column\n",
    "df['clean_text'] = df['text'].apply(clean_tweet)"
   ]
  },
  {
   "cell_type": "code",
   "execution_count": 20,
   "id": "e2f9e08d",
   "metadata": {},
   "outputs": [
    {
     "name": "stderr",
     "output_type": "stream",
     "text": [
      "/Users/jeffreypan/opt/anaconda3/lib/python3.8/site-packages/ipykernel/ipkernel.py:287: DeprecationWarning: `should_run_async` will not call `transform_cell` automatically in the future. Please pass the result to `transformed_cell` argument and any exception that happen during thetransform in `preprocessing_exc_tuple` in IPython 7.17 and above.\n",
      "  and should_run_async(code)\n"
     ]
    }
   ],
   "source": [
    "df = df.dropna(subset=['clean_text'])\n",
    "df\n",
    "#empty data with cleaning procedure\n",
    "\n",
    "#`reset_index()`will recreate index column every time we run it on same data \n",
    "#`drop = True` paramater won’t create that as column in the dataframe, look at the difference between following two dataset\n",
    "df = df.reset_index(drop=False) "
   ]
  },
  {
   "cell_type": "code",
   "execution_count": 21,
   "id": "f2591f3a",
   "metadata": {},
   "outputs": [
    {
     "name": "stderr",
     "output_type": "stream",
     "text": [
      "/Users/jeffreypan/opt/anaconda3/lib/python3.8/site-packages/ipykernel/ipkernel.py:287: DeprecationWarning: `should_run_async` will not call `transform_cell` automatically in the future. Please pass the result to `transformed_cell` argument and any exception that happen during thetransform in `preprocessing_exc_tuple` in IPython 7.17 and above.\n",
      "  and should_run_async(code)\n"
     ]
    },
    {
     "data": {
      "text/html": [
       "<div>\n",
       "<style scoped>\n",
       "    .dataframe tbody tr th:only-of-type {\n",
       "        vertical-align: middle;\n",
       "    }\n",
       "\n",
       "    .dataframe tbody tr th {\n",
       "        vertical-align: top;\n",
       "    }\n",
       "\n",
       "    .dataframe thead th {\n",
       "        text-align: right;\n",
       "    }\n",
       "</style>\n",
       "<table border=\"1\" class=\"dataframe\">\n",
       "  <thead>\n",
       "    <tr style=\"text-align: right;\">\n",
       "      <th></th>\n",
       "      <th>index</th>\n",
       "      <th>created_at</th>\n",
       "      <th>text</th>\n",
       "      <th>entities</th>\n",
       "      <th>public_metrics</th>\n",
       "      <th>union name</th>\n",
       "      <th>clean_text</th>\n",
       "    </tr>\n",
       "  </thead>\n",
       "  <tbody>\n",
       "    <tr>\n",
       "      <th>0</th>\n",
       "      <td>0</td>\n",
       "      <td>2022-06-08T01:39:00.000Z</td>\n",
       "      <td>Every student in America—Black, brown or white...</td>\n",
       "      <td>{'annotations': [{'start': 17, 'end': 23, 'pro...</td>\n",
       "      <td>{'retweet_count': 76, 'reply_count': 5, 'like_...</td>\n",
       "      <td>NEAToday</td>\n",
       "      <td>every student america black brown white native...</td>\n",
       "    </tr>\n",
       "    <tr>\n",
       "      <th>1</th>\n",
       "      <td>1</td>\n",
       "      <td>2022-05-20T00:10:00.000Z</td>\n",
       "      <td>So far, education advocates have not had a cle...</td>\n",
       "      <td>{'urls': [{'start': 109, 'end': 132, 'url': 'h...</td>\n",
       "      <td>{'retweet_count': 3, 'reply_count': 1, 'like_c...</td>\n",
       "      <td>NEAToday</td>\n",
       "      <td>far education advocates clear role addressing ...</td>\n",
       "    </tr>\n",
       "    <tr>\n",
       "      <th>2</th>\n",
       "      <td>2</td>\n",
       "      <td>2022-05-19T17:07:04.000Z</td>\n",
       "      <td>When educators and management come together us...</td>\n",
       "      <td>{'urls': [{'start': 164, 'end': 187, 'url': 'h...</td>\n",
       "      <td>{'retweet_count': 6, 'reply_count': 1, 'like_c...</td>\n",
       "      <td>NEAToday</td>\n",
       "      <td>educators management come together using susta...</td>\n",
       "    </tr>\n",
       "    <tr>\n",
       "      <th>3</th>\n",
       "      <td>3</td>\n",
       "      <td>2022-05-09T17:47:01.000Z</td>\n",
       "      <td>The mental health of our students must be a to...</td>\n",
       "      <td>{'annotations': [{'start': 202, 'end': 227, 'p...</td>\n",
       "      <td>{'retweet_count': 15, 'reply_count': 4, 'like_...</td>\n",
       "      <td>NEAToday</td>\n",
       "      <td>mental health students top priority school com...</td>\n",
       "    </tr>\n",
       "    <tr>\n",
       "      <th>4</th>\n",
       "      <td>4</td>\n",
       "      <td>2022-04-22T19:46:02.000Z</td>\n",
       "      <td>One way to honor #EarthDay: Introduce your stu...</td>\n",
       "      <td>{'hashtags': [{'start': 17, 'end': 26, 'tag': ...</td>\n",
       "      <td>{'retweet_count': 15, 'reply_count': 2, 'like_...</td>\n",
       "      <td>NEAToday</td>\n",
       "      <td>one way honor introduce students girls green w...</td>\n",
       "    </tr>\n",
       "    <tr>\n",
       "      <th>...</th>\n",
       "      <td>...</td>\n",
       "      <td>...</td>\n",
       "      <td>...</td>\n",
       "      <td>...</td>\n",
       "      <td>...</td>\n",
       "      <td>...</td>\n",
       "      <td>...</td>\n",
       "    </tr>\n",
       "    <tr>\n",
       "      <th>11960</th>\n",
       "      <td>11960</td>\n",
       "      <td>2012-03-12T19:45:04.000Z</td>\n",
       "      <td>Unite Here Local 427 in Missoula wants a promi...</td>\n",
       "      <td>{'hashtags': [{'start': 93, 'end': 96, 'tag': ...</td>\n",
       "      <td>{'retweet_count': 1, 'reply_count': 0, 'like_c...</td>\n",
       "      <td>unithere</td>\n",
       "      <td>unite local missoula wants promise good jobs e...</td>\n",
       "    </tr>\n",
       "    <tr>\n",
       "      <th>11961</th>\n",
       "      <td>11961</td>\n",
       "      <td>2012-03-06T21:50:04.000Z</td>\n",
       "      <td>100 years before OSHA - these kids were workin...</td>\n",
       "      <td>{'urls': [{'start': 85, 'end': 105, 'url': 'ht...</td>\n",
       "      <td>{'retweet_count': 1, 'reply_count': 0, 'like_c...</td>\n",
       "      <td>unithere</td>\n",
       "      <td>years osha kids working mines</td>\n",
       "    </tr>\n",
       "    <tr>\n",
       "      <th>11962</th>\n",
       "      <td>11962</td>\n",
       "      <td>2012-02-27T21:35:06.000Z</td>\n",
       "      <td>WOO!  New Contract Ratified at Consol Energy C...</td>\n",
       "      <td>{'hashtags': [{'start': 53, 'end': 56, 'tag': ...</td>\n",
       "      <td>{'retweet_count': 0, 'reply_count': 0, 'like_c...</td>\n",
       "      <td>unithere</td>\n",
       "      <td>woo new contract ratified consol energy center</td>\n",
       "    </tr>\n",
       "    <tr>\n",
       "      <th>11963</th>\n",
       "      <td>11963</td>\n",
       "      <td>2012-02-11T00:29:24.000Z</td>\n",
       "      <td>Regional director Shawn Bagley isn't just a co...</td>\n",
       "      <td>{'urls': [{'start': 115, 'end': 135, 'url': 'h...</td>\n",
       "      <td>{'retweet_count': 1, 'reply_count': 0, 'like_c...</td>\n",
       "      <td>unithere</td>\n",
       "      <td>regional director shawn bagley cop hes cop jus...</td>\n",
       "    </tr>\n",
       "    <tr>\n",
       "      <th>11964</th>\n",
       "      <td>11964</td>\n",
       "      <td>2011-09-14T18:13:32.000Z</td>\n",
       "      <td>As @sandraMHyatt points out, health and safety...</td>\n",
       "      <td>{'hashtags': [{'start': 127, 'end': 138, 'tag'...</td>\n",
       "      <td>{'retweet_count': 0, 'reply_count': 0, 'like_c...</td>\n",
       "      <td>unithere</td>\n",
       "      <td>points health safety critical issues many peop...</td>\n",
       "    </tr>\n",
       "  </tbody>\n",
       "</table>\n",
       "<p>11965 rows × 7 columns</p>\n",
       "</div>"
      ],
      "text/plain": [
       "       index                created_at  \\\n",
       "0          0  2022-06-08T01:39:00.000Z   \n",
       "1          1  2022-05-20T00:10:00.000Z   \n",
       "2          2  2022-05-19T17:07:04.000Z   \n",
       "3          3  2022-05-09T17:47:01.000Z   \n",
       "4          4  2022-04-22T19:46:02.000Z   \n",
       "...      ...                       ...   \n",
       "11960  11960  2012-03-12T19:45:04.000Z   \n",
       "11961  11961  2012-03-06T21:50:04.000Z   \n",
       "11962  11962  2012-02-27T21:35:06.000Z   \n",
       "11963  11963  2012-02-11T00:29:24.000Z   \n",
       "11964  11964  2011-09-14T18:13:32.000Z   \n",
       "\n",
       "                                                    text  \\\n",
       "0      Every student in America—Black, brown or white...   \n",
       "1      So far, education advocates have not had a cle...   \n",
       "2      When educators and management come together us...   \n",
       "3      The mental health of our students must be a to...   \n",
       "4      One way to honor #EarthDay: Introduce your stu...   \n",
       "...                                                  ...   \n",
       "11960  Unite Here Local 427 in Missoula wants a promi...   \n",
       "11961  100 years before OSHA - these kids were workin...   \n",
       "11962  WOO!  New Contract Ratified at Consol Energy C...   \n",
       "11963  Regional director Shawn Bagley isn't just a co...   \n",
       "11964  As @sandraMHyatt points out, health and safety...   \n",
       "\n",
       "                                                entities  \\\n",
       "0      {'annotations': [{'start': 17, 'end': 23, 'pro...   \n",
       "1      {'urls': [{'start': 109, 'end': 132, 'url': 'h...   \n",
       "2      {'urls': [{'start': 164, 'end': 187, 'url': 'h...   \n",
       "3      {'annotations': [{'start': 202, 'end': 227, 'p...   \n",
       "4      {'hashtags': [{'start': 17, 'end': 26, 'tag': ...   \n",
       "...                                                  ...   \n",
       "11960  {'hashtags': [{'start': 93, 'end': 96, 'tag': ...   \n",
       "11961  {'urls': [{'start': 85, 'end': 105, 'url': 'ht...   \n",
       "11962  {'hashtags': [{'start': 53, 'end': 56, 'tag': ...   \n",
       "11963  {'urls': [{'start': 115, 'end': 135, 'url': 'h...   \n",
       "11964  {'hashtags': [{'start': 127, 'end': 138, 'tag'...   \n",
       "\n",
       "                                          public_metrics union name  \\\n",
       "0      {'retweet_count': 76, 'reply_count': 5, 'like_...   NEAToday   \n",
       "1      {'retweet_count': 3, 'reply_count': 1, 'like_c...   NEAToday   \n",
       "2      {'retweet_count': 6, 'reply_count': 1, 'like_c...   NEAToday   \n",
       "3      {'retweet_count': 15, 'reply_count': 4, 'like_...   NEAToday   \n",
       "4      {'retweet_count': 15, 'reply_count': 2, 'like_...   NEAToday   \n",
       "...                                                  ...        ...   \n",
       "11960  {'retweet_count': 1, 'reply_count': 0, 'like_c...   unithere   \n",
       "11961  {'retweet_count': 1, 'reply_count': 0, 'like_c...   unithere   \n",
       "11962  {'retweet_count': 0, 'reply_count': 0, 'like_c...   unithere   \n",
       "11963  {'retweet_count': 1, 'reply_count': 0, 'like_c...   unithere   \n",
       "11964  {'retweet_count': 0, 'reply_count': 0, 'like_c...   unithere   \n",
       "\n",
       "                                              clean_text  \n",
       "0      every student america black brown white native...  \n",
       "1      far education advocates clear role addressing ...  \n",
       "2      educators management come together using susta...  \n",
       "3      mental health students top priority school com...  \n",
       "4      one way honor introduce students girls green w...  \n",
       "...                                                  ...  \n",
       "11960  unite local missoula wants promise good jobs e...  \n",
       "11961                      years osha kids working mines  \n",
       "11962     woo new contract ratified consol energy center  \n",
       "11963  regional director shawn bagley cop hes cop jus...  \n",
       "11964  points health safety critical issues many peop...  \n",
       "\n",
       "[11965 rows x 7 columns]"
      ]
     },
     "execution_count": 21,
     "metadata": {},
     "output_type": "execute_result"
    }
   ],
   "source": [
    "df"
   ]
  },
  {
   "cell_type": "code",
   "execution_count": 22,
   "id": "e770166c",
   "metadata": {},
   "outputs": [
    {
     "name": "stderr",
     "output_type": "stream",
     "text": [
      "/Users/jeffreypan/opt/anaconda3/lib/python3.8/site-packages/ipykernel/ipkernel.py:287: DeprecationWarning: `should_run_async` will not call `transform_cell` automatically in the future. Please pass the result to `transformed_cell` argument and any exception that happen during thetransform in `preprocessing_exc_tuple` in IPython 7.17 and above.\n",
      "  and should_run_async(code)\n"
     ]
    }
   ],
   "source": [
    "# create a list of cleaned text\n",
    "df['clean_text_list'] = [l.split() for l in df['clean_text']]"
   ]
  },
  {
   "cell_type": "code",
   "execution_count": 23,
   "id": "e25047b0",
   "metadata": {},
   "outputs": [
    {
     "name": "stderr",
     "output_type": "stream",
     "text": [
      "/Users/jeffreypan/opt/anaconda3/lib/python3.8/site-packages/ipykernel/ipkernel.py:287: DeprecationWarning: `should_run_async` will not call `transform_cell` automatically in the future. Please pass the result to `transformed_cell` argument and any exception that happen during thetransform in `preprocessing_exc_tuple` in IPython 7.17 and above.\n",
      "  and should_run_async(code)\n"
     ]
    },
    {
     "data": {
      "text/html": [
       "<div>\n",
       "<style scoped>\n",
       "    .dataframe tbody tr th:only-of-type {\n",
       "        vertical-align: middle;\n",
       "    }\n",
       "\n",
       "    .dataframe tbody tr th {\n",
       "        vertical-align: top;\n",
       "    }\n",
       "\n",
       "    .dataframe thead th {\n",
       "        text-align: right;\n",
       "    }\n",
       "</style>\n",
       "<table border=\"1\" class=\"dataframe\">\n",
       "  <thead>\n",
       "    <tr style=\"text-align: right;\">\n",
       "      <th></th>\n",
       "      <th>index</th>\n",
       "      <th>created_at</th>\n",
       "      <th>text</th>\n",
       "      <th>entities</th>\n",
       "      <th>public_metrics</th>\n",
       "      <th>union name</th>\n",
       "      <th>clean_text</th>\n",
       "      <th>clean_text_list</th>\n",
       "    </tr>\n",
       "  </thead>\n",
       "  <tbody>\n",
       "    <tr>\n",
       "      <th>0</th>\n",
       "      <td>0</td>\n",
       "      <td>2022-06-08T01:39:00.000Z</td>\n",
       "      <td>Every student in America—Black, brown or white...</td>\n",
       "      <td>{'annotations': [{'start': 17, 'end': 23, 'pro...</td>\n",
       "      <td>{'retweet_count': 76, 'reply_count': 5, 'like_...</td>\n",
       "      <td>NEAToday</td>\n",
       "      <td>every student america black brown white native...</td>\n",
       "      <td>[every, student, america, black, brown, white,...</td>\n",
       "    </tr>\n",
       "    <tr>\n",
       "      <th>1</th>\n",
       "      <td>1</td>\n",
       "      <td>2022-05-20T00:10:00.000Z</td>\n",
       "      <td>So far, education advocates have not had a cle...</td>\n",
       "      <td>{'urls': [{'start': 109, 'end': 132, 'url': 'h...</td>\n",
       "      <td>{'retweet_count': 3, 'reply_count': 1, 'like_c...</td>\n",
       "      <td>NEAToday</td>\n",
       "      <td>far education advocates clear role addressing ...</td>\n",
       "      <td>[far, education, advocates, clear, role, addre...</td>\n",
       "    </tr>\n",
       "    <tr>\n",
       "      <th>2</th>\n",
       "      <td>2</td>\n",
       "      <td>2022-05-19T17:07:04.000Z</td>\n",
       "      <td>When educators and management come together us...</td>\n",
       "      <td>{'urls': [{'start': 164, 'end': 187, 'url': 'h...</td>\n",
       "      <td>{'retweet_count': 6, 'reply_count': 1, 'like_c...</td>\n",
       "      <td>NEAToday</td>\n",
       "      <td>educators management come together using susta...</td>\n",
       "      <td>[educators, management, come, together, using,...</td>\n",
       "    </tr>\n",
       "    <tr>\n",
       "      <th>3</th>\n",
       "      <td>3</td>\n",
       "      <td>2022-05-09T17:47:01.000Z</td>\n",
       "      <td>The mental health of our students must be a to...</td>\n",
       "      <td>{'annotations': [{'start': 202, 'end': 227, 'p...</td>\n",
       "      <td>{'retweet_count': 15, 'reply_count': 4, 'like_...</td>\n",
       "      <td>NEAToday</td>\n",
       "      <td>mental health students top priority school com...</td>\n",
       "      <td>[mental, health, students, top, priority, scho...</td>\n",
       "    </tr>\n",
       "    <tr>\n",
       "      <th>4</th>\n",
       "      <td>4</td>\n",
       "      <td>2022-04-22T19:46:02.000Z</td>\n",
       "      <td>One way to honor #EarthDay: Introduce your stu...</td>\n",
       "      <td>{'hashtags': [{'start': 17, 'end': 26, 'tag': ...</td>\n",
       "      <td>{'retweet_count': 15, 'reply_count': 2, 'like_...</td>\n",
       "      <td>NEAToday</td>\n",
       "      <td>one way honor introduce students girls green w...</td>\n",
       "      <td>[one, way, honor, introduce, students, girls, ...</td>\n",
       "    </tr>\n",
       "    <tr>\n",
       "      <th>...</th>\n",
       "      <td>...</td>\n",
       "      <td>...</td>\n",
       "      <td>...</td>\n",
       "      <td>...</td>\n",
       "      <td>...</td>\n",
       "      <td>...</td>\n",
       "      <td>...</td>\n",
       "      <td>...</td>\n",
       "    </tr>\n",
       "    <tr>\n",
       "      <th>11960</th>\n",
       "      <td>11960</td>\n",
       "      <td>2012-03-12T19:45:04.000Z</td>\n",
       "      <td>Unite Here Local 427 in Missoula wants a promi...</td>\n",
       "      <td>{'hashtags': [{'start': 93, 'end': 96, 'tag': ...</td>\n",
       "      <td>{'retweet_count': 1, 'reply_count': 0, 'like_c...</td>\n",
       "      <td>unithere</td>\n",
       "      <td>unite local missoula wants promise good jobs e...</td>\n",
       "      <td>[unite, local, missoula, wants, promise, good,...</td>\n",
       "    </tr>\n",
       "    <tr>\n",
       "      <th>11961</th>\n",
       "      <td>11961</td>\n",
       "      <td>2012-03-06T21:50:04.000Z</td>\n",
       "      <td>100 years before OSHA - these kids were workin...</td>\n",
       "      <td>{'urls': [{'start': 85, 'end': 105, 'url': 'ht...</td>\n",
       "      <td>{'retweet_count': 1, 'reply_count': 0, 'like_c...</td>\n",
       "      <td>unithere</td>\n",
       "      <td>years osha kids working mines</td>\n",
       "      <td>[years, osha, kids, working, mines]</td>\n",
       "    </tr>\n",
       "    <tr>\n",
       "      <th>11962</th>\n",
       "      <td>11962</td>\n",
       "      <td>2012-02-27T21:35:06.000Z</td>\n",
       "      <td>WOO!  New Contract Ratified at Consol Energy C...</td>\n",
       "      <td>{'hashtags': [{'start': 53, 'end': 56, 'tag': ...</td>\n",
       "      <td>{'retweet_count': 0, 'reply_count': 0, 'like_c...</td>\n",
       "      <td>unithere</td>\n",
       "      <td>woo new contract ratified consol energy center</td>\n",
       "      <td>[woo, new, contract, ratified, consol, energy,...</td>\n",
       "    </tr>\n",
       "    <tr>\n",
       "      <th>11963</th>\n",
       "      <td>11963</td>\n",
       "      <td>2012-02-11T00:29:24.000Z</td>\n",
       "      <td>Regional director Shawn Bagley isn't just a co...</td>\n",
       "      <td>{'urls': [{'start': 115, 'end': 135, 'url': 'h...</td>\n",
       "      <td>{'retweet_count': 1, 'reply_count': 0, 'like_c...</td>\n",
       "      <td>unithere</td>\n",
       "      <td>regional director shawn bagley cop hes cop jus...</td>\n",
       "      <td>[regional, director, shawn, bagley, cop, hes, ...</td>\n",
       "    </tr>\n",
       "    <tr>\n",
       "      <th>11964</th>\n",
       "      <td>11964</td>\n",
       "      <td>2011-09-14T18:13:32.000Z</td>\n",
       "      <td>As @sandraMHyatt points out, health and safety...</td>\n",
       "      <td>{'hashtags': [{'start': 127, 'end': 138, 'tag'...</td>\n",
       "      <td>{'retweet_count': 0, 'reply_count': 0, 'like_c...</td>\n",
       "      <td>unithere</td>\n",
       "      <td>points health safety critical issues many peop...</td>\n",
       "      <td>[points, health, safety, critical, issues, man...</td>\n",
       "    </tr>\n",
       "  </tbody>\n",
       "</table>\n",
       "<p>11965 rows × 8 columns</p>\n",
       "</div>"
      ],
      "text/plain": [
       "       index                created_at  \\\n",
       "0          0  2022-06-08T01:39:00.000Z   \n",
       "1          1  2022-05-20T00:10:00.000Z   \n",
       "2          2  2022-05-19T17:07:04.000Z   \n",
       "3          3  2022-05-09T17:47:01.000Z   \n",
       "4          4  2022-04-22T19:46:02.000Z   \n",
       "...      ...                       ...   \n",
       "11960  11960  2012-03-12T19:45:04.000Z   \n",
       "11961  11961  2012-03-06T21:50:04.000Z   \n",
       "11962  11962  2012-02-27T21:35:06.000Z   \n",
       "11963  11963  2012-02-11T00:29:24.000Z   \n",
       "11964  11964  2011-09-14T18:13:32.000Z   \n",
       "\n",
       "                                                    text  \\\n",
       "0      Every student in America—Black, brown or white...   \n",
       "1      So far, education advocates have not had a cle...   \n",
       "2      When educators and management come together us...   \n",
       "3      The mental health of our students must be a to...   \n",
       "4      One way to honor #EarthDay: Introduce your stu...   \n",
       "...                                                  ...   \n",
       "11960  Unite Here Local 427 in Missoula wants a promi...   \n",
       "11961  100 years before OSHA - these kids were workin...   \n",
       "11962  WOO!  New Contract Ratified at Consol Energy C...   \n",
       "11963  Regional director Shawn Bagley isn't just a co...   \n",
       "11964  As @sandraMHyatt points out, health and safety...   \n",
       "\n",
       "                                                entities  \\\n",
       "0      {'annotations': [{'start': 17, 'end': 23, 'pro...   \n",
       "1      {'urls': [{'start': 109, 'end': 132, 'url': 'h...   \n",
       "2      {'urls': [{'start': 164, 'end': 187, 'url': 'h...   \n",
       "3      {'annotations': [{'start': 202, 'end': 227, 'p...   \n",
       "4      {'hashtags': [{'start': 17, 'end': 26, 'tag': ...   \n",
       "...                                                  ...   \n",
       "11960  {'hashtags': [{'start': 93, 'end': 96, 'tag': ...   \n",
       "11961  {'urls': [{'start': 85, 'end': 105, 'url': 'ht...   \n",
       "11962  {'hashtags': [{'start': 53, 'end': 56, 'tag': ...   \n",
       "11963  {'urls': [{'start': 115, 'end': 135, 'url': 'h...   \n",
       "11964  {'hashtags': [{'start': 127, 'end': 138, 'tag'...   \n",
       "\n",
       "                                          public_metrics union name  \\\n",
       "0      {'retweet_count': 76, 'reply_count': 5, 'like_...   NEAToday   \n",
       "1      {'retweet_count': 3, 'reply_count': 1, 'like_c...   NEAToday   \n",
       "2      {'retweet_count': 6, 'reply_count': 1, 'like_c...   NEAToday   \n",
       "3      {'retweet_count': 15, 'reply_count': 4, 'like_...   NEAToday   \n",
       "4      {'retweet_count': 15, 'reply_count': 2, 'like_...   NEAToday   \n",
       "...                                                  ...        ...   \n",
       "11960  {'retweet_count': 1, 'reply_count': 0, 'like_c...   unithere   \n",
       "11961  {'retweet_count': 1, 'reply_count': 0, 'like_c...   unithere   \n",
       "11962  {'retweet_count': 0, 'reply_count': 0, 'like_c...   unithere   \n",
       "11963  {'retweet_count': 1, 'reply_count': 0, 'like_c...   unithere   \n",
       "11964  {'retweet_count': 0, 'reply_count': 0, 'like_c...   unithere   \n",
       "\n",
       "                                              clean_text  \\\n",
       "0      every student america black brown white native...   \n",
       "1      far education advocates clear role addressing ...   \n",
       "2      educators management come together using susta...   \n",
       "3      mental health students top priority school com...   \n",
       "4      one way honor introduce students girls green w...   \n",
       "...                                                  ...   \n",
       "11960  unite local missoula wants promise good jobs e...   \n",
       "11961                      years osha kids working mines   \n",
       "11962     woo new contract ratified consol energy center   \n",
       "11963  regional director shawn bagley cop hes cop jus...   \n",
       "11964  points health safety critical issues many peop...   \n",
       "\n",
       "                                         clean_text_list  \n",
       "0      [every, student, america, black, brown, white,...  \n",
       "1      [far, education, advocates, clear, role, addre...  \n",
       "2      [educators, management, come, together, using,...  \n",
       "3      [mental, health, students, top, priority, scho...  \n",
       "4      [one, way, honor, introduce, students, girls, ...  \n",
       "...                                                  ...  \n",
       "11960  [unite, local, missoula, wants, promise, good,...  \n",
       "11961                [years, osha, kids, working, mines]  \n",
       "11962  [woo, new, contract, ratified, consol, energy,...  \n",
       "11963  [regional, director, shawn, bagley, cop, hes, ...  \n",
       "11964  [points, health, safety, critical, issues, man...  \n",
       "\n",
       "[11965 rows x 8 columns]"
      ]
     },
     "execution_count": 23,
     "metadata": {},
     "output_type": "execute_result"
    }
   ],
   "source": [
    "df"
   ]
  },
  {
   "cell_type": "code",
   "execution_count": 24,
   "id": "90b275f9",
   "metadata": {},
   "outputs": [
    {
     "name": "stderr",
     "output_type": "stream",
     "text": [
      "/Users/jeffreypan/opt/anaconda3/lib/python3.8/site-packages/ipykernel/ipkernel.py:287: DeprecationWarning: `should_run_async` will not call `transform_cell` automatically in the future. Please pass the result to `transformed_cell` argument and any exception that happen during thetransform in `preprocessing_exc_tuple` in IPython 7.17 and above.\n",
      "  and should_run_async(code)\n"
     ]
    }
   ],
   "source": [
    "# save dataframe\n",
    "df.to_csv('All Tweets Twitter Cleaned Text.csv')"
   ]
  },
  {
   "cell_type": "code",
   "execution_count": 38,
   "id": "7d8de6f2",
   "metadata": {
    "scrolled": true
   },
   "outputs": [
    {
     "name": "stderr",
     "output_type": "stream",
     "text": [
      "/Users/jeffreypan/opt/anaconda3/lib/python3.8/site-packages/ipykernel/ipkernel.py:287: DeprecationWarning: `should_run_async` will not call `transform_cell` automatically in the future. Please pass the result to `transformed_cell` argument and any exception that happen during thetransform in `preprocessing_exc_tuple` in IPython 7.17 and above.\n",
      "  and should_run_async(code)\n"
     ]
    }
   ],
   "source": [
    "df = pd.read_csv('All Tweets Twitter Cleaned Text.csv')"
   ]
  },
  {
   "cell_type": "code",
   "execution_count": 53,
   "id": "af448339",
   "metadata": {},
   "outputs": [
    {
     "name": "stderr",
     "output_type": "stream",
     "text": [
      "/Users/jeffreypan/opt/anaconda3/lib/python3.8/site-packages/ipykernel/ipkernel.py:287: DeprecationWarning: `should_run_async` will not call `transform_cell` automatically in the future. Please pass the result to `transformed_cell` argument and any exception that happen during thetransform in `preprocessing_exc_tuple` in IPython 7.17 and above.\n",
      "  and should_run_async(code)\n"
     ]
    }
   ],
   "source": [
    "def res(string_dict):\n",
    "    return ast.literal_eval(string_dict)\n",
    "\n",
    "# set the dictinary as a dictionary\n",
    "df['clean_text_list'] = df['clean_text_list'].apply(res)"
   ]
  },
  {
   "cell_type": "code",
   "execution_count": 54,
   "id": "1c46b285",
   "metadata": {
    "scrolled": true
   },
   "outputs": [
    {
     "name": "stderr",
     "output_type": "stream",
     "text": [
      "/Users/jeffreypan/opt/anaconda3/lib/python3.8/site-packages/ipykernel/ipkernel.py:287: DeprecationWarning: `should_run_async` will not call `transform_cell` automatically in the future. Please pass the result to `transformed_cell` argument and any exception that happen during thetransform in `preprocessing_exc_tuple` in IPython 7.17 and above.\n",
      "  and should_run_async(code)\n"
     ]
    },
    {
     "data": {
      "text/plain": [
       "0        [every, student, america, black, brown, white,...\n",
       "1        [far, education, advocates, clear, role, addre...\n",
       "2        [educators, management, come, together, using,...\n",
       "3        [mental, health, students, top, priority, scho...\n",
       "4        [one, way, honor, introduce, students, girls, ...\n",
       "                               ...                        \n",
       "11960    [unite, local, missoula, wants, promise, good,...\n",
       "11961                  [years, osha, kids, working, mines]\n",
       "11962    [woo, new, contract, ratified, consol, energy,...\n",
       "11963    [regional, director, shawn, bagley, cop, hes, ...\n",
       "11964    [points, health, safety, critical, issues, man...\n",
       "Name: clean_text_list, Length: 11965, dtype: object"
      ]
     },
     "execution_count": 54,
     "metadata": {},
     "output_type": "execute_result"
    }
   ],
   "source": [
    "# initialize words\n",
    "words = df['clean_text_list']\n",
    "\n",
    "words"
   ]
  },
  {
   "cell_type": "code",
   "execution_count": 55,
   "id": "11d04c9e",
   "metadata": {},
   "outputs": [
    {
     "name": "stderr",
     "output_type": "stream",
     "text": [
      "/Users/jeffreypan/opt/anaconda3/lib/python3.8/site-packages/ipykernel/ipkernel.py:287: DeprecationWarning: `should_run_async` will not call `transform_cell` automatically in the future. Please pass the result to `transformed_cell` argument and any exception that happen during thetransform in `preprocessing_exc_tuple` in IPython 7.17 and above.\n",
      "  and should_run_async(code)\n"
     ]
    },
    {
     "name": "stdout",
     "output_type": "stream",
     "text": [
      "0           [read]\n",
      "1    [reply, care]\n",
      "2        [respect]\n",
      "dtype: object\n"
     ]
    }
   ],
   "source": [
    "import pandas as pd\n",
    "\n",
    "# Create a sample Series with lists\n",
    "my_series = pd.Series([['read', 're'], ['reply', 'care'], ['respect', 're']])\n",
    "\n",
    "# Define the remove_re function to remove a specified bad string from all lists\n",
    "def remove_string(lst, bad_string):\n",
    "    return [s for s in lst if s != bad_string]\n",
    "\n",
    "def remove_bad_string(series, bad_string):\n",
    "    return series.apply(lambda lst: remove_string(lst, bad_string))\n",
    "\n",
    "# Apply the remove_bad_string function to the Series\n",
    "my_series = remove_bad_string(my_series, 're')\n",
    "\n",
    "# Print the modified Series\n",
    "print(my_series)\n",
    "\n",
    "words = remove_bad_string(words, 're')\n",
    "words = remove_bad_string(words, 'll')\n",
    "words = remove_bad_string(words, 't')\n",
    "words = remove_bad_string(words, 'b')\n",
    "words = remove_bad_string(words, 'yrs')\n",
    "words = remove_bad_string(words, 'w')\n",
    "words = remove_bad_string(words, 'u')\n",
    "words = remove_bad_string(words, 'wi')"
   ]
  },
  {
   "cell_type": "code",
   "execution_count": 56,
   "id": "da5ed72e",
   "metadata": {
    "scrolled": true
   },
   "outputs": [
    {
     "name": "stderr",
     "output_type": "stream",
     "text": [
      "/Users/jeffreypan/opt/anaconda3/lib/python3.8/site-packages/ipykernel/ipkernel.py:287: DeprecationWarning: `should_run_async` will not call `transform_cell` automatically in the future. Please pass the result to `transformed_cell` argument and any exception that happen during thetransform in `preprocessing_exc_tuple` in IPython 7.17 and above.\n",
      "  and should_run_async(code)\n"
     ]
    },
    {
     "data": {
      "text/plain": [
       "pandas.core.series.Series"
      ]
     },
     "execution_count": 56,
     "metadata": {},
     "output_type": "execute_result"
    }
   ],
   "source": [
    "type(words)"
   ]
  },
  {
   "cell_type": "code",
   "execution_count": 57,
   "id": "5ff97ac4",
   "metadata": {},
   "outputs": [
    {
     "name": "stderr",
     "output_type": "stream",
     "text": [
      "/Users/jeffreypan/opt/anaconda3/lib/python3.8/site-packages/ipykernel/ipkernel.py:287: DeprecationWarning: `should_run_async` will not call `transform_cell` automatically in the future. Please pass the result to `transformed_cell` argument and any exception that happen during thetransform in `preprocessing_exc_tuple` in IPython 7.17 and above.\n",
      "  and should_run_async(code)\n"
     ]
    },
    {
     "data": {
      "text/plain": [
       "['every',\n",
       " 'student',\n",
       " 'america',\n",
       " 'black',\n",
       " 'brown',\n",
       " 'white',\n",
       " 'native',\n",
       " 'newcomer',\n",
       " 'deserves',\n",
       " 'welcoming',\n",
       " 'safe',\n",
       " 'learning',\n",
       " 'environment',\n",
       " 'free',\n",
       " 'fear',\n",
       " 'gun',\n",
       " 'violence',\n",
       " 'school',\n",
       " 'community']"
      ]
     },
     "execution_count": 57,
     "metadata": {},
     "output_type": "execute_result"
    }
   ],
   "source": [
    "words[0]"
   ]
  },
  {
   "cell_type": "code",
   "execution_count": null,
   "id": "fd9f0f75",
   "metadata": {
    "scrolled": false
   },
   "outputs": [
    {
     "name": "stderr",
     "output_type": "stream",
     "text": [
      "/Users/jeffreypan/opt/anaconda3/lib/python3.8/site-packages/ipykernel/ipkernel.py:287: DeprecationWarning: `should_run_async` will not call `transform_cell` automatically in the future. Please pass the result to `transformed_cell` argument and any exception that happen during thetransform in `preprocessing_exc_tuple` in IPython 7.17 and above.\n",
      "  and should_run_async(code)\n"
     ]
    }
   ],
   "source": [
    "import gensim\n",
    "from gensim import corpora\n",
    "import pyLDAvis.gensim_models as gensimvis\n",
    "import pyLDAvis\n",
    "\n",
    "dictionary = corpora.Dictionary(words)\n",
    "corpus = [dictionary.doc2bow(word) for word in words]\n",
    "\n",
    "# define the number of topics to identify\n",
    "num_topics = 7\n",
    "\n",
    "\n",
    "# build the LDA model\n",
    "lda_model = gensim.models.LdaModel(corpus=corpus,\n",
    "                                   id2word=dictionary,\n",
    "                                   num_topics=num_topics,\n",
    "                                   random_state=100,\n",
    "                                   update_every=1,\n",
    "                                   chunksize=10,\n",
    "                                   passes=10,\n",
    "                                   alpha='auto',\n",
    "                                   per_word_topics=True)\n",
    "\n",
    "# visualize the topics using pyLDAvis\n",
    "vis_data = gensimvis.prepare(lda_model, corpus, dictionary)\n",
    "pyLDAvis.display(vis_data)\n",
    "\n",
    "# print the top words for each topic\n",
    "for topic in lda_model.print_topics():\n",
    "    print(topic)"
   ]
  },
  {
   "cell_type": "code",
   "execution_count": null,
   "id": "e068d317",
   "metadata": {},
   "outputs": [],
   "source": [
    "from gensim.models import CoherenceModel"
   ]
  },
  {
   "cell_type": "markdown",
   "id": "e013b420",
   "metadata": {},
   "source": [
    "# Analyzing the model"
   ]
  },
  {
   "cell_type": "code",
   "execution_count": null,
   "id": "0263290d",
   "metadata": {
    "scrolled": false
   },
   "outputs": [],
   "source": [
    "# Compute Perplexity\n",
    "print('\\nPerplexity: ', lda_model.log_perplexity(corpus))  \n",
    "# a measure of how good the model is. lower the better.\n",
    "\n",
    "# Compute Coherence Score\n",
    "coherence_model_lda = CoherenceModel(model=lda_model, texts=words, dictionary=dictionary, coherence='c_v')\n",
    "coherence_lda = coherence_model_lda.get_coherence()\n",
    "print('\\nCoherence Score: ', coherence_lda)"
   ]
  },
  {
   "cell_type": "markdown",
   "id": "26045aaf",
   "metadata": {},
   "source": [
    "for number_topics in range(4,11):\n",
    "    \n",
    "    print('number of topics: ',number_topics)\n",
    "\n",
    "    lda_model = gensim.models.LdaModel(corpus=corpus,\n",
    "                                       id2word=dictionary,\n",
    "                                       num_topics=number_topics,\n",
    "                                       random_state=100,\n",
    "                                       update_every=1,\n",
    "                                       chunksize=10,\n",
    "                                       passes=10,\n",
    "                                       alpha='auto',\n",
    "                                       per_word_topics=True)\n",
    "\n",
    "    # Compute Perplexity\n",
    "    print('\\nPerplexity: ', lda_model.log_perplexity(corpus))  \n",
    "    # a measure of how good the model is. lower the better.\n",
    "\n",
    "\n",
    "    # Compute Coherence Score\n",
    "    coherence_model_lda = CoherenceModel(model=lda_model, texts=words, dictionary=dictionary, coherence='c_v')\n",
    "    coherence_lda = coherence_model_lda.get_coherence()\n",
    "    print('\\nCoherence Score: ', coherence_lda)"
   ]
  },
  {
   "cell_type": "code",
   "execution_count": null,
   "id": "4c41e073",
   "metadata": {},
   "outputs": [],
   "source": [
    "# num topics of 7 is best"
   ]
  },
  {
   "cell_type": "code",
   "execution_count": null,
   "id": "2f63d264",
   "metadata": {
    "scrolled": true
   },
   "outputs": [],
   "source": [
    "pyLDAvis.display(vis_data)"
   ]
  },
  {
   "cell_type": "markdown",
   "id": "85a558f1",
   "metadata": {},
   "source": [
    "## Analysis\n",
    "\n",
    "Topic 0: This topic seems to be related to coal mining and energy production. Words like \"coal\", \"miners\", \"energy\", and \"water\" suggest that the discussion may be about the environmental impact of coal mining and the need for alternative sources of energy.\n",
    "\n",
    "Topic 1: This topic seems to be related to sustainability and environmental justice. Words like \"sustainability\", \"environmental\", \"justice\", and \"state\" suggest that the discussion may be about promoting sustainable practices and addressing environmental inequalities.\n",
    "\n",
    "Topic 2: This topic seems to be related to sustainable jobs and climate change. Words like \"sustainable\", \"jobs\", \"climate\", and \"need\" suggest that the discussion may be about creating job opportunities that are both sustainable and contribute to addressing climate change.\n",
    "\n",
    "Topic 3: This topic seems to be related to the impact of climate change on workers and unions. Words like \"union\", \"members\", \"hurricane\", and \"power\" suggest that the discussion may be about the need for unions to address the impact of climate change on workers and their communities.\n",
    "\n",
    "Topic 4: This topic seems to be related to supporting programs that protect workers. Words like \"program\", \"housekeepers\", \"support\", and \"protect\" suggest that the discussion may be about advocating for programs that support and protect workers, particularly those in low-wage jobs.\n",
    "\n",
    "Topic 5: This topic seems to be related to labor and food justice. Words like \"food\", \"labor\", \"job\", and \"strike\" suggest that the discussion may be about promoting fair labor practices in the food industry and advocating for food justice.\n",
    "\n",
    "Topic 6: This topic seems to be related to promoting a green economy and workplace safety. Words like \"green\", \"safety\", \"health\", and \"unions\" suggest that the discussion may be about promoting a sustainable and safe workplace environment.\n",
    "\n",
    "\n",
    "\n",
    "\n"
   ]
  },
  {
   "cell_type": "code",
   "execution_count": null,
   "id": "c81d2ae5",
   "metadata": {},
   "outputs": [],
   "source": []
  }
 ],
 "metadata": {
  "kernelspec": {
   "display_name": "Python 3",
   "language": "python",
   "name": "python3"
  },
  "language_info": {
   "codemirror_mode": {
    "name": "ipython",
    "version": 3
   },
   "file_extension": ".py",
   "mimetype": "text/x-python",
   "name": "python",
   "nbconvert_exporter": "python",
   "pygments_lexer": "ipython3",
   "version": "3.8.8"
  }
 },
 "nbformat": 4,
 "nbformat_minor": 5
}
