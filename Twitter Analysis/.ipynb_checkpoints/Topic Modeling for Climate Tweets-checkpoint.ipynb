{
 "cells": [
  {
   "cell_type": "code",
   "execution_count": 1,
   "id": "a45cd6f8",
   "metadata": {
    "scrolled": true
   },
   "outputs": [
    {
     "name": "stdout",
     "output_type": "stream",
     "text": [
      "Requirement already satisfied: gensim in /Users/jeffreypan/opt/anaconda3/lib/python3.8/site-packages (4.3.0)\n",
      "Requirement already satisfied: scipy>=1.7.0 in /Users/jeffreypan/opt/anaconda3/lib/python3.8/site-packages (from gensim) (1.10.1)\n",
      "Requirement already satisfied: FuzzyTM>=0.4.0 in /Users/jeffreypan/opt/anaconda3/lib/python3.8/site-packages (from gensim) (2.0.5)\n",
      "Requirement already satisfied: numpy>=1.18.5 in /Users/jeffreypan/opt/anaconda3/lib/python3.8/site-packages (from gensim) (1.22.4)\n",
      "Requirement already satisfied: smart-open>=1.8.1 in /Users/jeffreypan/opt/anaconda3/lib/python3.8/site-packages (from gensim) (6.3.0)\n",
      "Requirement already satisfied: pyfume in /Users/jeffreypan/opt/anaconda3/lib/python3.8/site-packages (from FuzzyTM>=0.4.0->gensim) (0.2.25)\n",
      "Requirement already satisfied: pandas in /Users/jeffreypan/opt/anaconda3/lib/python3.8/site-packages (from FuzzyTM>=0.4.0->gensim) (1.5.3)\n",
      "Requirement already satisfied: python-dateutil>=2.8.1 in /Users/jeffreypan/opt/anaconda3/lib/python3.8/site-packages (from pandas->FuzzyTM>=0.4.0->gensim) (2.8.1)\n",
      "Requirement already satisfied: pytz>=2020.1 in /Users/jeffreypan/opt/anaconda3/lib/python3.8/site-packages (from pandas->FuzzyTM>=0.4.0->gensim) (2021.1)\n",
      "Requirement already satisfied: simpful in /Users/jeffreypan/opt/anaconda3/lib/python3.8/site-packages (from pyfume->FuzzyTM>=0.4.0->gensim) (2.10.0)\n",
      "Requirement already satisfied: fst-pso in /Users/jeffreypan/opt/anaconda3/lib/python3.8/site-packages (from pyfume->FuzzyTM>=0.4.0->gensim) (1.8.1)\n",
      "Requirement already satisfied: six>=1.5 in /Users/jeffreypan/opt/anaconda3/lib/python3.8/site-packages (from python-dateutil>=2.8.1->pandas->FuzzyTM>=0.4.0->gensim) (1.15.0)\n",
      "Requirement already satisfied: miniful in /Users/jeffreypan/opt/anaconda3/lib/python3.8/site-packages (from fst-pso->pyfume->FuzzyTM>=0.4.0->gensim) (0.0.6)\n",
      "Requirement already satisfied: requests in /Users/jeffreypan/opt/anaconda3/lib/python3.8/site-packages (from simpful->pyfume->FuzzyTM>=0.4.0->gensim) (2.28.1)\n",
      "Requirement already satisfied: urllib3<1.27,>=1.21.1 in /Users/jeffreypan/opt/anaconda3/lib/python3.8/site-packages (from requests->simpful->pyfume->FuzzyTM>=0.4.0->gensim) (1.26.4)\n",
      "Requirement already satisfied: idna<4,>=2.5 in /Users/jeffreypan/opt/anaconda3/lib/python3.8/site-packages (from requests->simpful->pyfume->FuzzyTM>=0.4.0->gensim) (2.10)\n",
      "Requirement already satisfied: charset-normalizer<3,>=2 in /Users/jeffreypan/opt/anaconda3/lib/python3.8/site-packages (from requests->simpful->pyfume->FuzzyTM>=0.4.0->gensim) (2.1.1)\n",
      "Requirement already satisfied: certifi>=2017.4.17 in /Users/jeffreypan/opt/anaconda3/lib/python3.8/site-packages (from requests->simpful->pyfume->FuzzyTM>=0.4.0->gensim) (2022.12.7)\n",
      "Note: you may need to restart the kernel to use updated packages.\n"
     ]
    }
   ],
   "source": [
    "pip install gensim"
   ]
  },
  {
   "cell_type": "code",
   "execution_count": 2,
   "id": "8bd84af6",
   "metadata": {
    "scrolled": true
   },
   "outputs": [
    {
     "name": "stdout",
     "output_type": "stream",
     "text": [
      "Requirement already satisfied: pyLDAvis in /Users/jeffreypan/opt/anaconda3/lib/python3.8/site-packages (3.4.0)\n",
      "Requirement already satisfied: jinja2 in /Users/jeffreypan/opt/anaconda3/lib/python3.8/site-packages (from pyLDAvis) (2.11.3)\n",
      "Requirement already satisfied: funcy in /Users/jeffreypan/opt/anaconda3/lib/python3.8/site-packages (from pyLDAvis) (1.18)\n",
      "Requirement already satisfied: numpy>=1.22.0 in /Users/jeffreypan/opt/anaconda3/lib/python3.8/site-packages (from pyLDAvis) (1.22.4)\n",
      "Requirement already satisfied: numexpr in /Users/jeffreypan/opt/anaconda3/lib/python3.8/site-packages (from pyLDAvis) (2.7.3)\n",
      "Requirement already satisfied: scipy in /Users/jeffreypan/opt/anaconda3/lib/python3.8/site-packages (from pyLDAvis) (1.10.1)\n",
      "Requirement already satisfied: pandas>=1.3.4 in /Users/jeffreypan/opt/anaconda3/lib/python3.8/site-packages (from pyLDAvis) (1.5.3)\n",
      "Requirement already satisfied: scikit-learn>=1.0.0 in /Users/jeffreypan/opt/anaconda3/lib/python3.8/site-packages (from pyLDAvis) (1.1.2)\n",
      "Requirement already satisfied: setuptools in /Users/jeffreypan/opt/anaconda3/lib/python3.8/site-packages (from pyLDAvis) (67.4.0)\n",
      "Requirement already satisfied: gensim in /Users/jeffreypan/opt/anaconda3/lib/python3.8/site-packages (from pyLDAvis) (4.3.0)\n",
      "Requirement already satisfied: joblib>=1.2.0 in /Users/jeffreypan/opt/anaconda3/lib/python3.8/site-packages (from pyLDAvis) (1.2.0)\n",
      "Requirement already satisfied: python-dateutil>=2.8.1 in /Users/jeffreypan/opt/anaconda3/lib/python3.8/site-packages (from pandas>=1.3.4->pyLDAvis) (2.8.1)\n",
      "Requirement already satisfied: pytz>=2020.1 in /Users/jeffreypan/opt/anaconda3/lib/python3.8/site-packages (from pandas>=1.3.4->pyLDAvis) (2021.1)\n",
      "Requirement already satisfied: threadpoolctl>=2.0.0 in /Users/jeffreypan/opt/anaconda3/lib/python3.8/site-packages (from scikit-learn>=1.0.0->pyLDAvis) (2.1.0)\n",
      "Requirement already satisfied: FuzzyTM>=0.4.0 in /Users/jeffreypan/opt/anaconda3/lib/python3.8/site-packages (from gensim->pyLDAvis) (2.0.5)\n",
      "Requirement already satisfied: smart-open>=1.8.1 in /Users/jeffreypan/opt/anaconda3/lib/python3.8/site-packages (from gensim->pyLDAvis) (6.3.0)\n",
      "Requirement already satisfied: MarkupSafe>=0.23 in /Users/jeffreypan/opt/anaconda3/lib/python3.8/site-packages (from jinja2->pyLDAvis) (1.1.1)\n",
      "Requirement already satisfied: pyfume in /Users/jeffreypan/opt/anaconda3/lib/python3.8/site-packages (from FuzzyTM>=0.4.0->gensim->pyLDAvis) (0.2.25)\n",
      "Requirement already satisfied: six>=1.5 in /Users/jeffreypan/opt/anaconda3/lib/python3.8/site-packages (from python-dateutil>=2.8.1->pandas>=1.3.4->pyLDAvis) (1.15.0)\n",
      "Requirement already satisfied: simpful in /Users/jeffreypan/opt/anaconda3/lib/python3.8/site-packages (from pyfume->FuzzyTM>=0.4.0->gensim->pyLDAvis) (2.10.0)\n",
      "Requirement already satisfied: fst-pso in /Users/jeffreypan/opt/anaconda3/lib/python3.8/site-packages (from pyfume->FuzzyTM>=0.4.0->gensim->pyLDAvis) (1.8.1)\n",
      "Requirement already satisfied: miniful in /Users/jeffreypan/opt/anaconda3/lib/python3.8/site-packages (from fst-pso->pyfume->FuzzyTM>=0.4.0->gensim->pyLDAvis) (0.0.6)\n",
      "Requirement already satisfied: requests in /Users/jeffreypan/opt/anaconda3/lib/python3.8/site-packages (from simpful->pyfume->FuzzyTM>=0.4.0->gensim->pyLDAvis) (2.28.1)\n",
      "Requirement already satisfied: idna<4,>=2.5 in /Users/jeffreypan/opt/anaconda3/lib/python3.8/site-packages (from requests->simpful->pyfume->FuzzyTM>=0.4.0->gensim->pyLDAvis) (2.10)\n",
      "Requirement already satisfied: charset-normalizer<3,>=2 in /Users/jeffreypan/opt/anaconda3/lib/python3.8/site-packages (from requests->simpful->pyfume->FuzzyTM>=0.4.0->gensim->pyLDAvis) (2.1.1)\n",
      "Requirement already satisfied: certifi>=2017.4.17 in /Users/jeffreypan/opt/anaconda3/lib/python3.8/site-packages (from requests->simpful->pyfume->FuzzyTM>=0.4.0->gensim->pyLDAvis) (2022.12.7)\n",
      "Requirement already satisfied: urllib3<1.27,>=1.21.1 in /Users/jeffreypan/opt/anaconda3/lib/python3.8/site-packages (from requests->simpful->pyfume->FuzzyTM>=0.4.0->gensim->pyLDAvis) (1.26.4)\n",
      "Note: you may need to restart the kernel to use updated packages.\n"
     ]
    }
   ],
   "source": [
    "pip install pyLDAvis"
   ]
  },
  {
   "cell_type": "code",
   "execution_count": 3,
   "id": "833b1ba0",
   "metadata": {},
   "outputs": [],
   "source": [
    "import pandas as pd\n",
    "import numpy as np\n",
    "import ast"
   ]
  },
  {
   "cell_type": "code",
   "execution_count": 4,
   "id": "619887f4",
   "metadata": {},
   "outputs": [],
   "source": [
    "df = pd.read_csv('Twitter Cleaned Text.csv')"
   ]
  },
  {
   "cell_type": "code",
   "execution_count": 5,
   "id": "c1f60bef",
   "metadata": {
    "scrolled": false
   },
   "outputs": [
    {
     "data": {
      "text/html": [
       "<div>\n",
       "<style scoped>\n",
       "    .dataframe tbody tr th:only-of-type {\n",
       "        vertical-align: middle;\n",
       "    }\n",
       "\n",
       "    .dataframe tbody tr th {\n",
       "        vertical-align: top;\n",
       "    }\n",
       "\n",
       "    .dataframe thead th {\n",
       "        text-align: right;\n",
       "    }\n",
       "</style>\n",
       "<table border=\"1\" class=\"dataframe\">\n",
       "  <thead>\n",
       "    <tr style=\"text-align: right;\">\n",
       "      <th></th>\n",
       "      <th>Unnamed: 0</th>\n",
       "      <th>index</th>\n",
       "      <th>Time</th>\n",
       "      <th>Text</th>\n",
       "      <th>Entities</th>\n",
       "      <th>Public Metrics</th>\n",
       "      <th>Union</th>\n",
       "      <th>clean_text</th>\n",
       "      <th>word_count</th>\n",
       "      <th>tweet_len</th>\n",
       "      <th>clean_text_list</th>\n",
       "    </tr>\n",
       "  </thead>\n",
       "  <tbody>\n",
       "    <tr>\n",
       "      <th>0</th>\n",
       "      <td>0</td>\n",
       "      <td>0</td>\n",
       "      <td>2020-10-09T21:24:36.000Z</td>\n",
       "      <td>These members of Congress are standing up and ...</td>\n",
       "      <td>{'urls': [{'start': 110, 'end': 133, 'url': 'h...</td>\n",
       "      <td>{'retweet_count': 3, 'reply_count': 0, 'like_c...</td>\n",
       "      <td>AFGENational</td>\n",
       "      <td>members congress standing demanding halt reope...</td>\n",
       "      <td>10</td>\n",
       "      <td>76</td>\n",
       "      <td>['members', 'congress', 'standing', 'demanding...</td>\n",
       "    </tr>\n",
       "    <tr>\n",
       "      <th>1</th>\n",
       "      <td>1</td>\n",
       "      <td>1</td>\n",
       "      <td>2022-06-22T17:38:01.000Z</td>\n",
       "      <td>EPA lab work in Houston is suffering as plans ...</td>\n",
       "      <td>{'hashtags': [{'start': 84, 'end': 87, 'tag': ...</td>\n",
       "      <td>{'retweet_count': 0, 'reply_count': 0, 'like_c...</td>\n",
       "      <td>AFGENational</td>\n",
       "      <td>epa lab work houston suffering plans relocate ...</td>\n",
       "      <td>9</td>\n",
       "      <td>63</td>\n",
       "      <td>['epa', 'lab', 'work', 'houston', 'suffering',...</td>\n",
       "    </tr>\n",
       "    <tr>\n",
       "      <th>2</th>\n",
       "      <td>2</td>\n",
       "      <td>2</td>\n",
       "      <td>2022-06-16T19:41:01.000Z</td>\n",
       "      <td>Learn more about the EPA Council's upcoming co...</td>\n",
       "      <td>{'urls': [{'start': 63, 'end': 86, 'url': 'htt...</td>\n",
       "      <td>{'retweet_count': 1, 'reply_count': 0, 'like_c...</td>\n",
       "      <td>AFGENational</td>\n",
       "      <td>learn epa councils upcoming contract campaign</td>\n",
       "      <td>6</td>\n",
       "      <td>45</td>\n",
       "      <td>['learn', 'epa', 'councils', 'upcoming', 'cont...</td>\n",
       "    </tr>\n",
       "    <tr>\n",
       "      <th>3</th>\n",
       "      <td>3</td>\n",
       "      <td>3</td>\n",
       "      <td>2022-06-10T19:14:01.000Z</td>\n",
       "      <td>AFGE EPA members are gearing up for contract n...</td>\n",
       "      <td>{'hashtags': [{'start': 114, 'end': 117, 'tag'...</td>\n",
       "      <td>{'retweet_count': 2, 'reply_count': 0, 'like_c...</td>\n",
       "      <td>AFGENational</td>\n",
       "      <td>afge epa members gearing contract negotiations...</td>\n",
       "      <td>9</td>\n",
       "      <td>62</td>\n",
       "      <td>['afge', 'epa', 'members', 'gearing', 'contrac...</td>\n",
       "    </tr>\n",
       "    <tr>\n",
       "      <th>4</th>\n",
       "      <td>4</td>\n",
       "      <td>4</td>\n",
       "      <td>2022-04-25T18:05:03.000Z</td>\n",
       "      <td>AFGE EPA leaders are pushing for a clause in t...</td>\n",
       "      <td>{'hashtags': [{'start': 131, 'end': 134, 'tag'...</td>\n",
       "      <td>{'retweet_count': 2, 'reply_count': 0, 'like_c...</td>\n",
       "      <td>AFGENational</td>\n",
       "      <td>afge epa leaders pushing clause union contract...</td>\n",
       "      <td>12</td>\n",
       "      <td>97</td>\n",
       "      <td>['afge', 'epa', 'leaders', 'pushing', 'clause'...</td>\n",
       "    </tr>\n",
       "    <tr>\n",
       "      <th>...</th>\n",
       "      <td>...</td>\n",
       "      <td>...</td>\n",
       "      <td>...</td>\n",
       "      <td>...</td>\n",
       "      <td>...</td>\n",
       "      <td>...</td>\n",
       "      <td>...</td>\n",
       "      <td>...</td>\n",
       "      <td>...</td>\n",
       "      <td>...</td>\n",
       "      <td>...</td>\n",
       "    </tr>\n",
       "    <tr>\n",
       "      <th>8319</th>\n",
       "      <td>8319</td>\n",
       "      <td>8319</td>\n",
       "      <td>2012-03-06T21:50:04.000Z</td>\n",
       "      <td>100 years before OSHA - these kids were workin...</td>\n",
       "      <td>{'urls': [{'start': 85, 'end': 105, 'url': 'ht...</td>\n",
       "      <td>{'retweet_count': 1, 'reply_count': 0, 'like_c...</td>\n",
       "      <td>unithere</td>\n",
       "      <td>years osha kids working mines</td>\n",
       "      <td>5</td>\n",
       "      <td>29</td>\n",
       "      <td>['years', 'osha', 'kids', 'working', 'mines']</td>\n",
       "    </tr>\n",
       "    <tr>\n",
       "      <th>8320</th>\n",
       "      <td>8320</td>\n",
       "      <td>8320</td>\n",
       "      <td>2012-02-27T21:35:06.000Z</td>\n",
       "      <td>WOO!  New Contract Ratified at Consol Energy C...</td>\n",
       "      <td>{'hashtags': [{'start': 53, 'end': 56, 'tag': ...</td>\n",
       "      <td>{'retweet_count': 0, 'reply_count': 0, 'like_c...</td>\n",
       "      <td>unithere</td>\n",
       "      <td>woo new contract ratified consol energy center</td>\n",
       "      <td>7</td>\n",
       "      <td>46</td>\n",
       "      <td>['woo', 'new', 'contract', 'ratified', 'consol...</td>\n",
       "    </tr>\n",
       "    <tr>\n",
       "      <th>8321</th>\n",
       "      <td>8321</td>\n",
       "      <td>8321</td>\n",
       "      <td>2022-08-08T21:08:55.000Z</td>\n",
       "      <td>UNITE HERE Statement on Inflation Reduction Ac...</td>\n",
       "      <td>{'annotations': [{'start': 256, 'end': 269, 'p...</td>\n",
       "      <td>{'retweet_count': 17, 'reply_count': 3, 'like_...</td>\n",
       "      <td>unithere</td>\n",
       "      <td>unite statement inflation reduction act need b...</td>\n",
       "      <td>24</td>\n",
       "      <td>187</td>\n",
       "      <td>['unite', 'statement', 'inflation', 'reduction...</td>\n",
       "    </tr>\n",
       "    <tr>\n",
       "      <th>8322</th>\n",
       "      <td>8322</td>\n",
       "      <td>8322</td>\n",
       "      <td>2022-08-07T20:31:38.000Z</td>\n",
       "      <td>This historic bill will cut energy costs, inve...</td>\n",
       "      <td>{'urls': [{'start': 163, 'end': 186, 'url': 'h...</td>\n",
       "      <td>{'retweet_count': 11, 'reply_count': 0, 'like_...</td>\n",
       "      <td>UAPipeTrades</td>\n",
       "      <td>historic bill cut energy costs invest new emer...</td>\n",
       "      <td>17</td>\n",
       "      <td>123</td>\n",
       "      <td>['historic', 'bill', 'cut', 'energy', 'costs',...</td>\n",
       "    </tr>\n",
       "    <tr>\n",
       "      <th>8323</th>\n",
       "      <td>8323</td>\n",
       "      <td>8323</td>\n",
       "      <td>2022-08-12T21:41:30.000Z</td>\n",
       "      <td>With strong labor protections, the Inflation R...</td>\n",
       "      <td>{'annotations': [{'start': 35, 'end': 57, 'pro...</td>\n",
       "      <td>{'retweet_count': 8, 'reply_count': 2, 'like_c...</td>\n",
       "      <td>UAPipeTrades</td>\n",
       "      <td>strong labor protections inflation reduction a...</td>\n",
       "      <td>27</td>\n",
       "      <td>198</td>\n",
       "      <td>['strong', 'labor', 'protections', 'inflation'...</td>\n",
       "    </tr>\n",
       "  </tbody>\n",
       "</table>\n",
       "<p>8324 rows × 11 columns</p>\n",
       "</div>"
      ],
      "text/plain": [
       "      Unnamed: 0  index                      Time  \\\n",
       "0              0      0  2020-10-09T21:24:36.000Z   \n",
       "1              1      1  2022-06-22T17:38:01.000Z   \n",
       "2              2      2  2022-06-16T19:41:01.000Z   \n",
       "3              3      3  2022-06-10T19:14:01.000Z   \n",
       "4              4      4  2022-04-25T18:05:03.000Z   \n",
       "...          ...    ...                       ...   \n",
       "8319        8319   8319  2012-03-06T21:50:04.000Z   \n",
       "8320        8320   8320  2012-02-27T21:35:06.000Z   \n",
       "8321        8321   8321  2022-08-08T21:08:55.000Z   \n",
       "8322        8322   8322  2022-08-07T20:31:38.000Z   \n",
       "8323        8323   8323  2022-08-12T21:41:30.000Z   \n",
       "\n",
       "                                                   Text  \\\n",
       "0     These members of Congress are standing up and ...   \n",
       "1     EPA lab work in Houston is suffering as plans ...   \n",
       "2     Learn more about the EPA Council's upcoming co...   \n",
       "3     AFGE EPA members are gearing up for contract n...   \n",
       "4     AFGE EPA leaders are pushing for a clause in t...   \n",
       "...                                                 ...   \n",
       "8319  100 years before OSHA - these kids were workin...   \n",
       "8320  WOO!  New Contract Ratified at Consol Energy C...   \n",
       "8321  UNITE HERE Statement on Inflation Reduction Ac...   \n",
       "8322  This historic bill will cut energy costs, inve...   \n",
       "8323  With strong labor protections, the Inflation R...   \n",
       "\n",
       "                                               Entities  \\\n",
       "0     {'urls': [{'start': 110, 'end': 133, 'url': 'h...   \n",
       "1     {'hashtags': [{'start': 84, 'end': 87, 'tag': ...   \n",
       "2     {'urls': [{'start': 63, 'end': 86, 'url': 'htt...   \n",
       "3     {'hashtags': [{'start': 114, 'end': 117, 'tag'...   \n",
       "4     {'hashtags': [{'start': 131, 'end': 134, 'tag'...   \n",
       "...                                                 ...   \n",
       "8319  {'urls': [{'start': 85, 'end': 105, 'url': 'ht...   \n",
       "8320  {'hashtags': [{'start': 53, 'end': 56, 'tag': ...   \n",
       "8321  {'annotations': [{'start': 256, 'end': 269, 'p...   \n",
       "8322  {'urls': [{'start': 163, 'end': 186, 'url': 'h...   \n",
       "8323  {'annotations': [{'start': 35, 'end': 57, 'pro...   \n",
       "\n",
       "                                         Public Metrics         Union  \\\n",
       "0     {'retweet_count': 3, 'reply_count': 0, 'like_c...  AFGENational   \n",
       "1     {'retweet_count': 0, 'reply_count': 0, 'like_c...  AFGENational   \n",
       "2     {'retweet_count': 1, 'reply_count': 0, 'like_c...  AFGENational   \n",
       "3     {'retweet_count': 2, 'reply_count': 0, 'like_c...  AFGENational   \n",
       "4     {'retweet_count': 2, 'reply_count': 0, 'like_c...  AFGENational   \n",
       "...                                                 ...           ...   \n",
       "8319  {'retweet_count': 1, 'reply_count': 0, 'like_c...      unithere   \n",
       "8320  {'retweet_count': 0, 'reply_count': 0, 'like_c...      unithere   \n",
       "8321  {'retweet_count': 17, 'reply_count': 3, 'like_...      unithere   \n",
       "8322  {'retweet_count': 11, 'reply_count': 0, 'like_...  UAPipeTrades   \n",
       "8323  {'retweet_count': 8, 'reply_count': 2, 'like_c...  UAPipeTrades   \n",
       "\n",
       "                                             clean_text  word_count  \\\n",
       "0     members congress standing demanding halt reope...          10   \n",
       "1     epa lab work houston suffering plans relocate ...           9   \n",
       "2         learn epa councils upcoming contract campaign           6   \n",
       "3     afge epa members gearing contract negotiations...           9   \n",
       "4     afge epa leaders pushing clause union contract...          12   \n",
       "...                                                 ...         ...   \n",
       "8319                      years osha kids working mines           5   \n",
       "8320     woo new contract ratified consol energy center           7   \n",
       "8321  unite statement inflation reduction act need b...          24   \n",
       "8322  historic bill cut energy costs invest new emer...          17   \n",
       "8323  strong labor protections inflation reduction a...          27   \n",
       "\n",
       "      tweet_len                                    clean_text_list  \n",
       "0            76  ['members', 'congress', 'standing', 'demanding...  \n",
       "1            63  ['epa', 'lab', 'work', 'houston', 'suffering',...  \n",
       "2            45  ['learn', 'epa', 'councils', 'upcoming', 'cont...  \n",
       "3            62  ['afge', 'epa', 'members', 'gearing', 'contrac...  \n",
       "4            97  ['afge', 'epa', 'leaders', 'pushing', 'clause'...  \n",
       "...         ...                                                ...  \n",
       "8319         29      ['years', 'osha', 'kids', 'working', 'mines']  \n",
       "8320         46  ['woo', 'new', 'contract', 'ratified', 'consol...  \n",
       "8321        187  ['unite', 'statement', 'inflation', 'reduction...  \n",
       "8322        123  ['historic', 'bill', 'cut', 'energy', 'costs',...  \n",
       "8323        198  ['strong', 'labor', 'protections', 'inflation'...  \n",
       "\n",
       "[8324 rows x 11 columns]"
      ]
     },
     "execution_count": 5,
     "metadata": {},
     "output_type": "execute_result"
    }
   ],
   "source": [
    "df"
   ]
  },
  {
   "cell_type": "code",
   "execution_count": 16,
   "id": "735ae295",
   "metadata": {},
   "outputs": [
    {
     "name": "stderr",
     "output_type": "stream",
     "text": [
      "/Users/jeffreypan/opt/anaconda3/lib/python3.8/site-packages/ipykernel/ipkernel.py:287: DeprecationWarning: `should_run_async` will not call `transform_cell` automatically in the future. Please pass the result to `transformed_cell` argument and any exception that happen during thetransform in `preprocessing_exc_tuple` in IPython 7.17 and above.\n",
      "  and should_run_async(code)\n"
     ]
    }
   ],
   "source": [
    "# Converting string to list\n",
    "#res = ast.literal_eval(ini_list)\n",
    "\n",
    "def res(string_list):\n",
    "    return ast.literal_eval(string_list)\n",
    "\n",
    "df['clean_text_list'] = df['clean_text_list'].apply(res)"
   ]
  },
  {
   "cell_type": "code",
   "execution_count": 17,
   "id": "23a5a940",
   "metadata": {
    "scrolled": false
   },
   "outputs": [
    {
     "name": "stderr",
     "output_type": "stream",
     "text": [
      "/Users/jeffreypan/opt/anaconda3/lib/python3.8/site-packages/ipykernel/ipkernel.py:287: DeprecationWarning: `should_run_async` will not call `transform_cell` automatically in the future. Please pass the result to `transformed_cell` argument and any exception that happen during thetransform in `preprocessing_exc_tuple` in IPython 7.17 and above.\n",
      "  and should_run_async(code)\n"
     ]
    },
    {
     "data": {
      "text/plain": [
       "0       [members, congress, standing, demanding, halt,...\n",
       "1       [epa, lab, work, houston, suffering, plans, re...\n",
       "2       [learn, epa, councils, upcoming, contract, cam...\n",
       "3       [afge, epa, members, gearing, contract, negoti...\n",
       "4       [afge, epa, leaders, pushing, clause, union, c...\n",
       "                              ...                        \n",
       "8319                  [years, osha, kids, working, mines]\n",
       "8320    [woo, new, contract, ratified, consol, energy,...\n",
       "8321    [unite, statement, inflation, reduction, act, ...\n",
       "8322    [historic, bill, cut, energy, costs, invest, n...\n",
       "8323    [strong, labor, protections, inflation, reduct...\n",
       "Name: clean_text_list, Length: 8324, dtype: object"
      ]
     },
     "execution_count": 17,
     "metadata": {},
     "output_type": "execute_result"
    }
   ],
   "source": [
    "words = df['clean_text_list']\n",
    "\n",
    "words"
   ]
  },
  {
   "cell_type": "code",
   "execution_count": 18,
   "id": "ff98ec53",
   "metadata": {
    "scrolled": true
   },
   "outputs": [
    {
     "name": "stderr",
     "output_type": "stream",
     "text": [
      "/Users/jeffreypan/opt/anaconda3/lib/python3.8/site-packages/ipykernel/ipkernel.py:287: DeprecationWarning: `should_run_async` will not call `transform_cell` automatically in the future. Please pass the result to `transformed_cell` argument and any exception that happen during thetransform in `preprocessing_exc_tuple` in IPython 7.17 and above.\n",
      "  and should_run_async(code)\n"
     ]
    }
   ],
   "source": [
    "import gensim\n",
    "from gensim import corpora\n",
    "import pyLDAvis.gensim_models as gensimvis\n",
    "import pyLDAvis\n"
   ]
  },
  {
   "cell_type": "code",
   "execution_count": 19,
   "id": "7c033f07",
   "metadata": {},
   "outputs": [
    {
     "name": "stderr",
     "output_type": "stream",
     "text": [
      "/Users/jeffreypan/opt/anaconda3/lib/python3.8/site-packages/ipykernel/ipkernel.py:287: DeprecationWarning: `should_run_async` will not call `transform_cell` automatically in the future. Please pass the result to `transformed_cell` argument and any exception that happen during thetransform in `preprocessing_exc_tuple` in IPython 7.17 and above.\n",
      "  and should_run_async(code)\n"
     ]
    },
    {
     "data": {
      "text/plain": [
       "list"
      ]
     },
     "execution_count": 19,
     "metadata": {},
     "output_type": "execute_result"
    }
   ],
   "source": [
    "type(words[0])"
   ]
  },
  {
   "cell_type": "code",
   "execution_count": 20,
   "id": "7238b4ef",
   "metadata": {},
   "outputs": [
    {
     "name": "stderr",
     "output_type": "stream",
     "text": [
      "/Users/jeffreypan/opt/anaconda3/lib/python3.8/site-packages/ipykernel/ipkernel.py:287: DeprecationWarning: `should_run_async` will not call `transform_cell` automatically in the future. Please pass the result to `transformed_cell` argument and any exception that happen during thetransform in `preprocessing_exc_tuple` in IPython 7.17 and above.\n",
      "  and should_run_async(code)\n",
      "/Users/jeffreypan/opt/anaconda3/lib/python3.8/site-packages/pyLDAvis/_prepare.py:243: FutureWarning: In a future version of pandas all arguments of DataFrame.drop except for the argument 'labels' will be keyword-only.\n",
      "  default_term_info = default_term_info.sort_values(\n"
     ]
    },
    {
     "name": "stdout",
     "output_type": "stream",
     "text": [
      "(0, '0.022*\"hurricane\" + 0.021*\"job\" + 0.021*\"coal\" + 0.020*\"climate\" + 0.018*\"work\" + 0.017*\"now\" + 0.015*\"choice\" + 0.014*\"time\" + 0.014*\"labor\" + 0.012*\"miners\"')\n",
      "(1, '0.051*\"green\" + 0.050*\"workers\" + 0.029*\"program\" + 0.027*\"jobs\" + 0.020*\"sustainable\" + 0.018*\"say\" + 0.016*\"members\" + 0.014*\"people\" + 0.014*\"need\" + 0.014*\"make\"')\n",
      "(2, '0.027*\"food\" + 0.024*\"energy\" + 0.022*\"choice\" + 0.019*\"get\" + 0.015*\"water\" + 0.015*\"working\" + 0.013*\"clean\" + 0.013*\"housekeepers\" + 0.012*\"act\" + 0.012*\"inflation\"')\n",
      "(3, '0.035*\"via\" + 0.028*\"union\" + 0.023*\"new\" + 0.020*\"good\" + 0.015*\"us\" + 0.015*\"future\" + 0.015*\"oil\" + 0.014*\"choice\" + 0.014*\"heat\" + 0.013*\"board\"')\n"
     ]
    }
   ],
   "source": [
    "dictionary = corpora.Dictionary(words)\n",
    "corpus = [dictionary.doc2bow(word) for word in words]\n",
    "\n",
    "# define the number of topics to identify\n",
    "num_topics = 4\n",
    "\n",
    "\n",
    "# build the LDA model\n",
    "lda_model = gensim.models.LdaModel(corpus=corpus,\n",
    "                                   id2word=dictionary,\n",
    "                                   num_topics=num_topics,\n",
    "                                   random_state=100,\n",
    "                                   update_every=1,\n",
    "                                   chunksize=10,\n",
    "                                   passes=10,\n",
    "                                   alpha='auto',\n",
    "                                   per_word_topics=True)\n",
    "\n",
    "# visualize the topics using pyLDAvis\n",
    "vis_data = gensimvis.prepare(lda_model, corpus, dictionary)\n",
    "pyLDAvis.display(vis_data)\n",
    "\n",
    "# print the top words for each topic\n",
    "for topic in lda_model.print_topics():\n",
    "    print(topic)"
   ]
  },
  {
   "cell_type": "code",
   "execution_count": 21,
   "id": "95f96c15",
   "metadata": {},
   "outputs": [
    {
     "name": "stderr",
     "output_type": "stream",
     "text": [
      "/Users/jeffreypan/opt/anaconda3/lib/python3.8/site-packages/ipykernel/ipkernel.py:287: DeprecationWarning: `should_run_async` will not call `transform_cell` automatically in the future. Please pass the result to `transformed_cell` argument and any exception that happen during thetransform in `preprocessing_exc_tuple` in IPython 7.17 and above.\n",
      "  and should_run_async(code)\n"
     ]
    },
    {
     "data": {
      "text/html": [
       "\n",
       "<link rel=\"stylesheet\" type=\"text/css\" href=\"https://cdn.jsdelivr.net/gh/bmabey/pyLDAvis@3.4.0/pyLDAvis/js/ldavis.v1.0.0.css\">\n",
       "\n",
       "\n",
       "<div id=\"ldavis_el194501404072778756005174818973\" style=\"background-color:white;\"></div>\n",
       "<script type=\"text/javascript\">\n",
       "\n",
       "var ldavis_el194501404072778756005174818973_data = {\"mdsDat\": {\"x\": [-0.23214194576260716, 0.12170222726970412, 0.04707474769331229, 0.06336497079959065], \"y\": [0.0380108569097876, 0.17550575767384521, -0.06101492394628325, -0.1525016906373496], \"topics\": [1, 2, 3, 4], \"cluster\": [1, 1, 1, 1], \"Freq\": [28.97273448803158, 26.378653244804728, 24.90423980310479, 19.7443724640589]}, \"tinfo\": {\"Term\": [\"green\", \"workers\", \"via\", \"program\", \"jobs\", \"food\", \"union\", \"energy\", \"hurricane\", \"new\", \"job\", \"coal\", \"climate\", \"sustainable\", \"get\", \"say\", \"good\", \"work\", \"now\", \"members\", \"water\", \"people\", \"need\", \"make\", \"working\", \"time\", \"labor\", \"us\", \"future\", \"oil\", \"workers\", \"green\", \"jobs\", \"program\", \"sustainable\", \"members\", \"say\", \"make\", \"need\", \"people\", \"safety\", \"t\", \"local\", \"back\", \"environmental\", \"like\", \"natural\", \"one\", \"stand\", \"fight\", \"state\", \"w\", \"today\", \"gas\", \"know\", \"join\", \"sure\", \"strong\", \"protections\", \"electric\", \"fix\", \"disasters\", \"choice\", \"housekeepers\", \"hurricane\", \"job\", \"climate\", \"coal\", \"work\", \"now\", \"labor\", \"time\", \"tell\", \"check\", \"help\", \"real\", \"change\", \"pay\", \"hard\", \"stay\", \"costs\", \"day\", \"video\", \"disaster\", \"industry\", \"family\", \"movement\", \"full\", \"live\", \"crisis\", \"pipeline\", \"planet\", \"year\", \"call\", \"miners\", \"senate\", \"strike\", \"creating\", \"money\", \"impacted\", \"choice\", \"housekeepers\", \"sustainability\", \"energy\", \"food\", \"get\", \"water\", \"working\", \"clean\", \"families\", \"act\", \"health\", \"protect\", \"power\", \"together\", \"president\", \"invest\", \"safe\", \"economy\", \"environment\", \"dc\", \"keep\", \"want\", \"re\", \"first\", \"standards\", \"infrastructure\", \"put\", \"national\", \"services\", \"flint\", \"care\", \"statement\", \"thats\", \"inflation\", \"historic\", \"never\", \"children\", \"burning\", \"reduction\", \"choice\", \"housekeepers\", \"rooms\", \"marriott\", \"sustainability\", \"programs\", \"via\", \"union\", \"new\", \"good\", \"us\", \"oil\", \"future\", \"heat\", \"support\", \"says\", \"made\", \"fuel\", \"u\", \"action\", \"take\", \"use\", \"build\", \"create\", \"unions\", \"years\", \"still\", \"better\", \"worker\", \"less\", \"service\", \"bill\", \"right\", \"big\", \"tax\", \"read\", \"board\", \"report\", \"come\", \"choice\", \"housekeepers\"], \"Freq\": [1518.0, 1487.0, 698.0, 846.0, 784.0, 680.0, 555.0, 612.0, 583.0, 473.0, 572.0, 559.0, 550.0, 588.0, 487.0, 536.0, 397.0, 478.0, 459.0, 481.0, 382.0, 428.0, 425.0, 425.0, 377.0, 382.0, 375.0, 296.0, 294.0, 293.0, 1486.580998042425, 1517.9722975982622, 783.7098321632898, 845.8411183792563, 587.3665771810804, 481.0303599028379, 535.0658763755916, 424.6224238198617, 425.0611653638932, 427.56880259641986, 282.530009463839, 292.1889852127849, 258.28828663129684, 225.84739882154875, 220.10287964304717, 217.30392716458542, 235.52834192851557, 210.51988122259462, 206.30608498909353, 177.25430906248283, 176.50432198779546, 161.37100078878927, 153.5738687441853, 150.2881108030147, 159.7048675253617, 149.1749328285168, 155.2957049511659, 153.73101243248396, 155.97336215968795, 127.93829227000091, 244.35140189592917, 157.12816249675177, 371.0034888369956, 244.79603443572068, 582.7404270504163, 571.8979477906573, 549.568762479679, 559.0939152470964, 477.97392230433195, 459.12677979360126, 374.32082912780197, 381.9742805040175, 297.11183718384723, 214.84855723052996, 186.91206242895782, 233.0081134590898, 175.34794840833987, 179.33205902241144, 188.85306381542856, 161.75689098180217, 184.91515737541772, 136.1132234920479, 155.92225745609537, 133.9144211105196, 125.39555941364084, 136.3719518288143, 143.18440452826948, 119.67372322200525, 114.00955765934376, 105.50290178441647, 105.62067418143917, 156.29060008917563, 104.87943366242511, 100.15757885821469, 318.57736660442225, 119.6755528421335, 248.07215293696237, 147.4896886647176, 114.5085176252786, 116.45262685963841, 411.97127845605354, 272.39803026352064, 130.88894372213917, 612.1866304408561, 679.7740087562278, 486.8557149860786, 381.35909409616454, 376.98763185379795, 334.28635158939784, 311.84808120198244, 315.25858983244086, 234.7698573517878, 240.02049596140589, 214.66704190371698, 214.51808711346405, 162.2625579209951, 185.13330594168346, 148.14908562893018, 133.84181830395477, 129.58549728626974, 134.12448930067623, 111.10798091335435, 112.54121231059348, 107.94614041486858, 102.39056449278193, 98.06798876299075, 91.71238127662305, 92.54270662489479, 90.94411056495787, 104.73082289875427, 87.19466175728208, 93.43036596153553, 116.39277619330288, 105.61251931130545, 313.071285161845, 99.71057321928673, 125.9643223337109, 107.26291235867107, 136.31856141686578, 154.82326588414188, 549.1776893559913, 321.00270773526387, 123.47255359859011, 120.85998832586151, 117.89557503825347, 116.81612014126401, 697.3002232295977, 554.792825088059, 472.75929903020256, 396.70321604875545, 295.7478737859778, 292.5133234994655, 293.5767429459374, 288.25636274418287, 217.23839963580923, 232.74896676145954, 223.7084944795649, 225.2628585492977, 198.8301336434125, 192.09565658431038, 189.8504056752404, 194.61622668676887, 158.35766818037246, 148.7367856692432, 150.4544633965151, 155.0055782096018, 144.46122454735897, 136.03024960353983, 134.31227171906608, 151.6417070686589, 148.27431846050692, 126.77433011011136, 119.98625623065554, 130.24335007082414, 118.72157200043681, 111.95624440893299, 264.07498569053, 152.70774351073433, 126.81053657258342, 290.9617921633251, 227.17418457131976], \"Total\": [1518.0, 1487.0, 698.0, 846.0, 784.0, 680.0, 555.0, 612.0, 583.0, 473.0, 572.0, 559.0, 550.0, 588.0, 487.0, 536.0, 397.0, 478.0, 459.0, 481.0, 382.0, 428.0, 425.0, 425.0, 377.0, 382.0, 375.0, 296.0, 294.0, 293.0, 1487.3625237297258, 1518.8480979853102, 784.4682762613004, 846.7460702785634, 588.272827124539, 481.78830648748936, 536.0285726911599, 425.40137632384807, 425.85483935828415, 428.3738317094107, 283.28104904695107, 292.9757031632674, 259.0398289415843, 226.60879277782985, 220.86737948034454, 218.0775583280202, 236.38908597968225, 211.30934940285087, 207.1348687896112, 178.03490282646655, 177.3268125331789, 162.1471415847847, 154.321153455135, 151.0244313472385, 160.4908040010194, 149.94817765721285, 156.1266657061531, 154.55981076440713, 156.8622191007265, 128.72713346235545, 248.2395315037605, 170.16790568955156, 1623.1142488123655, 1065.370957005825, 583.5328190384212, 572.6972513287579, 550.3563833528776, 559.9185788072001, 478.7474305098024, 459.90525293542066, 375.08884346654975, 382.76442352620893, 297.8900743308901, 215.6707796493265, 187.64986278983935, 233.9723216355217, 176.10854310069547, 180.12433094672005, 189.75244562438877, 162.61209160802687, 185.89618128834144, 136.8627955703562, 156.8188562943674, 134.70543107346185, 126.14079658678239, 137.19817921135856, 144.08368352687648, 120.51764853940303, 114.81694894051935, 106.252517695156, 106.37650179660925, 157.41598264851783, 105.6369253264823, 100.90264147733929, 323.0395500408342, 120.59687291557682, 252.5314229453127, 149.27881255087797, 115.5202268798586, 118.87589875466419, 1623.1142488123655, 1065.370957005825, 417.1295818076107, 612.944087002388, 680.6771233002047, 487.6380339446215, 382.08303328079626, 377.74223496966033, 335.02582825973667, 312.5981021374184, 316.0442364003832, 235.4978114830905, 240.79544992752216, 215.43475187498876, 215.31988615255463, 162.99967114583308, 186.03661141652213, 148.875400333207, 134.5835651615057, 130.31451062335591, 134.98688105937177, 111.83199287595625, 113.28555313039135, 108.71816465196706, 103.12459143926888, 98.80513003037615, 92.42196313219276, 93.26311388487728, 91.69187953154423, 105.60588767196164, 87.9242996697162, 94.21949276662416, 117.39170662978852, 106.56307333232083, 322.460731226179, 100.6356328461504, 127.74596306221844, 108.52318223213513, 140.96623082781187, 164.7595756516848, 1623.1142488123655, 1065.370957005825, 410.678715103386, 409.6951604573444, 417.1295818076107, 382.6616072209165, 698.1252008493126, 555.5617225869123, 473.5577081446242, 397.4725103313543, 296.5049919296466, 293.29695107690964, 294.4004678854912, 289.0880760910209, 217.988625100493, 233.55318431087673, 224.50345401411278, 226.09099092523056, 199.58769605523347, 192.90669506562278, 190.65306721050044, 195.46105591106848, 159.1361602840927, 149.49608761109175, 151.2482448397874, 155.8238912070693, 145.24893794514628, 136.77522418136087, 135.1029760237701, 152.53911252123473, 149.19380237315687, 127.56490806514398, 120.76389878505152, 131.0992617318768, 119.51289066071647, 112.70469273641653, 266.8497559702516, 153.83121963031857, 127.67283857403112, 1623.1142488123655, 1065.370957005825], \"Category\": [\"Default\", \"Default\", \"Default\", \"Default\", \"Default\", \"Default\", \"Default\", \"Default\", \"Default\", \"Default\", \"Default\", \"Default\", \"Default\", \"Default\", \"Default\", \"Default\", \"Default\", \"Default\", \"Default\", \"Default\", \"Default\", \"Default\", \"Default\", \"Default\", \"Default\", \"Default\", \"Default\", \"Default\", \"Default\", \"Default\", \"Topic1\", \"Topic1\", \"Topic1\", \"Topic1\", \"Topic1\", \"Topic1\", \"Topic1\", \"Topic1\", \"Topic1\", \"Topic1\", \"Topic1\", \"Topic1\", \"Topic1\", \"Topic1\", \"Topic1\", \"Topic1\", \"Topic1\", \"Topic1\", \"Topic1\", \"Topic1\", \"Topic1\", \"Topic1\", \"Topic1\", \"Topic1\", \"Topic1\", \"Topic1\", \"Topic1\", \"Topic1\", \"Topic1\", \"Topic1\", \"Topic1\", \"Topic1\", \"Topic1\", \"Topic1\", \"Topic2\", \"Topic2\", \"Topic2\", \"Topic2\", \"Topic2\", \"Topic2\", \"Topic2\", \"Topic2\", \"Topic2\", \"Topic2\", \"Topic2\", \"Topic2\", \"Topic2\", \"Topic2\", \"Topic2\", \"Topic2\", \"Topic2\", \"Topic2\", \"Topic2\", \"Topic2\", \"Topic2\", \"Topic2\", \"Topic2\", \"Topic2\", \"Topic2\", \"Topic2\", \"Topic2\", \"Topic2\", \"Topic2\", \"Topic2\", \"Topic2\", \"Topic2\", \"Topic2\", \"Topic2\", \"Topic2\", \"Topic2\", \"Topic2\", \"Topic2\", \"Topic2\", \"Topic3\", \"Topic3\", \"Topic3\", \"Topic3\", \"Topic3\", \"Topic3\", \"Topic3\", \"Topic3\", \"Topic3\", \"Topic3\", \"Topic3\", \"Topic3\", \"Topic3\", \"Topic3\", \"Topic3\", \"Topic3\", \"Topic3\", \"Topic3\", \"Topic3\", \"Topic3\", \"Topic3\", \"Topic3\", \"Topic3\", \"Topic3\", \"Topic3\", \"Topic3\", \"Topic3\", \"Topic3\", \"Topic3\", \"Topic3\", \"Topic3\", \"Topic3\", \"Topic3\", \"Topic3\", \"Topic3\", \"Topic3\", \"Topic3\", \"Topic3\", \"Topic3\", \"Topic3\", \"Topic3\", \"Topic3\", \"Topic3\", \"Topic4\", \"Topic4\", \"Topic4\", \"Topic4\", \"Topic4\", \"Topic4\", \"Topic4\", \"Topic4\", \"Topic4\", \"Topic4\", \"Topic4\", \"Topic4\", \"Topic4\", \"Topic4\", \"Topic4\", \"Topic4\", \"Topic4\", \"Topic4\", \"Topic4\", \"Topic4\", \"Topic4\", \"Topic4\", \"Topic4\", \"Topic4\", \"Topic4\", \"Topic4\", \"Topic4\", \"Topic4\", \"Topic4\", \"Topic4\", \"Topic4\", \"Topic4\", \"Topic4\", \"Topic4\", \"Topic4\"], \"logprob\": [30.0, 29.0, 28.0, 27.0, 26.0, 25.0, 24.0, 23.0, 22.0, 21.0, 20.0, 19.0, 18.0, 17.0, 16.0, 15.0, 14.0, 13.0, 12.0, 11.0, 10.0, 9.0, 8.0, 7.0, 6.0, 5.0, 4.0, 3.0, 2.0, 1.0, -2.9899, -2.969, -3.6301, -3.5538, -3.9185, -4.1182, -4.0117, -4.2429, -4.2419, -4.236, -4.6503, -4.6167, -4.74, -4.8742, -4.9, -4.9128, -4.8323, -4.9445, -4.9647, -5.1165, -5.1208, -5.2104, -5.2599, -5.2816, -5.2208, -5.289, -5.2488, -5.2589, -5.2444, -5.4426, -4.7955, -5.237, -4.3779, -4.7937, -3.8326, -3.8513, -3.8912, -3.874, -4.0308, -4.071, -4.2752, -4.255, -4.5062, -4.8304, -4.9697, -4.7492, -5.0335, -5.0111, -4.9593, -5.1142, -4.9804, -5.2868, -5.151, -5.3031, -5.3688, -5.2849, -5.2362, -5.4155, -5.464, -5.5416, -5.5405, -5.1486, -5.5475, -5.5936, -4.4364, -5.4155, -4.6866, -5.2066, -5.4597, -5.4428, -4.1794, -4.593, -5.326, -3.7258, -3.621, -3.9548, -4.1991, -4.2106, -4.3308, -4.4003, -4.3894, -4.6842, -4.6621, -4.7737, -4.7744, -5.0536, -4.9217, -5.1446, -5.2461, -5.2785, -5.244, -5.4323, -5.4195, -5.4612, -5.514, -5.5571, -5.6241, -5.6151, -5.6325, -5.4914, -5.6746, -5.6056, -5.3858, -5.483, -4.3964, -5.5405, -5.3068, -5.4675, -5.2278, -5.1005, -3.8344, -4.3713, -5.3268, -5.3482, -5.373, -5.3822, -3.3634, -3.592, -3.752, -3.9274, -4.2211, -4.2321, -4.2285, -4.2468, -4.5296, -4.4607, -4.5003, -4.4934, -4.6182, -4.6526, -4.6644, -4.6396, -4.8458, -4.9084, -4.897, -4.8672, -4.9376, -4.9977, -5.0105, -4.8891, -4.9116, -5.0682, -5.1232, -5.0412, -5.1338, -5.1925, -4.3344, -4.8821, -5.0679, -4.2374, -4.4849], \"loglift\": [30.0, 29.0, 28.0, 27.0, 26.0, 25.0, 24.0, 23.0, 22.0, 21.0, 20.0, 19.0, 18.0, 17.0, 16.0, 15.0, 14.0, 13.0, 12.0, 11.0, 10.0, 9.0, 8.0, 7.0, 6.0, 5.0, 4.0, 3.0, 2.0, 1.0, 1.2383, 1.2382, 1.2378, 1.2377, 1.2373, 1.2372, 1.237, 1.237, 1.2369, 1.2369, 1.2362, 1.2361, 1.2359, 1.2354, 1.2353, 1.2353, 1.2352, 1.2351, 1.2348, 1.2344, 1.2342, 1.234, 1.234, 1.2339, 1.2339, 1.2336, 1.2335, 1.2334, 1.2331, 1.2327, 1.223, 1.1591, -0.2371, -0.2318, 1.3313, 1.3312, 1.3312, 1.3311, 1.331, 1.3309, 1.3306, 1.3305, 1.33, 1.3288, 1.3287, 1.3285, 1.3283, 1.3282, 1.3279, 1.3273, 1.3273, 1.3271, 1.3269, 1.3267, 1.3267, 1.3266, 1.3264, 1.3256, 1.3256, 1.3255, 1.3255, 1.3254, 1.3254, 1.3252, 1.3187, 1.3249, 1.3148, 1.3206, 1.3238, 1.312, -0.0385, -0.0312, 0.1736, 1.3889, 1.3888, 1.3885, 1.3882, 1.3881, 1.3879, 1.3877, 1.3876, 1.387, 1.3869, 1.3866, 1.3864, 1.3856, 1.3853, 1.3852, 1.3846, 1.3845, 1.3837, 1.3836, 1.3835, 1.383, 1.383, 1.3826, 1.3824, 1.3824, 1.3819, 1.3818, 1.3818, 1.3817, 1.3816, 1.3812, 1.3606, 1.3809, 1.3761, 1.3785, 1.3566, 1.3279, 0.3065, 0.1905, 0.1883, 0.1694, 0.1265, 0.2036, 1.6211, 1.6209, 1.6206, 1.6204, 1.6197, 1.6196, 1.6195, 1.6194, 1.6189, 1.6189, 1.6188, 1.6186, 1.6185, 1.6181, 1.6181, 1.618, 1.6174, 1.6172, 1.617, 1.617, 1.6169, 1.6168, 1.6164, 1.6164, 1.6161, 1.6161, 1.6158, 1.6158, 1.6157, 1.6156, 1.6118, 1.615, 1.6155, -0.0966, 0.0769]}, \"token.table\": {\"Topic\": [3, 4, 1, 4, 4, 4, 1, 2, 3, 4, 4, 1, 2, 3, 4, 2, 3, 2, 2, 3, 1, 2, 3, 4, 3, 2, 2, 4, 2, 4, 1, 2, 3, 4, 2, 2, 3, 2, 1, 2, 3, 4, 3, 1, 3, 3, 1, 3, 2, 1, 3, 1, 2, 3, 4, 3, 3, 4, 2, 4, 1, 3, 4, 1, 2, 3, 4, 2, 3, 1, 2, 3, 4, 2, 1, 2, 3, 4, 2, 1, 2, 3, 4, 3, 3, 2, 1, 1, 3, 1, 2, 4, 1, 2, 1, 4, 1, 1, 2, 3, 4, 1, 1, 2, 3, 2, 2, 3, 1, 1, 1, 2, 3, 4, 2, 4, 1, 2, 1, 2, 2, 3, 3, 1, 1, 2, 3, 4, 3, 1, 3, 3, 4, 2, 1, 2, 3, 4, 4, 4, 1, 2, 3, 4, 3, 1, 1, 4, 2, 4, 3, 1, 3, 1, 3, 2, 4, 1, 2, 3, 1, 4, 1, 1, 2, 3, 4, 1, 1, 4, 4, 2, 3, 2, 1, 3, 4, 4, 4, 4, 4, 4, 2, 1, 3, 3, 2, 4, 1, 3, 2, 4], \"Freq\": [0.9966959169631547, 0.9952998258286767, 0.9973134635670262, 0.9943321300622916, 0.991615042545968, 0.9955716029297376, 0.0037474270732009963, 0.0037474270732009963, 0.0037474270732009963, 0.989320747325063, 0.9928604518164544, 0.014187795107063406, 0.007093897553531703, 0.9647700672803117, 0.014187795107063406, 0.9910543325316017, 0.9870568952260785, 0.9937053417104154, 0.9968897981895499, 0.9859644529324897, 0.22857294258334623, 0.25383302518689665, 0.3382386670572967, 0.17928497652763817, 0.9969380621635494, 0.999352449860386, 0.9983594421725441, 0.9947299787366992, 0.995179130189063, 0.9966816013782093, 0.00669887429375937, 0.9847345211826274, 0.00669887429375937, 0.00669887429375937, 0.9976234191844706, 0.9936959086159198, 0.9926890594728409, 0.9947631578931874, 0.9226181597746486, 0.017629646365120672, 0.04701239030698846, 0.017629646365120672, 0.9956639195818197, 0.9943513582350678, 0.9984597502082041, 0.9975865264593217, 0.996072849316249, 0.9980866738047071, 0.9912667994703288, 0.9941870789938573, 0.9890948276878152, 0.9829216101155256, 0.004028367254571826, 0.008056734509143652, 0.004028367254571826, 0.9894875515279815, 0.9990052210115102, 0.9951745493229699, 0.9957047905790015, 0.9986397172247465, 0.9932167839461477, 0.9986915828950824, 0.9988112125516294, 0.9994416176400819, 0.9960345932727622, 0.997886131170581, 0.9962361778952158, 0.9965368331200585, 0.9936838192579149, 0.2299668471238985, 0.25531013231714444, 0.30130350174192416, 0.21307132366173454, 0.9990869081891586, 0.008412134086689832, 0.9758075540560205, 0.008412134086689832, 0.008412134086689832, 0.990956164717118, 0.009303458404352972, 0.012404611205803964, 0.9706608268541601, 0.009303458404352972, 0.9954343846647229, 0.9944279171254026, 0.9987825132264208, 0.9994030653941391, 0.9936766310066106, 0.9925603322040493, 0.9969418559270457, 0.9970971051645079, 0.9964657423769941, 0.9950588298205385, 0.9928847705146514, 0.9959858337390318, 0.9977574776462854, 0.9990564761982751, 0.23676140057822137, 0.2538472748467528, 0.295341540927472, 0.21479384794725237, 0.9983637907419618, 0.0030955961889917007, 0.9874951842883525, 0.009286788566975101, 0.9954966598152578, 0.9924787907946958, 0.9924542987331151, 0.998354044231485, 0.997992650830099, 0.007828036017959736, 0.007828036017959736, 0.9863325382629268, 0.9988223016223107, 0.9980316534119957, 0.9989875412075737, 0.9985360354204625, 0.9937580284639468, 0.9991273236557916, 0.9964606676263043, 0.9910048355656524, 0.9979819788998525, 0.9938670358117552, 0.9991188972647751, 0.22212837242103617, 0.2874602466625174, 0.30575317145013214, 0.1855425228458067, 0.9966965740932332, 0.9945033348012702, 0.9971788001288262, 0.9933942533497868, 0.9937474410398811, 0.9958442877827388, 0.024277799843672374, 0.024277799843672374, 0.9407647439423045, 0.012138899921836187, 0.9945965478768476, 0.9936744441614029, 0.21671442109580663, 0.25323932352768413, 0.29950419994139565, 0.23132438206855763, 0.9941199128180497, 0.9990078791084098, 0.9980811233886361, 0.9976314417955424, 0.9950506766788666, 0.9919983112289679, 0.9942627472263319, 0.9945211117942488, 0.9918513337300541, 0.9981570044117398, 0.9881447619278808, 0.9962358788822279, 0.9914013970579396, 0.007919806480610189, 0.9820560035956634, 0.007919806480610189, 0.9963780315100124, 0.9954647858344111, 0.9927836433253907, 0.24932300305655877, 0.31405109038855, 0.28288571500648013, 0.1534295403424977, 0.9978363319435294, 0.9966696789094363, 0.9965745780015205, 0.9957084908759131, 0.9970120712048249, 0.994716055808893, 0.998002887731397, 0.9979189278466067, 0.998514367816784, 0.9970554494748473, 0.9989889105673143, 0.9917470457848313, 0.9982968518460342, 0.9976411878626182, 0.9983882534995961, 0.9947783301465334, 0.9929253049201311, 0.9974793508748403, 0.9971654504742158, 0.9984387790676881, 0.9918360345846412, 0.9997562640419252, 0.9980350755066615, 0.9939706184696894, 0.9947126772365449], \"Term\": [\"act\", \"action\", \"back\", \"better\", \"big\", \"bill\", \"board\", \"board\", \"board\", \"board\", \"build\", \"burning\", \"burning\", \"burning\", \"burning\", \"call\", \"care\", \"change\", \"check\", \"children\", \"choice\", \"choice\", \"choice\", \"choice\", \"clean\", \"climate\", \"coal\", \"come\", \"costs\", \"create\", \"creating\", \"creating\", \"creating\", \"creating\", \"crisis\", \"day\", \"dc\", \"disaster\", \"disasters\", \"disasters\", \"disasters\", \"disasters\", \"economy\", \"electric\", \"energy\", \"environment\", \"environmental\", \"families\", \"family\", \"fight\", \"first\", \"fix\", \"fix\", \"fix\", \"fix\", \"flint\", \"food\", \"fuel\", \"full\", \"future\", \"gas\", \"get\", \"good\", \"green\", \"hard\", \"health\", \"heat\", \"help\", \"historic\", \"housekeepers\", \"housekeepers\", \"housekeepers\", \"housekeepers\", \"hurricane\", \"impacted\", \"impacted\", \"impacted\", \"impacted\", \"industry\", \"inflation\", \"inflation\", \"inflation\", \"inflation\", \"infrastructure\", \"invest\", \"job\", \"jobs\", \"join\", \"keep\", \"know\", \"labor\", \"less\", \"like\", \"live\", \"local\", \"made\", \"make\", \"marriott\", \"marriott\", \"marriott\", \"marriott\", \"members\", \"miners\", \"miners\", \"miners\", \"money\", \"movement\", \"national\", \"natural\", \"need\", \"never\", \"never\", \"never\", \"new\", \"now\", \"oil\", \"one\", \"pay\", \"people\", \"pipeline\", \"planet\", \"power\", \"president\", \"program\", \"programs\", \"programs\", \"programs\", \"programs\", \"protect\", \"protections\", \"put\", \"re\", \"read\", \"real\", \"reduction\", \"reduction\", \"reduction\", \"reduction\", \"report\", \"right\", \"rooms\", \"rooms\", \"rooms\", \"rooms\", \"safe\", \"safety\", \"say\", \"says\", \"senate\", \"service\", \"services\", \"stand\", \"standards\", \"state\", \"statement\", \"stay\", \"still\", \"strike\", \"strike\", \"strike\", \"strong\", \"support\", \"sure\", \"sustainability\", \"sustainability\", \"sustainability\", \"sustainability\", \"sustainable\", \"t\", \"take\", \"tax\", \"tell\", \"thats\", \"time\", \"today\", \"together\", \"u\", \"union\", \"unions\", \"us\", \"use\", \"via\", \"video\", \"w\", \"want\", \"water\", \"work\", \"worker\", \"workers\", \"working\", \"year\", \"years\"]}, \"R\": 30, \"lambda.step\": 0.01, \"plot.opts\": {\"xlab\": \"PC1\", \"ylab\": \"PC2\"}, \"topic.order\": [2, 1, 3, 4]};\n",
       "\n",
       "function LDAvis_load_lib(url, callback){\n",
       "  var s = document.createElement('script');\n",
       "  s.src = url;\n",
       "  s.async = true;\n",
       "  s.onreadystatechange = s.onload = callback;\n",
       "  s.onerror = function(){console.warn(\"failed to load library \" + url);};\n",
       "  document.getElementsByTagName(\"head\")[0].appendChild(s);\n",
       "}\n",
       "\n",
       "if(typeof(LDAvis) !== \"undefined\"){\n",
       "   // already loaded: just create the visualization\n",
       "   !function(LDAvis){\n",
       "       new LDAvis(\"#\" + \"ldavis_el194501404072778756005174818973\", ldavis_el194501404072778756005174818973_data);\n",
       "   }(LDAvis);\n",
       "}else if(typeof define === \"function\" && define.amd){\n",
       "   // require.js is available: use it to load d3/LDAvis\n",
       "   require.config({paths: {d3: \"https://d3js.org/d3.v5\"}});\n",
       "   require([\"d3\"], function(d3){\n",
       "      window.d3 = d3;\n",
       "      LDAvis_load_lib(\"https://cdn.jsdelivr.net/gh/bmabey/pyLDAvis@3.4.0/pyLDAvis/js/ldavis.v3.0.0.js\", function(){\n",
       "        new LDAvis(\"#\" + \"ldavis_el194501404072778756005174818973\", ldavis_el194501404072778756005174818973_data);\n",
       "      });\n",
       "    });\n",
       "}else{\n",
       "    // require.js not available: dynamically load d3 & LDAvis\n",
       "    LDAvis_load_lib(\"https://d3js.org/d3.v5.js\", function(){\n",
       "         LDAvis_load_lib(\"https://cdn.jsdelivr.net/gh/bmabey/pyLDAvis@3.4.0/pyLDAvis/js/ldavis.v3.0.0.js\", function(){\n",
       "                 new LDAvis(\"#\" + \"ldavis_el194501404072778756005174818973\", ldavis_el194501404072778756005174818973_data);\n",
       "            })\n",
       "         });\n",
       "}\n",
       "</script>"
      ],
      "text/plain": [
       "<IPython.core.display.HTML object>"
      ]
     },
     "execution_count": 21,
     "metadata": {},
     "output_type": "execute_result"
    }
   ],
   "source": [
    "pyLDAvis.display(vis_data)"
   ]
  },
  {
   "cell_type": "markdown",
   "id": "786cea39",
   "metadata": {},
   "source": [
    "# Analyzing all of twitter data to see the different topics that Unions talk about"
   ]
  },
  {
   "cell_type": "code",
   "execution_count": 27,
   "id": "3ff9e1bf",
   "metadata": {
    "scrolled": true
   },
   "outputs": [
    {
     "name": "stderr",
     "output_type": "stream",
     "text": [
      "/Users/jeffreypan/opt/anaconda3/lib/python3.8/site-packages/ipykernel/ipkernel.py:287: DeprecationWarning: `should_run_async` will not call `transform_cell` automatically in the future. Please pass the result to `transformed_cell` argument and any exception that happen during thetransform in `preprocessing_exc_tuple` in IPython 7.17 and above.\n",
      "  and should_run_async(code)\n"
     ]
    },
    {
     "data": {
      "text/plain": [
       "\"{'retweet_count': 76, 'reply_count': 5, 'like_count': 311, 'quote_count': 6}\""
      ]
     },
     "execution_count": 27,
     "metadata": {},
     "output_type": "execute_result"
    }
   ],
   "source": [
    "df_all = pd.read_csv('alldata 0802.csv')\n",
    "\n",
    "df_all['public_metrics'][0]"
   ]
  },
  {
   "cell_type": "code",
   "execution_count": 28,
   "id": "c76ebe6e",
   "metadata": {},
   "outputs": [
    {
     "name": "stderr",
     "output_type": "stream",
     "text": [
      "/Users/jeffreypan/opt/anaconda3/lib/python3.8/site-packages/ipykernel/ipkernel.py:287: DeprecationWarning: `should_run_async` will not call `transform_cell` automatically in the future. Please pass the result to `transformed_cell` argument and any exception that happen during thetransform in `preprocessing_exc_tuple` in IPython 7.17 and above.\n",
      "  and should_run_async(code)\n"
     ]
    }
   ],
   "source": [
    "def res(string_list):\n",
    "    return ast.literal_eval(string_list)\n",
    "\n",
    "df_all['public_metrics'] = df_all['public_metrics'].apply(res)"
   ]
  },
  {
   "cell_type": "code",
   "execution_count": 29,
   "id": "6bc0f40a",
   "metadata": {},
   "outputs": [
    {
     "name": "stderr",
     "output_type": "stream",
     "text": [
      "/Users/jeffreypan/opt/anaconda3/lib/python3.8/site-packages/ipykernel/ipkernel.py:287: DeprecationWarning: `should_run_async` will not call `transform_cell` automatically in the future. Please pass the result to `transformed_cell` argument and any exception that happen during thetransform in `preprocessing_exc_tuple` in IPython 7.17 and above.\n",
      "  and should_run_async(code)\n"
     ]
    },
    {
     "data": {
      "text/plain": [
       "{'retweet_count': 76, 'reply_count': 5, 'like_count': 311, 'quote_count': 6}"
      ]
     },
     "execution_count": 29,
     "metadata": {},
     "output_type": "execute_result"
    }
   ],
   "source": [
    "df_all['public_metrics'][0]"
   ]
  },
  {
   "cell_type": "code",
   "execution_count": null,
   "id": "f09c1b3e",
   "metadata": {},
   "outputs": [],
   "source": []
  }
 ],
 "metadata": {
  "kernelspec": {
   "display_name": "Python 3",
   "language": "python",
   "name": "python3"
  },
  "language_info": {
   "codemirror_mode": {
    "name": "ipython",
    "version": 3
   },
   "file_extension": ".py",
   "mimetype": "text/x-python",
   "name": "python",
   "nbconvert_exporter": "python",
   "pygments_lexer": "ipython3",
   "version": "3.8.8"
  }
 },
 "nbformat": 4,
 "nbformat_minor": 5
}
