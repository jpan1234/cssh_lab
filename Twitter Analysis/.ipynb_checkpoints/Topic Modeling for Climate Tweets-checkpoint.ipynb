{
 "cells": [
  {
   "cell_type": "code",
   "execution_count": 1,
   "id": "a45cd6f8",
   "metadata": {
    "scrolled": true
   },
   "outputs": [
    {
     "name": "stdout",
     "output_type": "stream",
     "text": [
      "Requirement already satisfied: gensim in e:\\anaconda\\lib\\site-packages (4.1.2)\n",
      "Requirement already satisfied: scipy>=0.18.1 in e:\\anaconda\\lib\\site-packages (from gensim) (1.9.1)\n",
      "Requirement already satisfied: smart-open>=1.8.1 in e:\\anaconda\\lib\\site-packages (from gensim) (5.2.1)\n",
      "Requirement already satisfied: numpy>=1.17.0 in e:\\anaconda\\lib\\site-packages (from gensim) (1.24.2)\n",
      "Note: you may need to restart the kernel to use updated packages.\n"
     ]
    }
   ],
   "source": [
    "pip install gensim"
   ]
  },
  {
   "cell_type": "code",
   "execution_count": 2,
   "id": "8bd84af6",
   "metadata": {
    "scrolled": true
   },
   "outputs": [
    {
     "name": "stdout",
     "output_type": "stream",
     "text": [
      "Requirement already satisfied: pyLDAvis in e:\\anaconda\\lib\\site-packages (3.4.0)\n",
      "Requirement already satisfied: funcy in e:\\anaconda\\lib\\site-packages (from pyLDAvis) (1.18)\n",
      "Requirement already satisfied: numexpr in e:\\anaconda\\lib\\site-packages (from pyLDAvis) (2.8.3)\n",
      "Requirement already satisfied: jinja2 in e:\\anaconda\\lib\\site-packages (from pyLDAvis) (2.11.3)\n",
      "Requirement already satisfied: scikit-learn>=1.0.0 in e:\\anaconda\\lib\\site-packages (from pyLDAvis) (1.0.2)\n",
      "Requirement already satisfied: scipy in e:\\anaconda\\lib\\site-packages (from pyLDAvis) (1.9.1)\n",
      "Requirement already satisfied: gensim in e:\\anaconda\\lib\\site-packages (from pyLDAvis) (4.1.2)\n",
      "Requirement already satisfied: numpy>=1.22.0 in e:\\anaconda\\lib\\site-packages (from pyLDAvis) (1.24.2)\n",
      "Requirement already satisfied: setuptools in e:\\anaconda\\lib\\site-packages (from pyLDAvis) (63.4.1)\n",
      "Requirement already satisfied: pandas>=1.3.4 in e:\\anaconda\\lib\\site-packages (from pyLDAvis) (1.4.4)\n",
      "Requirement already satisfied: joblib>=1.2.0 in e:\\anaconda\\lib\\site-packages (from pyLDAvis) (1.2.0)\n",
      "Requirement already satisfied: pytz>=2020.1 in e:\\anaconda\\lib\\site-packages (from pandas>=1.3.4->pyLDAvis) (2022.1)\n",
      "Requirement already satisfied: python-dateutil>=2.8.1 in e:\\anaconda\\lib\\site-packages (from pandas>=1.3.4->pyLDAvis) (2.8.2)\n",
      "Requirement already satisfied: threadpoolctl>=2.0.0 in e:\\anaconda\\lib\\site-packages (from scikit-learn>=1.0.0->pyLDAvis) (2.2.0)\n",
      "Requirement already satisfied: smart-open>=1.8.1 in e:\\anaconda\\lib\\site-packages (from gensim->pyLDAvis) (5.2.1)\n",
      "Requirement already satisfied: MarkupSafe>=0.23 in e:\\anaconda\\lib\\site-packages (from jinja2->pyLDAvis) (2.0.1)\n",
      "Requirement already satisfied: packaging in e:\\anaconda\\lib\\site-packages (from numexpr->pyLDAvis) (21.3)\n",
      "Requirement already satisfied: six>=1.5 in e:\\anaconda\\lib\\site-packages (from python-dateutil>=2.8.1->pandas>=1.3.4->pyLDAvis) (1.16.0)\n",
      "Requirement already satisfied: pyparsing!=3.0.5,>=2.0.2 in e:\\anaconda\\lib\\site-packages (from packaging->numexpr->pyLDAvis) (3.0.9)\n",
      "Note: you may need to restart the kernel to use updated packages.\n"
     ]
    }
   ],
   "source": [
    "pip install pyLDAvis"
   ]
  },
  {
   "cell_type": "code",
   "execution_count": 3,
   "id": "833b1ba0",
   "metadata": {},
   "outputs": [],
   "source": [
    "import pandas as pd\n",
    "import numpy as np\n",
    "import ast"
   ]
  },
  {
   "cell_type": "code",
   "execution_count": 19,
   "id": "5c815641",
   "metadata": {},
   "outputs": [],
   "source": [
    "def create_list(string):\n",
    "    return(string.split())"
   ]
  },
  {
   "cell_type": "code",
   "execution_count": 8,
   "id": "619887f4",
   "metadata": {},
   "outputs": [],
   "source": [
    "df = pd.read_csv('Twitter Cleaned Text.csv')"
   ]
  },
  {
   "cell_type": "code",
   "execution_count": 20,
   "id": "c1f60bef",
   "metadata": {
    "scrolled": false
   },
   "outputs": [
    {
     "data": {
      "text/html": [
       "<div>\n",
       "<style scoped>\n",
       "    .dataframe tbody tr th:only-of-type {\n",
       "        vertical-align: middle;\n",
       "    }\n",
       "\n",
       "    .dataframe tbody tr th {\n",
       "        vertical-align: top;\n",
       "    }\n",
       "\n",
       "    .dataframe thead th {\n",
       "        text-align: right;\n",
       "    }\n",
       "</style>\n",
       "<table border=\"1\" class=\"dataframe\">\n",
       "  <thead>\n",
       "    <tr style=\"text-align: right;\">\n",
       "      <th></th>\n",
       "      <th>Unnamed: 0</th>\n",
       "      <th>Time</th>\n",
       "      <th>Text</th>\n",
       "      <th>Entities</th>\n",
       "      <th>Public Metrics</th>\n",
       "      <th>Union</th>\n",
       "      <th>clean_text</th>\n",
       "      <th>clean_text_list</th>\n",
       "    </tr>\n",
       "  </thead>\n",
       "  <tbody>\n",
       "    <tr>\n",
       "      <th>0</th>\n",
       "      <td>0</td>\n",
       "      <td>2020-10-09T21:24:36.000Z</td>\n",
       "      <td>These members of Congress are standing up and ...</td>\n",
       "      <td>{'urls': [{'start': 110, 'end': 133, 'url': 'h...</td>\n",
       "      <td>{'retweet_count': 3, 'reply_count': 0, 'like_c...</td>\n",
       "      <td>AFGENational</td>\n",
       "      <td>members congress standing demanding halt reope...</td>\n",
       "      <td>[members congress standing demanding halt reop...</td>\n",
       "    </tr>\n",
       "    <tr>\n",
       "      <th>1</th>\n",
       "      <td>1</td>\n",
       "      <td>2022-06-22T17:38:01.000Z</td>\n",
       "      <td>EPA lab work in Houston is suffering as plans ...</td>\n",
       "      <td>{'hashtags': [{'start': 84, 'end': 87, 'tag': ...</td>\n",
       "      <td>{'retweet_count': 0, 'reply_count': 0, 'like_c...</td>\n",
       "      <td>AFGENational</td>\n",
       "      <td>epa lab work houston suffering plans relocate ...</td>\n",
       "      <td>[epa lab work houston suffering plans relocate...</td>\n",
       "    </tr>\n",
       "    <tr>\n",
       "      <th>2</th>\n",
       "      <td>2</td>\n",
       "      <td>2022-06-16T19:41:01.000Z</td>\n",
       "      <td>Learn more about the EPA Council's upcoming co...</td>\n",
       "      <td>{'urls': [{'start': 63, 'end': 86, 'url': 'htt...</td>\n",
       "      <td>{'retweet_count': 1, 'reply_count': 0, 'like_c...</td>\n",
       "      <td>AFGENational</td>\n",
       "      <td>learn epa councils upcoming contract campaign</td>\n",
       "      <td>[learn epa councils upcoming contract campaign]</td>\n",
       "    </tr>\n",
       "    <tr>\n",
       "      <th>3</th>\n",
       "      <td>3</td>\n",
       "      <td>2022-06-10T19:14:01.000Z</td>\n",
       "      <td>AFGE EPA members are gearing up for contract n...</td>\n",
       "      <td>{'hashtags': [{'start': 114, 'end': 117, 'tag'...</td>\n",
       "      <td>{'retweet_count': 2, 'reply_count': 0, 'like_c...</td>\n",
       "      <td>AFGENational</td>\n",
       "      <td>afge epa members gearing contract negotiations...</td>\n",
       "      <td>[afge epa members gearing contract negotiation...</td>\n",
       "    </tr>\n",
       "    <tr>\n",
       "      <th>4</th>\n",
       "      <td>4</td>\n",
       "      <td>2022-04-25T18:05:03.000Z</td>\n",
       "      <td>AFGE EPA leaders are pushing for a clause in t...</td>\n",
       "      <td>{'hashtags': [{'start': 131, 'end': 134, 'tag'...</td>\n",
       "      <td>{'retweet_count': 2, 'reply_count': 0, 'like_c...</td>\n",
       "      <td>AFGENational</td>\n",
       "      <td>afge epa leaders pushing clause union contract...</td>\n",
       "      <td>[afge epa leaders pushing clause union contrac...</td>\n",
       "    </tr>\n",
       "    <tr>\n",
       "      <th>...</th>\n",
       "      <td>...</td>\n",
       "      <td>...</td>\n",
       "      <td>...</td>\n",
       "      <td>...</td>\n",
       "      <td>...</td>\n",
       "      <td>...</td>\n",
       "      <td>...</td>\n",
       "      <td>...</td>\n",
       "    </tr>\n",
       "    <tr>\n",
       "      <th>8494</th>\n",
       "      <td>8494</td>\n",
       "      <td>2012-05-14T21:40:04.000Z</td>\n",
       "      <td>RT @UnionPlus: Miss this? READING: Former coal...</td>\n",
       "      <td>{'hashtags': [{'start': 133, 'end': 136, 'tag'...</td>\n",
       "      <td>{'retweet_count': 0, 'reply_count': 1, 'like_c...</td>\n",
       "      <td>unitehere</td>\n",
       "      <td>miss reading former coal miner mobilizes milli...</td>\n",
       "      <td>[miss reading former coal miner mobilizes mill...</td>\n",
       "    </tr>\n",
       "    <tr>\n",
       "      <th>8495</th>\n",
       "      <td>8495</td>\n",
       "      <td>2012-04-20T20:05:14.000Z</td>\n",
       "      <td>98 years ago today the Colorado National Guard...</td>\n",
       "      <td>{'annotations': [{'start': 23, 'end': 45, 'pro...</td>\n",
       "      <td>{'retweet_count': 2, 'reply_count': 1, 'like_c...</td>\n",
       "      <td>unitehere</td>\n",
       "      <td>years ago today colorado national guard attack...</td>\n",
       "      <td>[years ago today colorado national guard attac...</td>\n",
       "    </tr>\n",
       "    <tr>\n",
       "      <th>8496</th>\n",
       "      <td>8496</td>\n",
       "      <td>2012-03-06T21:50:04.000Z</td>\n",
       "      <td>100 years before OSHA - these kids were workin...</td>\n",
       "      <td>{'urls': [{'start': 85, 'end': 105, 'url': 'ht...</td>\n",
       "      <td>{'retweet_count': 1, 'reply_count': 0, 'like_c...</td>\n",
       "      <td>unitehere</td>\n",
       "      <td>years osha kids working mines</td>\n",
       "      <td>[years osha kids working mines]</td>\n",
       "    </tr>\n",
       "    <tr>\n",
       "      <th>8497</th>\n",
       "      <td>8497</td>\n",
       "      <td>2012-02-27T21:35:06.000Z</td>\n",
       "      <td>WOO!  New Contract Ratified at Consol Energy C...</td>\n",
       "      <td>{'hashtags': [{'start': 53, 'end': 56, 'tag': ...</td>\n",
       "      <td>{'retweet_count': 0, 'reply_count': 0, 'like_c...</td>\n",
       "      <td>unitehere</td>\n",
       "      <td>woo new contract ratified consol energy center</td>\n",
       "      <td>[woo new contract ratified consol energy center]</td>\n",
       "    </tr>\n",
       "    <tr>\n",
       "      <th>8498</th>\n",
       "      <td>8498</td>\n",
       "      <td>2022-08-08T21:08:55.000Z</td>\n",
       "      <td>UNITE HERE Statement on Inflation Reduction Ac...</td>\n",
       "      <td>{'annotations': [{'start': 256, 'end': 269, 'p...</td>\n",
       "      <td>{'retweet_count': 17, 'reply_count': 3, 'like_...</td>\n",
       "      <td>unitehere</td>\n",
       "      <td>unite statement inflation reduction act need b...</td>\n",
       "      <td>[unite statement inflation reduction act need ...</td>\n",
       "    </tr>\n",
       "  </tbody>\n",
       "</table>\n",
       "<p>8499 rows × 8 columns</p>\n",
       "</div>"
      ],
      "text/plain": [
       "      Unnamed: 0                      Time  \\\n",
       "0              0  2020-10-09T21:24:36.000Z   \n",
       "1              1  2022-06-22T17:38:01.000Z   \n",
       "2              2  2022-06-16T19:41:01.000Z   \n",
       "3              3  2022-06-10T19:14:01.000Z   \n",
       "4              4  2022-04-25T18:05:03.000Z   \n",
       "...          ...                       ...   \n",
       "8494        8494  2012-05-14T21:40:04.000Z   \n",
       "8495        8495  2012-04-20T20:05:14.000Z   \n",
       "8496        8496  2012-03-06T21:50:04.000Z   \n",
       "8497        8497  2012-02-27T21:35:06.000Z   \n",
       "8498        8498  2022-08-08T21:08:55.000Z   \n",
       "\n",
       "                                                   Text  \\\n",
       "0     These members of Congress are standing up and ...   \n",
       "1     EPA lab work in Houston is suffering as plans ...   \n",
       "2     Learn more about the EPA Council's upcoming co...   \n",
       "3     AFGE EPA members are gearing up for contract n...   \n",
       "4     AFGE EPA leaders are pushing for a clause in t...   \n",
       "...                                                 ...   \n",
       "8494  RT @UnionPlus: Miss this? READING: Former coal...   \n",
       "8495  98 years ago today the Colorado National Guard...   \n",
       "8496  100 years before OSHA - these kids were workin...   \n",
       "8497  WOO!  New Contract Ratified at Consol Energy C...   \n",
       "8498  UNITE HERE Statement on Inflation Reduction Ac...   \n",
       "\n",
       "                                               Entities  \\\n",
       "0     {'urls': [{'start': 110, 'end': 133, 'url': 'h...   \n",
       "1     {'hashtags': [{'start': 84, 'end': 87, 'tag': ...   \n",
       "2     {'urls': [{'start': 63, 'end': 86, 'url': 'htt...   \n",
       "3     {'hashtags': [{'start': 114, 'end': 117, 'tag'...   \n",
       "4     {'hashtags': [{'start': 131, 'end': 134, 'tag'...   \n",
       "...                                                 ...   \n",
       "8494  {'hashtags': [{'start': 133, 'end': 136, 'tag'...   \n",
       "8495  {'annotations': [{'start': 23, 'end': 45, 'pro...   \n",
       "8496  {'urls': [{'start': 85, 'end': 105, 'url': 'ht...   \n",
       "8497  {'hashtags': [{'start': 53, 'end': 56, 'tag': ...   \n",
       "8498  {'annotations': [{'start': 256, 'end': 269, 'p...   \n",
       "\n",
       "                                         Public Metrics         Union  \\\n",
       "0     {'retweet_count': 3, 'reply_count': 0, 'like_c...  AFGENational   \n",
       "1     {'retweet_count': 0, 'reply_count': 0, 'like_c...  AFGENational   \n",
       "2     {'retweet_count': 1, 'reply_count': 0, 'like_c...  AFGENational   \n",
       "3     {'retweet_count': 2, 'reply_count': 0, 'like_c...  AFGENational   \n",
       "4     {'retweet_count': 2, 'reply_count': 0, 'like_c...  AFGENational   \n",
       "...                                                 ...           ...   \n",
       "8494  {'retweet_count': 0, 'reply_count': 1, 'like_c...     unitehere   \n",
       "8495  {'retweet_count': 2, 'reply_count': 1, 'like_c...     unitehere   \n",
       "8496  {'retweet_count': 1, 'reply_count': 0, 'like_c...     unitehere   \n",
       "8497  {'retweet_count': 0, 'reply_count': 0, 'like_c...     unitehere   \n",
       "8498  {'retweet_count': 17, 'reply_count': 3, 'like_...     unitehere   \n",
       "\n",
       "                                             clean_text  \\\n",
       "0     members congress standing demanding halt reope...   \n",
       "1     epa lab work houston suffering plans relocate ...   \n",
       "2         learn epa councils upcoming contract campaign   \n",
       "3     afge epa members gearing contract negotiations...   \n",
       "4     afge epa leaders pushing clause union contract...   \n",
       "...                                                 ...   \n",
       "8494  miss reading former coal miner mobilizes milli...   \n",
       "8495  years ago today colorado national guard attack...   \n",
       "8496                      years osha kids working mines   \n",
       "8497     woo new contract ratified consol energy center   \n",
       "8498  unite statement inflation reduction act need b...   \n",
       "\n",
       "                                        clean_text_list  \n",
       "0     [members congress standing demanding halt reop...  \n",
       "1     [epa lab work houston suffering plans relocate...  \n",
       "2       [learn epa councils upcoming contract campaign]  \n",
       "3     [afge epa members gearing contract negotiation...  \n",
       "4     [afge epa leaders pushing clause union contrac...  \n",
       "...                                                 ...  \n",
       "8494  [miss reading former coal miner mobilizes mill...  \n",
       "8495  [years ago today colorado national guard attac...  \n",
       "8496                    [years osha kids working mines]  \n",
       "8497   [woo new contract ratified consol energy center]  \n",
       "8498  [unite statement inflation reduction act need ...  \n",
       "\n",
       "[8499 rows x 8 columns]"
      ]
     },
     "execution_count": 20,
     "metadata": {},
     "output_type": "execute_result"
    }
   ],
   "source": [
    "df"
   ]
  },
  {
   "cell_type": "code",
   "execution_count": 21,
   "id": "7942ec6e",
   "metadata": {
    "scrolled": true
   },
   "outputs": [
    {
     "data": {
      "text/plain": [
       "'members congress standing demanding halt reopening plans protect epa workers'"
      ]
     },
     "execution_count": 21,
     "metadata": {},
     "output_type": "execute_result"
    }
   ],
   "source": [
    "df['clean_text'][0]"
   ]
  },
  {
   "cell_type": "code",
   "execution_count": 23,
   "id": "735ae295",
   "metadata": {
    "scrolled": true
   },
   "outputs": [],
   "source": [
    "# Converting string to list\n",
    "#res = ast.literal_eval(ini_list)\n",
    "\n",
    "def res(string_list):\n",
    "    return ast.literal_eval(string_list)\n",
    "\n",
    "df['clean_text'] = df['clean_text'].astype(str)\n",
    "\n",
    "df['clean_text_list'] = df['clean_text'].apply(create_list)\n"
   ]
  },
  {
   "cell_type": "code",
   "execution_count": null,
   "id": "e259e2ae",
   "metadata": {},
   "outputs": [],
   "source": []
  },
  {
   "cell_type": "code",
   "execution_count": 26,
   "id": "23a5a940",
   "metadata": {
    "scrolled": false
   },
   "outputs": [
    {
     "data": {
      "text/plain": [
       "0       [members, congress, standing, demanding, halt,...\n",
       "1       [epa, lab, work, houston, suffering, plans, re...\n",
       "2       [learn, epa, councils, upcoming, contract, cam...\n",
       "3       [afge, epa, members, gearing, contract, negoti...\n",
       "4       [afge, epa, leaders, pushing, clause, union, c...\n",
       "                              ...                        \n",
       "8494    [miss, reading, former, coal, miner, mobilizes...\n",
       "8495    [years, ago, today, colorado, national, guard,...\n",
       "8496                  [years, osha, kids, working, mines]\n",
       "8497    [woo, new, contract, ratified, consol, energy,...\n",
       "8498    [unite, statement, inflation, reduction, act, ...\n",
       "Name: clean_text_list, Length: 8499, dtype: object"
      ]
     },
     "execution_count": 26,
     "metadata": {},
     "output_type": "execute_result"
    }
   ],
   "source": [
    "words = df['clean_text_list']\n",
    "\n",
    "words"
   ]
  },
  {
   "cell_type": "code",
   "execution_count": 38,
   "id": "5f4b80c3",
   "metadata": {},
   "outputs": [
    {
     "name": "stdout",
     "output_type": "stream",
     "text": [
      "0           [read]\n",
      "1    [reply, care]\n",
      "2        [respect]\n",
      "dtype: object\n"
     ]
    }
   ],
   "source": [
    "import pandas as pd\n",
    "\n",
    "# Create a sample Series with lists\n",
    "my_series = pd.Series([['read', 're'], ['reply', 'care'], ['respect', 're']])\n",
    "\n",
    "# Define the remove_re function to remove a specified bad string from all lists\n",
    "def remove_string(lst, bad_string):\n",
    "    return [s for s in lst if s != bad_string]\n",
    "\n",
    "def remove_bad_string(series, bad_string):\n",
    "    return series.apply(lambda lst: remove_string(lst, bad_string))\n",
    "\n",
    "# Apply the remove_bad_string function to the Series\n",
    "my_series = remove_bad_string(my_series, 're')\n",
    "\n",
    "# Print the modified Series\n",
    "print(my_series)\n",
    "\n",
    "words = remove_bad_string(words, 're')\n",
    "words = remove_bad_string(words, 'll')\n",
    "words = remove_bad_string(words, 't')\n",
    "words = remove_bad_string(words, 'b')\n",
    "words = remove_bad_string(words, 'u')"
   ]
  },
  {
   "cell_type": "code",
   "execution_count": 39,
   "id": "ff98ec53",
   "metadata": {
    "scrolled": true
   },
   "outputs": [],
   "source": [
    "import gensim\n",
    "from gensim import corpora\n",
    "import pyLDAvis.gensim_models as gensimvis\n",
    "import pyLDAvis\n"
   ]
  },
  {
   "cell_type": "code",
   "execution_count": 40,
   "id": "7c033f07",
   "metadata": {
    "scrolled": true
   },
   "outputs": [
    {
     "data": {
      "text/plain": [
       "list"
      ]
     },
     "execution_count": 40,
     "metadata": {},
     "output_type": "execute_result"
    }
   ],
   "source": [
    "type(words[0])"
   ]
  },
  {
   "cell_type": "code",
   "execution_count": 41,
   "id": "7238b4ef",
   "metadata": {},
   "outputs": [
    {
     "name": "stderr",
     "output_type": "stream",
     "text": [
      "E:\\Anaconda\\lib\\site-packages\\pyLDAvis\\_prepare.py:243: FutureWarning: In a future version of pandas all arguments of DataFrame.drop except for the argument 'labels' will be keyword-only.\n",
      "  default_term_info = default_term_info.sort_values(\n"
     ]
    },
    {
     "name": "stdout",
     "output_type": "stream",
     "text": [
      "(0, '0.038*\"sustainable\" + 0.036*\"climate\" + 0.033*\"job\" + 0.026*\"good\" + 0.026*\"people\" + 0.023*\"energy\" + 0.020*\"labor\" + 0.018*\"local\" + 0.016*\"choice\" + 0.015*\"natural\"')\n",
      "(1, '0.030*\"say\" + 0.024*\"make\" + 0.018*\"working\" + 0.017*\"choice\" + 0.017*\"new\" + 0.016*\"us\" + 0.016*\"future\" + 0.016*\"tell\" + 0.013*\"made\" + 0.012*\"like\"')\n",
      "(2, '0.030*\"food\" + 0.026*\"coal\" + 0.024*\"union\" + 0.022*\"work\" + 0.019*\"need\" + 0.018*\"choice\" + 0.018*\"time\" + 0.017*\"water\" + 0.015*\"miners\" + 0.015*\"clean\"')\n",
      "(3, '0.077*\"green\" + 0.076*\"workers\" + 0.043*\"program\" + 0.036*\"jobs\" + 0.025*\"members\" + 0.015*\"oil\" + 0.015*\"safety\" + 0.013*\"choice\" + 0.013*\"housekeepers\" + 0.013*\"strike\"')\n",
      "(4, '0.035*\"via\" + 0.029*\"hurricane\" + 0.023*\"get\" + 0.020*\"now\" + 0.019*\"choice\" + 0.015*\"families\" + 0.015*\"heat\" + 0.013*\"board\" + 0.012*\"fix\" + 0.011*\"protect\"')\n"
     ]
    }
   ],
   "source": [
    "dictionary = corpora.Dictionary(words)\n",
    "corpus = [dictionary.doc2bow(word) for word in words]\n",
    "\n",
    "# define the number of topics to identify\n",
    "num_topics = 5\n",
    "\n",
    "\n",
    "# build the LDA model\n",
    "lda_model = gensim.models.LdaModel(corpus=corpus,\n",
    "                                   id2word=dictionary,\n",
    "                                   num_topics=num_topics,\n",
    "                                   random_state=100,\n",
    "                                   update_every=1,\n",
    "                                   chunksize=10,\n",
    "                                   passes=10,\n",
    "                                   alpha='auto',\n",
    "                                   per_word_topics=True)\n",
    "\n",
    "# visualize the topics using pyLDAvis\n",
    "vis_data = gensimvis.prepare(lda_model, corpus, dictionary)\n",
    "pyLDAvis.display(vis_data)\n",
    "\n",
    "# print the top words for each topic\n",
    "for topic in lda_model.print_topics():\n",
    "    print(topic)"
   ]
  },
  {
   "cell_type": "code",
   "execution_count": 42,
   "id": "95f96c15",
   "metadata": {},
   "outputs": [
    {
     "data": {
      "text/html": [
       "\n",
       "<link rel=\"stylesheet\" type=\"text/css\" href=\"https://cdn.jsdelivr.net/gh/bmabey/pyLDAvis@3.4.0/pyLDAvis/js/ldavis.v1.0.0.css\">\n",
       "\n",
       "\n",
       "<div id=\"ldavis_el942029932826533128538080839\" style=\"background-color:white;\"></div>\n",
       "<script type=\"text/javascript\">\n",
       "\n",
       "var ldavis_el942029932826533128538080839_data = {\"mdsDat\": {\"x\": [0.16722073440173557, 0.02720002401283791, -0.22904640785503222, 0.02223095385385954, 0.012394695586598977], \"y\": [-0.1838181392515973, 0.1182546212591045, -0.10578387068603254, 0.11879124770024851, 0.052556140978276746], \"topics\": [1, 2, 3, 4, 5], \"cluster\": [1, 1, 1, 1, 1], \"Freq\": [22.09728570443784, 21.150956700926073, 20.747744402343415, 19.86604513374648, 16.13796805854619]}, \"tinfo\": {\"Term\": [\"green\", \"workers\", \"program\", \"jobs\", \"via\", \"sustainable\", \"climate\", \"food\", \"job\", \"hurricane\", \"say\", \"coal\", \"members\", \"union\", \"make\", \"good\", \"people\", \"get\", \"work\", \"energy\", \"now\", \"need\", \"labor\", \"time\", \"working\", \"water\", \"new\", \"us\", \"future\", \"tell\", \"food\", \"coal\", \"union\", \"work\", \"need\", \"time\", \"water\", \"clean\", \"miners\", \"says\", \"real\", \"check\", \"state\", \"know\", \"power\", \"planet\", \"service\", \"one\", \"hard\", \"safe\", \"day\", \"full\", \"thousands\", \"right\", \"burning\", \"mine\", \"city\", \"money\", \"live\", \"crisis\", \"choice\", \"housekeepers\", \"via\", \"hurricane\", \"get\", \"now\", \"families\", \"heat\", \"protect\", \"fuel\", \"health\", \"fix\", \"board\", \"stay\", \"still\", \"disasters\", \"disaster\", \"environment\", \"economy\", \"lives\", \"impacted\", \"year\", \"pipeline\", \"want\", \"lost\", \"first\", \"national\", \"win\", \"let\", \"please\", \"california\", \"relief\", \"enough\", \"mines\", \"extra\", \"choice\", \"housekeepers\", \"workers\", \"green\", \"program\", \"jobs\", \"members\", \"oil\", \"safety\", \"strike\", \"back\", \"environmental\", \"help\", \"stand\", \"together\", \"act\", \"today\", \"w\", \"join\", \"worker\", \"come\", \"build\", \"emissions\", \"dc\", \"community\", \"business\", \"carbon\", \"protections\", \"strong\", \"care\", \"company\", \"standing\", \"rights\", \"housekeepers\", \"choice\", \"marriott\", \"say\", \"make\", \"working\", \"new\", \"us\", \"tell\", \"future\", \"made\", \"like\", \"support\", \"use\", \"action\", \"take\", \"pay\", \"gas\", \"years\", \"unions\", \"sure\", \"create\", \"report\", \"less\", \"better\", \"electric\", \"big\", \"industry\", \"read\", \"tax\", \"american\", \"cut\", \"infrastructure\", \"mining\", \"choice\", \"housekeepers\", \"sustainable\", \"climate\", \"job\", \"good\", \"people\", \"energy\", \"labor\", \"local\", \"natural\", \"fight\", \"change\", \"president\", \"video\", \"movement\", \"zero\", \"call\", \"thanks\", \"standards\", \"obama\", \"well\", \"going\", \"many\", \"millions\", \"talk\", \"statement\", \"inflation\", \"may\", \"cant\", \"high\", \"affected\", \"leading\", \"choice\", \"housekeepers\", \"sustainability\"], \"Freq\": [1670.0, 1647.0, 940.0, 787.0, 783.0, 650.0, 605.0, 701.0, 557.0, 645.0, 614.0, 613.0, 549.0, 546.0, 501.0, 442.0, 432.0, 504.0, 518.0, 389.0, 443.0, 437.0, 345.0, 415.0, 375.0, 386.0, 355.0, 340.0, 339.0, 337.0, 700.8002417041888, 612.7830300845803, 545.5959661692744, 517.4837346583593, 436.33356825425255, 414.65034309711257, 385.40468064752145, 344.94668777443593, 353.4700970476129, 256.2151110082035, 252.2518930296057, 234.04002894039618, 195.16270166879278, 183.63398830932866, 177.92013316011523, 170.40752978733153, 164.58791215778677, 161.77809960381634, 164.35629426408622, 150.74072629500571, 147.99165556057807, 141.7514000231059, 136.0134247399134, 131.89897136768363, 142.2983025252468, 126.60399895593395, 128.15207007279344, 127.71498955567584, 122.20374353188639, 114.52874920350538, 425.88593222122955, 219.08192785329192, 782.3808361723288, 644.2118012800482, 504.0940851084822, 442.8287610626248, 332.5178044435975, 323.459262612544, 251.11296017658296, 250.5789867928416, 241.54194489381564, 274.73961270963696, 296.9361796392922, 175.7528949772209, 160.57887991083646, 187.7911872151601, 146.8809289697947, 142.28264389086593, 137.98291515471885, 138.9258613586204, 131.41724200042134, 121.69848940908103, 113.52203227731599, 114.37054781140131, 115.88111901844499, 105.94900588400651, 106.14259803322699, 105.95130429476498, 105.0475959821525, 100.97524500269782, 96.29082620758761, 90.75417113272482, 100.24117589489926, 103.74048050771874, 133.04140417145152, 421.74011057274515, 231.24265291063207, 1646.8470211751314, 1669.983087564477, 940.0056804912705, 786.8770733368203, 548.8227497444004, 328.52824420050064, 316.4054188976315, 272.16076343441284, 247.14818659476884, 240.13299942150397, 221.7679793538741, 224.93391587682834, 220.40351470143474, 213.8523898849547, 180.75380451133765, 175.83672514645406, 164.32518825787517, 149.4754253774538, 140.68542717103446, 132.64267046194863, 138.7927806963042, 134.80215784697566, 124.73618025492699, 120.77682853565369, 124.65973634469496, 104.56889971408442, 97.9101710705181, 94.74037241640283, 92.29614890601347, 108.82339104815648, 185.7751209764054, 276.09419236756855, 286.3714042694278, 105.72570909972632, 613.4897726762549, 500.34970239865186, 374.3264006804974, 355.13162263296806, 340.01115597661266, 336.6781107467537, 339.00274280349635, 265.0626726539271, 257.3997083470121, 249.42593733039666, 235.32582976006393, 221.52167879376037, 218.51996323580715, 203.6187437719172, 182.95014598005253, 186.62199433786563, 175.11695725454373, 178.1732522751921, 171.68573094794579, 174.98470031602983, 173.6002329024282, 156.59810103111897, 151.82497309621036, 154.59771241593572, 144.1257257410191, 140.68355062769746, 136.88039403434036, 120.38594410026462, 133.03678203576808, 96.18139481069944, 100.85226611835566, 362.99927444595374, 219.8269080638709, 650.1316710492833, 604.5709356628405, 556.9115908972046, 441.19786324633077, 431.26136494059983, 388.4253049815855, 344.4845151017537, 296.7086263624097, 261.5403577488734, 198.49816785759947, 192.09520104945366, 172.95948269109778, 174.15519869665226, 162.95395449324744, 115.6658596908225, 110.12403646168522, 108.22584025185463, 100.7306472285726, 107.16306458877891, 95.09882091042795, 95.65555037187636, 90.71810437319543, 88.71838436440589, 91.75079250297782, 88.14358350946347, 87.32263265984915, 77.16102046806098, 95.05643413456515, 73.92756217889381, 74.81384685668404, 84.94290222990597, 267.7057541490758, 171.17802705412123, 92.6901982699987], \"Total\": [1670.0, 1647.0, 940.0, 787.0, 783.0, 650.0, 605.0, 701.0, 557.0, 645.0, 614.0, 613.0, 549.0, 546.0, 501.0, 442.0, 432.0, 504.0, 518.0, 389.0, 443.0, 437.0, 345.0, 415.0, 375.0, 386.0, 355.0, 340.0, 339.0, 337.0, 701.6561914652852, 613.6202286104003, 546.4053260429442, 518.3029849974049, 437.15292308561953, 415.4733220246412, 386.20953438889626, 345.7592784225937, 354.318832641413, 257.04001439957113, 253.1324976190127, 234.87492630190903, 195.99492561228357, 184.45246341358188, 178.74014246446004, 171.23126818232373, 165.41156000733952, 162.5888663073844, 165.21208660868234, 151.54612665900387, 148.79932832864804, 142.58904048736784, 136.83587980393523, 132.7122878737722, 143.21624409795788, 127.42470377563848, 128.9887827142969, 128.56076958415332, 123.03283201187803, 115.33790166681946, 1764.702475658432, 1117.4237082494847, 783.2143992496424, 645.0352932260848, 504.91850264310773, 443.6418024850523, 333.3327807483919, 324.275658838465, 251.9339872523858, 251.40851189238472, 242.3457253934566, 275.8187861907238, 298.3129614004217, 176.58878572037253, 161.39268204711175, 188.76799361555604, 147.7021385998719, 143.08961466696604, 138.7915114254493, 139.76106340631839, 132.26923017261512, 122.50906259417428, 114.32277783987433, 115.1825255183914, 116.72661467794424, 106.75599972455306, 106.95782436636459, 106.77738098346664, 105.8738186980509, 101.78135645552432, 97.12852013976503, 91.55612030002784, 101.15055681062708, 105.07679017562594, 148.51713349420794, 1764.702475658432, 1117.4237082494847, 1647.6658070528551, 1670.822421447602, 940.841032816617, 787.685806539519, 549.6326000162328, 329.3472785662397, 317.21296302102667, 272.98751581852594, 247.95974986538042, 240.94543527490973, 222.5727433736956, 225.76610675498674, 221.2416879262882, 214.66965005119752, 181.5603405640158, 176.65374841975586, 165.14060119056126, 150.29518946557047, 141.5323990637228, 133.45032058695034, 139.6475460432131, 135.64717231738666, 125.56276606691421, 121.61808477862957, 125.57036411922275, 105.39405747206527, 98.72635529173458, 95.56439135592503, 93.10948679368052, 109.85060353326939, 189.97829818604527, 1117.4237082494847, 1764.702475658432, 443.271565847637, 614.3377860013829, 501.15842187281015, 375.1342323593403, 355.93309655197976, 340.8120559326467, 337.49086374610226, 339.82433493715456, 265.86853041852993, 258.2061073047824, 250.2235736179873, 236.1500084827357, 222.33602420907528, 219.3344804077949, 204.43501009080796, 183.74459424019673, 187.44366776793083, 175.9281299908075, 179.00392214419819, 172.48635768248548, 175.8265234575275, 174.4421935696272, 157.3938820264284, 152.62945049536393, 155.4336030914717, 144.924545668925, 141.47925690813992, 137.68471778777223, 121.19169008813363, 133.96746858910473, 96.97043664697786, 101.69233227714086, 1764.702475658432, 1117.4237082494847, 650.9819870247368, 605.3930777288418, 557.7344181708769, 442.0099564809095, 432.08416481602177, 389.22882762835997, 345.29339565806225, 297.5128875708129, 262.38393385709855, 199.31461664263074, 192.90774760011743, 173.76320383847582, 175.00595063932013, 163.80025918618347, 116.48975056576013, 110.9288205412234, 109.03374704567238, 101.53611906653641, 108.08478996584151, 95.9238730170137, 96.49164630465893, 91.53093818190695, 89.54154068115176, 92.62487681295036, 89.00340610073904, 88.21971993281542, 77.97887897536391, 96.09085129830834, 74.74029831319913, 75.6376484398634, 85.94704202149583, 1764.702475658432, 1117.4237082494847, 455.04915594015296], \"Category\": [\"Default\", \"Default\", \"Default\", \"Default\", \"Default\", \"Default\", \"Default\", \"Default\", \"Default\", \"Default\", \"Default\", \"Default\", \"Default\", \"Default\", \"Default\", \"Default\", \"Default\", \"Default\", \"Default\", \"Default\", \"Default\", \"Default\", \"Default\", \"Default\", \"Default\", \"Default\", \"Default\", \"Default\", \"Default\", \"Default\", \"Topic1\", \"Topic1\", \"Topic1\", \"Topic1\", \"Topic1\", \"Topic1\", \"Topic1\", \"Topic1\", \"Topic1\", \"Topic1\", \"Topic1\", \"Topic1\", \"Topic1\", \"Topic1\", \"Topic1\", \"Topic1\", \"Topic1\", \"Topic1\", \"Topic1\", \"Topic1\", \"Topic1\", \"Topic1\", \"Topic1\", \"Topic1\", \"Topic1\", \"Topic1\", \"Topic1\", \"Topic1\", \"Topic1\", \"Topic1\", \"Topic1\", \"Topic1\", \"Topic2\", \"Topic2\", \"Topic2\", \"Topic2\", \"Topic2\", \"Topic2\", \"Topic2\", \"Topic2\", \"Topic2\", \"Topic2\", \"Topic2\", \"Topic2\", \"Topic2\", \"Topic2\", \"Topic2\", \"Topic2\", \"Topic2\", \"Topic2\", \"Topic2\", \"Topic2\", \"Topic2\", \"Topic2\", \"Topic2\", \"Topic2\", \"Topic2\", \"Topic2\", \"Topic2\", \"Topic2\", \"Topic2\", \"Topic2\", \"Topic2\", \"Topic2\", \"Topic2\", \"Topic2\", \"Topic2\", \"Topic3\", \"Topic3\", \"Topic3\", \"Topic3\", \"Topic3\", \"Topic3\", \"Topic3\", \"Topic3\", \"Topic3\", \"Topic3\", \"Topic3\", \"Topic3\", \"Topic3\", \"Topic3\", \"Topic3\", \"Topic3\", \"Topic3\", \"Topic3\", \"Topic3\", \"Topic3\", \"Topic3\", \"Topic3\", \"Topic3\", \"Topic3\", \"Topic3\", \"Topic3\", \"Topic3\", \"Topic3\", \"Topic3\", \"Topic3\", \"Topic3\", \"Topic3\", \"Topic3\", \"Topic3\", \"Topic4\", \"Topic4\", \"Topic4\", \"Topic4\", \"Topic4\", \"Topic4\", \"Topic4\", \"Topic4\", \"Topic4\", \"Topic4\", \"Topic4\", \"Topic4\", \"Topic4\", \"Topic4\", \"Topic4\", \"Topic4\", \"Topic4\", \"Topic4\", \"Topic4\", \"Topic4\", \"Topic4\", \"Topic4\", \"Topic4\", \"Topic4\", \"Topic4\", \"Topic4\", \"Topic4\", \"Topic4\", \"Topic4\", \"Topic4\", \"Topic4\", \"Topic4\", \"Topic4\", \"Topic5\", \"Topic5\", \"Topic5\", \"Topic5\", \"Topic5\", \"Topic5\", \"Topic5\", \"Topic5\", \"Topic5\", \"Topic5\", \"Topic5\", \"Topic5\", \"Topic5\", \"Topic5\", \"Topic5\", \"Topic5\", \"Topic5\", \"Topic5\", \"Topic5\", \"Topic5\", \"Topic5\", \"Topic5\", \"Topic5\", \"Topic5\", \"Topic5\", \"Topic5\", \"Topic5\", \"Topic5\", \"Topic5\", \"Topic5\", \"Topic5\", \"Topic5\", \"Topic5\", \"Topic5\"], \"logprob\": [30.0, 29.0, 28.0, 27.0, 26.0, 25.0, 24.0, 23.0, 22.0, 21.0, 20.0, 19.0, 18.0, 17.0, 16.0, 15.0, 14.0, 13.0, 12.0, 11.0, 10.0, 9.0, 8.0, 7.0, 6.0, 5.0, 4.0, 3.0, 2.0, 1.0, -3.4964, -3.6306, -3.7467, -3.7996, -3.9702, -4.0212, -4.0943, -4.2052, -4.1808, -4.5026, -4.5182, -4.5931, -4.7748, -4.8357, -4.8673, -4.9104, -4.9452, -4.9624, -4.9466, -5.0331, -5.0515, -5.0945, -5.1359, -5.1666, -5.0907, -5.2076, -5.1954, -5.1988, -5.2429, -5.3078, -3.9945, -4.6592, -3.3425, -3.5368, -3.7821, -3.9117, -4.1982, -4.2258, -4.479, -4.4811, -4.5178, -4.389, -4.3113, -4.8358, -4.9261, -4.7695, -5.0152, -5.047, -5.0777, -5.0709, -5.1265, -5.2033, -5.2729, -5.2654, -5.2523, -5.3419, -5.3401, -5.3419, -5.3504, -5.39, -5.4375, -5.4967, -5.3973, -5.363, -5.1142, -3.9605, -4.5614, -2.579, -2.565, -3.1397, -3.3175, -3.6778, -4.191, -4.2286, -4.3792, -4.4756, -4.5044, -4.584, -4.5698, -4.5901, -4.6203, -4.7885, -4.816, -4.8838, -4.9785, -5.0391, -5.0979, -5.0526, -5.0818, -5.1594, -5.1917, -5.16, -5.3358, -5.4016, -5.4345, -5.4606, -5.2959, -4.7611, -4.3649, -4.3283, -5.3248, -3.523, -3.7269, -4.0171, -4.0697, -4.1132, -4.1231, -4.1162, -4.3622, -4.3916, -4.423, -4.4812, -4.5417, -4.5553, -4.6259, -4.733, -4.7131, -4.7767, -4.7594, -4.7965, -4.7775, -4.7854, -4.8885, -4.9195, -4.9014, -4.9715, -4.9957, -5.0231, -5.1515, -5.0516, -5.3759, -5.3285, -4.0478, -4.5493, -3.2572, -3.3298, -3.4119, -3.6448, -3.6676, -3.7722, -3.8923, -4.0416, -4.1678, -4.4436, -4.4764, -4.5813, -4.5744, -4.6409, -4.9836, -5.0327, -5.0501, -5.1219, -5.06, -5.1794, -5.1736, -5.2266, -5.2489, -5.2153, -5.2554, -5.2647, -5.3884, -5.1799, -5.4313, -5.4193, -5.2924, -4.1445, -4.5916, -5.2051], \"loglift\": [30.0, 29.0, 28.0, 27.0, 26.0, 25.0, 24.0, 23.0, 22.0, 21.0, 20.0, 19.0, 18.0, 17.0, 16.0, 15.0, 14.0, 13.0, 12.0, 11.0, 10.0, 9.0, 8.0, 7.0, 6.0, 5.0, 4.0, 3.0, 2.0, 1.0, 1.5085, 1.5084, 1.5082, 1.5081, 1.5078, 1.5077, 1.5076, 1.5074, 1.5073, 1.5065, 1.5062, 1.5062, 1.5055, 1.5053, 1.5051, 1.5049, 1.5047, 1.5047, 1.5045, 1.5044, 1.5043, 1.5038, 1.5037, 1.5036, 1.5033, 1.5033, 1.5032, 1.5031, 1.503, 1.5027, 0.0881, -0.1196, 1.5524, 1.5522, 1.5519, 1.5517, 1.551, 1.551, 1.5502, 1.5502, 1.5502, 1.5496, 1.5489, 1.5487, 1.5484, 1.5483, 1.5479, 1.5478, 1.5476, 1.5475, 1.547, 1.5468, 1.5465, 1.5464, 1.5462, 1.5459, 1.5458, 1.5457, 1.5457, 1.5455, 1.5448, 1.5447, 1.5445, 1.5407, 1.4434, 0.1221, -0.0218, 1.5722, 1.5722, 1.5718, 1.5717, 1.5713, 1.5702, 1.5702, 1.5697, 1.5695, 1.5694, 1.5691, 1.569, 1.5689, 1.5689, 1.5683, 1.5681, 1.5678, 1.5673, 1.5667, 1.5667, 1.5666, 1.5665, 1.5661, 1.5658, 1.5655, 1.5649, 1.5644, 1.5641, 1.564, 1.5633, 1.5504, 0.1747, -0.2457, 0.1394, 1.6148, 1.6145, 1.614, 1.6139, 1.6138, 1.6137, 1.6137, 1.6131, 1.613, 1.613, 1.6127, 1.6125, 1.6124, 1.6122, 1.6118, 1.6118, 1.6115, 1.6115, 1.6115, 1.6114, 1.6113, 1.6111, 1.6109, 1.6108, 1.6106, 1.6105, 1.6103, 1.6095, 1.6092, 1.608, 1.6079, 0.0348, -0.0098, 1.8227, 1.8226, 1.8225, 1.8222, 1.8221, 1.8219, 1.8217, 1.8213, 1.8208, 1.8199, 1.8198, 1.8194, 1.8191, 1.8188, 1.8169, 1.8167, 1.8166, 1.816, 1.8154, 1.8154, 1.8153, 1.8151, 1.8148, 1.8145, 1.8143, 1.8138, 1.8135, 1.8132, 1.8131, 1.813, 1.8122, -0.0619, -0.0521, 0.2329]}, \"token.table\": {\"Topic\": [3, 4, 5, 4, 3, 4, 4, 2, 3, 1, 3, 2, 5, 5, 3, 3, 5, 1, 1, 2, 3, 4, 5, 1, 1, 5, 1, 3, 3, 3, 4, 1, 4, 1, 3, 2, 2, 2, 4, 3, 5, 2, 2, 3, 1, 2, 3, 4, 5, 2, 5, 2, 2, 1, 2, 1, 4, 4, 2, 5, 5, 3, 1, 2, 2, 3, 5, 1, 2, 3, 4, 5, 2, 2, 4, 5, 4, 5, 3, 3, 1, 5, 5, 4, 2, 4, 1, 2, 5, 2, 4, 4, 5, 1, 2, 3, 4, 5, 5, 3, 5, 1, 1, 2, 4, 1, 5, 2, 5, 1, 4, 2, 5, 3, 1, 4, 5, 2, 1, 2, 1, 5, 3, 2, 3, 4, 1, 2, 4, 1, 2, 3, 4, 1, 3, 4, 1, 1, 3, 5, 3, 1, 5, 2, 2, 3, 3, 4, 4, 1, 2, 3, 4, 5, 5, 4, 5, 4, 4, 5, 1, 1, 3, 3, 1, 4, 4, 4, 2, 5, 3, 2, 1, 5, 2, 1, 3, 3, 4, 2, 4, 5], \"Freq\": [0.9968805555371343, 0.9984886650273134, 0.9915696950788949, 0.9901668993371823, 0.9961294126732203, 0.9974974756238475, 0.9972103645360616, 0.9955987115200826, 0.996625556349586, 0.9915076386368156, 0.9949178218045892, 0.9883811661277128, 0.9916268780584552, 0.98864770908396, 0.9954578126517081, 0.9940941249358982, 0.9952943953189526, 0.9962749267634281, 0.2414004660139972, 0.23913379497161225, 0.16206697953052393, 0.20570039709643423, 0.15186695983979165, 0.9923343511467428, 0.9978040258932236, 0.9993507066015415, 0.9989892305020568, 0.9962383237531139, 0.9955180497806627, 0.9880840628394933, 0.9971803121764519, 0.9970703328052944, 0.9927783319391361, 0.9946281455862315, 0.995229002519327, 0.9952462529891054, 0.9959315474999425, 0.9942971193459879, 0.9958759564859795, 0.9953629973346418, 0.9968429172221199, 0.9886253042305923, 0.992385089096074, 0.996076143655384, 0.02693291949481369, 0.8955195732025552, 0.02693291949481369, 0.02693291949481369, 0.020199689621110267, 0.999001656099815, 0.9934043139194962, 0.9929184333760758, 0.9970314342904923, 0.9990647963015692, 0.9983751071540505, 0.9958689638042693, 0.9975742321770246, 0.9959476672319221, 0.9981808893152071, 0.9949047785638705, 0.9977150820561819, 0.9995077744725921, 0.99266345075858, 0.9985734207075644, 0.9960661282964182, 0.9974267137789915, 0.9900950580890524, 0.19598653436759225, 0.20672552255211785, 0.24699672824408886, 0.19688145004963606, 0.15303058162948985, 0.9983949820467856, 0.990404191731072, 0.9936205032442393, 0.9861740670482256, 0.9899924484148633, 0.9986832116739622, 0.9991293399807063, 0.9930931510340992, 0.9975469917549035, 0.9962542125788497, 0.9889810981364667, 0.9974650996953286, 0.9917466026181316, 0.9953288970684232, 0.9916052325628145, 0.9945545390985915, 0.9982760828446774, 0.9937750728062403, 0.9967332334625588, 0.997688511611795, 0.9941993582448398, 0.18724413293075756, 0.20754771360999633, 0.23913106133325665, 0.20754771360999633, 0.15791673861630157, 0.9874468703804633, 0.9988490493172819, 0.9939520732273289, 0.9966670216759046, 0.9962778364571219, 0.9897523499354501, 0.9931918930204683, 0.9956380971740664, 0.9951144205133775, 0.9910448405991904, 0.9985367478433048, 0.9973626549778469, 0.9973784495990429, 0.9985533318062967, 0.9899635280210626, 0.9989455550756285, 0.9963781879979955, 0.9978721350583996, 0.9974908480701129, 0.9971766095438441, 0.992809326267369, 0.9923231868513587, 0.9958591144985397, 0.995607793700758, 0.9991060840383426, 0.9962927302402825, 0.9962611035051031, 0.996612528800239, 0.9955260678511646, 0.9939259079763816, 0.9952992106010267, 0.9946328415764357, 0.010527518243380647, 0.9790591966344002, 0.010527518243380647, 0.9963963007762466, 0.9961761870969117, 0.9978223934261145, 0.9959538813363338, 0.9975119029932294, 0.9966066352208565, 0.9947199176857932, 0.9922567240787914, 0.9949237174933206, 0.9887262056060716, 0.9966657807970611, 0.9975669154131962, 0.9963825605153959, 0.992642741752309, 0.9951100785577648, 0.9943916192887133, 0.21536134881412403, 0.17800274748922496, 0.17580518270540738, 0.22634917273321198, 0.20437352489503607, 0.99849152965165, 0.9984750213136894, 0.9932536826557702, 0.9950269151233788, 0.998545549527908, 0.9905190175181325, 0.9938913696821848, 0.9988607643390082, 0.9969137502040638, 0.9943876403315912, 0.999258195292715, 0.9947243798313778, 0.9976172910596591, 0.9951301781010955, 0.9984494676670834, 0.9942519060886487, 0.9962992666410766, 0.9897334642293237, 0.9968681912765046, 0.9903686852088444, 0.9927196099369865, 0.9974860553862883, 0.9913823624683132, 0.9995959089215755, 0.9969764626592281, 0.9958446943973394, 0.9976330607845333, 0.9957957626024475], \"Term\": [\"act\", \"action\", \"affected\", \"american\", \"back\", \"better\", \"big\", \"board\", \"build\", \"burning\", \"business\", \"california\", \"call\", \"cant\", \"carbon\", \"care\", \"change\", \"check\", \"choice\", \"choice\", \"choice\", \"choice\", \"choice\", \"city\", \"clean\", \"climate\", \"coal\", \"come\", \"community\", \"company\", \"create\", \"crisis\", \"cut\", \"day\", \"dc\", \"disaster\", \"disasters\", \"economy\", \"electric\", \"emissions\", \"energy\", \"enough\", \"environment\", \"environmental\", \"extra\", \"extra\", \"extra\", \"extra\", \"extra\", \"families\", \"fight\", \"first\", \"fix\", \"food\", \"fuel\", \"full\", \"future\", \"gas\", \"get\", \"going\", \"good\", \"green\", \"hard\", \"health\", \"heat\", \"help\", \"high\", \"housekeepers\", \"housekeepers\", \"housekeepers\", \"housekeepers\", \"housekeepers\", \"hurricane\", \"impacted\", \"industry\", \"inflation\", \"infrastructure\", \"job\", \"jobs\", \"join\", \"know\", \"labor\", \"leading\", \"less\", \"let\", \"like\", \"live\", \"lives\", \"local\", \"lost\", \"made\", \"make\", \"many\", \"marriott\", \"marriott\", \"marriott\", \"marriott\", \"marriott\", \"may\", \"members\", \"millions\", \"mine\", \"miners\", \"mines\", \"mining\", \"money\", \"movement\", \"national\", \"natural\", \"need\", \"new\", \"now\", \"obama\", \"oil\", \"one\", \"pay\", \"people\", \"pipeline\", \"planet\", \"please\", \"power\", \"president\", \"program\", \"protect\", \"protections\", \"read\", \"real\", \"relief\", \"report\", \"right\", \"rights\", \"rights\", \"rights\", \"safe\", \"safety\", \"say\", \"says\", \"service\", \"stand\", \"standards\", \"standing\", \"state\", \"statement\", \"stay\", \"still\", \"strike\", \"strong\", \"support\", \"sure\", \"sustainability\", \"sustainability\", \"sustainability\", \"sustainability\", \"sustainability\", \"sustainable\", \"take\", \"talk\", \"tax\", \"tell\", \"thanks\", \"thousands\", \"time\", \"today\", \"together\", \"union\", \"unions\", \"us\", \"use\", \"via\", \"video\", \"w\", \"want\", \"water\", \"well\", \"win\", \"work\", \"worker\", \"workers\", \"working\", \"year\", \"years\", \"zero\"]}, \"R\": 30, \"lambda.step\": 0.01, \"plot.opts\": {\"xlab\": \"PC1\", \"ylab\": \"PC2\"}, \"topic.order\": [3, 5, 4, 2, 1]};\n",
       "\n",
       "function LDAvis_load_lib(url, callback){\n",
       "  var s = document.createElement('script');\n",
       "  s.src = url;\n",
       "  s.async = true;\n",
       "  s.onreadystatechange = s.onload = callback;\n",
       "  s.onerror = function(){console.warn(\"failed to load library \" + url);};\n",
       "  document.getElementsByTagName(\"head\")[0].appendChild(s);\n",
       "}\n",
       "\n",
       "if(typeof(LDAvis) !== \"undefined\"){\n",
       "   // already loaded: just create the visualization\n",
       "   !function(LDAvis){\n",
       "       new LDAvis(\"#\" + \"ldavis_el942029932826533128538080839\", ldavis_el942029932826533128538080839_data);\n",
       "   }(LDAvis);\n",
       "}else if(typeof define === \"function\" && define.amd){\n",
       "   // require.js is available: use it to load d3/LDAvis\n",
       "   require.config({paths: {d3: \"https://d3js.org/d3.v5\"}});\n",
       "   require([\"d3\"], function(d3){\n",
       "      window.d3 = d3;\n",
       "      LDAvis_load_lib(\"https://cdn.jsdelivr.net/gh/bmabey/pyLDAvis@3.4.0/pyLDAvis/js/ldavis.v3.0.0.js\", function(){\n",
       "        new LDAvis(\"#\" + \"ldavis_el942029932826533128538080839\", ldavis_el942029932826533128538080839_data);\n",
       "      });\n",
       "    });\n",
       "}else{\n",
       "    // require.js not available: dynamically load d3 & LDAvis\n",
       "    LDAvis_load_lib(\"https://d3js.org/d3.v5.js\", function(){\n",
       "         LDAvis_load_lib(\"https://cdn.jsdelivr.net/gh/bmabey/pyLDAvis@3.4.0/pyLDAvis/js/ldavis.v3.0.0.js\", function(){\n",
       "                 new LDAvis(\"#\" + \"ldavis_el942029932826533128538080839\", ldavis_el942029932826533128538080839_data);\n",
       "            })\n",
       "         });\n",
       "}\n",
       "</script>"
      ],
      "text/plain": [
       "<IPython.core.display.HTML object>"
      ]
     },
     "execution_count": 42,
     "metadata": {},
     "output_type": "execute_result"
    }
   ],
   "source": [
    "pyLDAvis.display(vis_data)"
   ]
  },
  {
   "cell_type": "markdown",
   "id": "786cea39",
   "metadata": {},
   "source": [
    "# Analyzing all of twitter data to see the different topics that Unions talk about"
   ]
  },
  {
   "cell_type": "code",
   "execution_count": 12,
   "id": "3ff9e1bf",
   "metadata": {
    "scrolled": true
   },
   "outputs": [
    {
     "name": "stderr",
     "output_type": "stream",
     "text": [
      "/Users/jeffreypan/opt/anaconda3/lib/python3.8/site-packages/ipykernel/ipkernel.py:287: DeprecationWarning: `should_run_async` will not call `transform_cell` automatically in the future. Please pass the result to `transformed_cell` argument and any exception that happen during thetransform in `preprocessing_exc_tuple` in IPython 7.17 and above.\n",
      "  and should_run_async(code)\n"
     ]
    },
    {
     "data": {
      "text/plain": [
       "\"{'retweet_count': 76, 'reply_count': 5, 'like_count': 311, 'quote_count': 6}\""
      ]
     },
     "execution_count": 12,
     "metadata": {},
     "output_type": "execute_result"
    }
   ],
   "source": [
    "df_all = pd.read_csv('alldata 0802.csv')\n",
    "\n",
    "df_all['public_metrics'][0]"
   ]
  },
  {
   "cell_type": "code",
   "execution_count": 13,
   "id": "c76ebe6e",
   "metadata": {},
   "outputs": [
    {
     "name": "stderr",
     "output_type": "stream",
     "text": [
      "/Users/jeffreypan/opt/anaconda3/lib/python3.8/site-packages/ipykernel/ipkernel.py:287: DeprecationWarning: `should_run_async` will not call `transform_cell` automatically in the future. Please pass the result to `transformed_cell` argument and any exception that happen during thetransform in `preprocessing_exc_tuple` in IPython 7.17 and above.\n",
      "  and should_run_async(code)\n"
     ]
    }
   ],
   "source": [
    "def res(string_list):\n",
    "    return ast.literal_eval(string_list)\n",
    "\n",
    "df_all['public_metrics'] = df_all['public_metrics'].apply(res)"
   ]
  },
  {
   "cell_type": "code",
   "execution_count": 14,
   "id": "6bc0f40a",
   "metadata": {},
   "outputs": [
    {
     "name": "stderr",
     "output_type": "stream",
     "text": [
      "/Users/jeffreypan/opt/anaconda3/lib/python3.8/site-packages/ipykernel/ipkernel.py:287: DeprecationWarning: `should_run_async` will not call `transform_cell` automatically in the future. Please pass the result to `transformed_cell` argument and any exception that happen during thetransform in `preprocessing_exc_tuple` in IPython 7.17 and above.\n",
      "  and should_run_async(code)\n"
     ]
    },
    {
     "data": {
      "text/plain": [
       "{'retweet_count': 76, 'reply_count': 5, 'like_count': 311, 'quote_count': 6}"
      ]
     },
     "execution_count": 14,
     "metadata": {},
     "output_type": "execute_result"
    }
   ],
   "source": [
    "df_all['public_metrics'][0]"
   ]
  },
  {
   "cell_type": "code",
   "execution_count": null,
   "id": "f09c1b3e",
   "metadata": {},
   "outputs": [],
   "source": []
  }
 ],
 "metadata": {
  "kernelspec": {
   "display_name": "Python 3 (ipykernel)",
   "language": "python",
   "name": "python3"
  },
  "language_info": {
   "codemirror_mode": {
    "name": "ipython",
    "version": 3
   },
   "file_extension": ".py",
   "mimetype": "text/x-python",
   "name": "python",
   "nbconvert_exporter": "python",
   "pygments_lexer": "ipython3",
   "version": "3.9.13"
  }
 },
 "nbformat": 4,
 "nbformat_minor": 5
}
